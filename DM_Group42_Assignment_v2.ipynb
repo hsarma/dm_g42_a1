{
  "nbformat": 4,
  "nbformat_minor": 0,
  "metadata": {
    "colab": {
      "name": "DM_Group42_Assignment_v2.ipynb",
      "provenance": [],
      "collapsed_sections": [
        "GAADimUWWXc_",
        "fEA0L-1ryRgL",
        "lA5AJvtOyRgM",
        "xHXoJup4yRgM",
        "u3dT5jfSWXdH",
        "zwtMgBRIWXdI",
        "QPGnpJkKWXdJ",
        "CHOljHg7WXdR",
        "-TLRwccdKtgV",
        "BS-8eKyn3dVC",
        "8qpJfqG653jC",
        "CPsNnX7tQqE5"
      ],
      "include_colab_link": true
    },
    "kernelspec": {
      "display_name": "Python 3",
      "language": "python",
      "name": "python3"
    },
    "language_info": {
      "codemirror_mode": {
        "name": "ipython",
        "version": 3
      },
      "file_extension": ".py",
      "mimetype": "text/x-python",
      "name": "python",
      "nbconvert_exporter": "python",
      "pygments_lexer": "ipython3",
      "version": "3.8.5"
    }
  },
  "cells": [
    {
      "cell_type": "markdown",
      "metadata": {
        "id": "view-in-github",
        "colab_type": "text"
      },
      "source": [
        "<a href=\"https://colab.research.google.com/github/hsarma/dm_g42_a1/blob/main/DM_Group42_Assignment_v2.ipynb\" target=\"_parent\"><img src=\"https://colab.research.google.com/assets/colab-badge.svg\" alt=\"Open In Colab\"/></a>"
      ]
    },
    {
      "cell_type": "markdown",
      "metadata": {
        "id": "4dekHQpSWXc6"
      },
      "source": [
        "# Data Mining - Group 42 - Assignment 1\n",
        "## DataSet - Credit Cards Clients Data Set \n",
        "\n",
        "##*Contributors*\n",
        "- PAVAN CHALLA - 2020MT12261\n",
        "- K HARIHARA PRASAD SARMA - 2020MT12184\n",
        "- ABHIRAJ ANAND - 2020MT12283"
      ]
    },
    {
      "cell_type": "markdown",
      "metadata": {
        "_cell_guid": "41ecf8cf-6358-4bfd-88b7-a721976fccfc",
        "_uuid": "a74f371efbfb4ad4087242386c893e69c72d720d",
        "id": "GAADimUWWXc_"
      },
      "source": [
        "# Introduction\n",
        "Data mining is the process of working with large data sets to identify patterns and establish relationships to solve problems through data analysis. As a part of the assignment, you will be learning to design and implement the complete DM processing pipeline and gain an understanding how to perform preprocessing to analysis to draw insights for a given dataset._Credit_Card to improve basic skills of data cleaning, data analysis, data visualization and machine learning. It is primarily intended to help myself understanding what to do and how. Any feedback is welcome.\n",
        "\n",
        "Different tasks involved in the assignment\n",
        "--\n",
        "1. Dataset Selection\n",
        "\n",
        "    Selected Dataset - https://www.kaggle.com/uciml/default-of-credit-card-clients-dataset\n",
        "\n",
        "    Once you decide the dataset, you would need to study and understand the dataset in detail and identify the key questions or insights that you would like to draw from the dataset.\n",
        "\n",
        "\n",
        "2. Data Preprocessing and Visualization\n",
        "\n",
        "    You would need to perform exploratory data analysis along with suitable visualizations and identify/employ different preprocessing techniques suitable for the dataset. You should implement appropriate data preprocessing techniques studied in the class in addition to any data cleaning (if required) and show the results.\n",
        "\n",
        "\n",
        "3. Data Analysis\n",
        "\n",
        "    Based on the insights that you wish to draw from the dataset, you would need to identify the key DM tasks like association analysis, clustering, classification of outlier analysis that are applicable for the dataset. You should implement atleast 3 data analysis\n"
      ]
    },
    {
      "cell_type": "markdown",
      "metadata": {
        "id": "mGZKmwM4yRgL"
      },
      "source": [
        "## Features/Variables\n",
        "There are 25 Features or variables:\n",
        "\n",
        "* ID: ID of each client\n",
        "* LIMIT_BAL: Amount of given credit in NT dollars (includes individual and family/supplementary credit\n",
        "* SEX: Gender (1=male, 2=female)\n",
        "* EDUCATION: (1=graduate school, 2=university, 3=high school, 4=others, 5=unknown, 6=unknown)\n",
        "* MARRIAGE: Marital status (1=married, 2=single, 3=others)\n",
        "* AGE: Age in years\n",
        "* PAY_0: Repayment status in September, 2005 (-1=pay duly, 1=payment delay for one month, 2=payment delay for two months, ... 8=payment delay for eight months, 9=payment delay for nine months and above)\n",
        "* PAY_2: Repayment status in August, 2005 (scale same as above)\n",
        "* PAY_3: Repayment status in July, 2005 (scale same as above)\n",
        "* PAY_4: Repayment status in June, 2005 (scale same as above)\n",
        "* PAY_5: Repayment status in May, 2005 (scale same as above)\n",
        "* PAY_6: Repayment status in April, 2005 (scale same as above)\n",
        "* BILL_AMT1: Amount of bill statement in September, 2005 (NT dollar)\n",
        "* BILL_AMT2: Amount of bill statement in August, 2005 (NT dollar)\n",
        "* BILL_AMT3: Amount of bill statement in July, 2005 (NT dollar)\n",
        "* BILL_AMT4: Amount of bill statement in June, 2005 (NT dollar)\n",
        "* BILL_AMT5: Amount of bill statement in May, 2005 (NT dollar)\n",
        "* BILL_AMT6: Amount of bill statement in April, 2005 (NT dollar)\n",
        "* PAY_AMT1: Amount of previous payment in September, 2005 (NT dollar)\n",
        "* PAY_AMT2: Amount of previous payment in August, 2005 (NT dollar)\n",
        "* PAY_AMT3: Amount of previous payment in July, 2005 (NT dollar)\n",
        "* PAY_AMT4: Amount of previous payment in June, 2005 (NT dollar)\n",
        "* PAY_AMT5: Amount of previous payment in May, 2005 (NT dollar)\n",
        "* PAY_AMT6: Amount of previous payment in April, 2005 (NT dollar)\n",
        "* default.payment.next.month: Default payment (1=yes, 0=no)"
      ]
    },
    {
      "cell_type": "markdown",
      "metadata": {
        "id": "fEA0L-1ryRgL"
      },
      "source": [
        "# 1. Key Questions and insights that need to be derived from the Dataset\n",
        "\n",
        "1. How well can we month by month predict the default of the set of clients? \n",
        "2. Can I predict default a month in advance?\n",
        "3. How does the probability of default payment vary by categories of different demographic variables?\n",
        "4. Which variables are the strongest predictors of default payment?"
      ]
    },
    {
      "cell_type": "markdown",
      "metadata": {
        "id": "GnQHrOOSyRgL"
      },
      "source": [
        "* Data Preprocessing and Visualization\n",
        "    * Data exploration: just to see what we have.\n",
        "    * Data Cleaning: time to make choices about undocumented labels\n",
        "    * Feature engineering: time to be creative in order to select relevant features\n",
        "* Data Analysis"
      ]
    },
    {
      "cell_type": "markdown",
      "metadata": {
        "id": "lA5AJvtOyRgM"
      },
      "source": [
        "# 2. Data Preprocessing and Visualization"
      ]
    },
    {
      "cell_type": "markdown",
      "metadata": {
        "id": "xHXoJup4yRgM"
      },
      "source": [
        "## 2.1 Data exploration"
      ]
    },
    {
      "cell_type": "code",
      "metadata": {
        "_cell_guid": "2bbbd9be-d5d6-4607-9786-072d67b87303",
        "_uuid": "5ba24adc75c0d29f38ff44a0718bb2d8034ba584",
        "id": "6kohxZKoWXdB"
      },
      "source": [
        "# Import basic libraries\n",
        "import requests, io # to load data set from a URL\n",
        "import numpy as np # linear algebra\n",
        "import pandas as pd # data processing, CSV file I/O (e.g. pd.read_csv)\n",
        "\n",
        "# import visualization libraries\n",
        "import seaborn as sns\n",
        "import matplotlib.pyplot as plt\n",
        "\n",
        "#from ggplot import *\n",
        "%matplotlib inline"
      ],
      "execution_count": 1,
      "outputs": []
    },
    {
      "cell_type": "code",
      "metadata": {
        "_cell_guid": "373de127-2f57-439e-b3fb-febc86cf821c",
        "_uuid": "866eacd59f720b77731a2e041471b5999ac4906c",
        "colab": {
          "base_uri": "https://localhost:8080/"
        },
        "id": "zZBCpxVgWXdC",
        "outputId": "72d35d66-7ccc-4dde-8b71-572a19eb379d"
      },
      "source": [
        "DATA_DOWNLOAD_URL='https://raw.githubusercontent.com/hsarma/dm_g42_a1/main/UCI_Credit_Card.csv'\n",
        "\n",
        "r = requests.get(DATA_DOWNLOAD_URL)\n",
        "df = pd.read_csv(io.BytesIO(r.content))\n",
        "\n",
        "df.sample(5)\n",
        "num_observations = df.shape[0] \n",
        "num_cols = df.shape[1]\n",
        "print('Dataset has ', num_observations , ' observations and ', num_cols , ' columns')"
      ],
      "execution_count": 2,
      "outputs": [
        {
          "output_type": "stream",
          "text": [
            "Dataset has  30000  observations and  25  columns\n"
          ],
          "name": "stdout"
        }
      ]
    },
    {
      "cell_type": "markdown",
      "metadata": {
        "_cell_guid": "c855e309-85e8-426f-ab80-050b16db868c",
        "_uuid": "391f4b0edb2c804475fd6e35cd738025095f00b5",
        "id": "jrAh1ph5WXdD"
      },
      "source": [
        "Let's find out if there are missing or anomalous data"
      ]
    },
    {
      "cell_type": "code",
      "metadata": {
        "_cell_guid": "f6bc9ca2-b40e-4346-838a-922e110d5f20",
        "_uuid": "bf10536e7bcca34164565abf554bffe558ed0d5f",
        "colab": {
          "base_uri": "https://localhost:8080/"
        },
        "id": "ytgx52NuWXdD",
        "outputId": "8e4b44b3-2f53-4835-c140-0fb9628a7169"
      },
      "source": [
        "df.isnull().sum()"
      ],
      "execution_count": 3,
      "outputs": [
        {
          "output_type": "execute_result",
          "data": {
            "text/plain": [
              "ID                            0\n",
              "LIMIT_BAL                     0\n",
              "SEX                           0\n",
              "EDUCATION                     0\n",
              "MARRIAGE                      0\n",
              "AGE                           0\n",
              "PAY_0                         0\n",
              "PAY_2                         0\n",
              "PAY_3                         0\n",
              "PAY_4                         0\n",
              "PAY_5                         0\n",
              "PAY_6                         0\n",
              "BILL_AMT1                     0\n",
              "BILL_AMT2                     0\n",
              "BILL_AMT3                     0\n",
              "BILL_AMT4                     0\n",
              "BILL_AMT5                     0\n",
              "BILL_AMT6                     0\n",
              "PAY_AMT1                      0\n",
              "PAY_AMT2                      0\n",
              "PAY_AMT3                      0\n",
              "PAY_AMT4                      0\n",
              "PAY_AMT5                      0\n",
              "PAY_AMT6                      0\n",
              "default.payment.next.month    0\n",
              "dtype: int64"
            ]
          },
          "metadata": {
            "tags": []
          },
          "execution_count": 3
        }
      ]
    },
    {
      "cell_type": "markdown",
      "metadata": {
        "id": "zyJi77j0WXdE"
      },
      "source": [
        "Above clearly suggests that this data set does not have any missing values."
      ]
    },
    {
      "cell_type": "code",
      "metadata": {
        "_cell_guid": "f1796586-38ba-4b68-990e-33323cbc2856",
        "_uuid": "7ff6b6f89760fafc327b3852e03333fb547ff784",
        "colab": {
          "base_uri": "https://localhost:8080/",
          "height": 297
        },
        "id": "Z1X6dZb6WXdE",
        "outputId": "82e28bbb-a81a-4774-d6d1-1070e7a587f2"
      },
      "source": [
        "# Categorical variables description\n",
        "df[['SEX', 'EDUCATION', 'MARRIAGE']].describe()"
      ],
      "execution_count": 4,
      "outputs": [
        {
          "output_type": "execute_result",
          "data": {
            "text/html": [
              "<div>\n",
              "<style scoped>\n",
              "    .dataframe tbody tr th:only-of-type {\n",
              "        vertical-align: middle;\n",
              "    }\n",
              "\n",
              "    .dataframe tbody tr th {\n",
              "        vertical-align: top;\n",
              "    }\n",
              "\n",
              "    .dataframe thead th {\n",
              "        text-align: right;\n",
              "    }\n",
              "</style>\n",
              "<table border=\"1\" class=\"dataframe\">\n",
              "  <thead>\n",
              "    <tr style=\"text-align: right;\">\n",
              "      <th></th>\n",
              "      <th>SEX</th>\n",
              "      <th>EDUCATION</th>\n",
              "      <th>MARRIAGE</th>\n",
              "    </tr>\n",
              "  </thead>\n",
              "  <tbody>\n",
              "    <tr>\n",
              "      <th>count</th>\n",
              "      <td>30000.000000</td>\n",
              "      <td>30000.000000</td>\n",
              "      <td>30000.000000</td>\n",
              "    </tr>\n",
              "    <tr>\n",
              "      <th>mean</th>\n",
              "      <td>1.603733</td>\n",
              "      <td>1.853133</td>\n",
              "      <td>1.551867</td>\n",
              "    </tr>\n",
              "    <tr>\n",
              "      <th>std</th>\n",
              "      <td>0.489129</td>\n",
              "      <td>0.790349</td>\n",
              "      <td>0.521970</td>\n",
              "    </tr>\n",
              "    <tr>\n",
              "      <th>min</th>\n",
              "      <td>1.000000</td>\n",
              "      <td>0.000000</td>\n",
              "      <td>0.000000</td>\n",
              "    </tr>\n",
              "    <tr>\n",
              "      <th>25%</th>\n",
              "      <td>1.000000</td>\n",
              "      <td>1.000000</td>\n",
              "      <td>1.000000</td>\n",
              "    </tr>\n",
              "    <tr>\n",
              "      <th>50%</th>\n",
              "      <td>2.000000</td>\n",
              "      <td>2.000000</td>\n",
              "      <td>2.000000</td>\n",
              "    </tr>\n",
              "    <tr>\n",
              "      <th>75%</th>\n",
              "      <td>2.000000</td>\n",
              "      <td>2.000000</td>\n",
              "      <td>2.000000</td>\n",
              "    </tr>\n",
              "    <tr>\n",
              "      <th>max</th>\n",
              "      <td>2.000000</td>\n",
              "      <td>6.000000</td>\n",
              "      <td>3.000000</td>\n",
              "    </tr>\n",
              "  </tbody>\n",
              "</table>\n",
              "</div>"
            ],
            "text/plain": [
              "                SEX     EDUCATION      MARRIAGE\n",
              "count  30000.000000  30000.000000  30000.000000\n",
              "mean       1.603733      1.853133      1.551867\n",
              "std        0.489129      0.790349      0.521970\n",
              "min        1.000000      0.000000      0.000000\n",
              "25%        1.000000      1.000000      1.000000\n",
              "50%        2.000000      2.000000      2.000000\n",
              "75%        2.000000      2.000000      2.000000\n",
              "max        2.000000      6.000000      3.000000"
            ]
          },
          "metadata": {
            "tags": []
          },
          "execution_count": 4
        }
      ]
    },
    {
      "cell_type": "markdown",
      "metadata": {
        "_cell_guid": "0f1e309a-146d-4784-86cd-75bfe13e60e9",
        "_uuid": "53976f540202b3d7d62074e0fb9b5e3803664a55",
        "id": "Iuo5VbvsWXdE"
      },
      "source": [
        "No missing data, but a few anomalous things:\n",
        "* EDUCATION has category 5 and 6 that are unlabelled. Also, category 0 is undocumented.\n",
        "* MARRIAGE has a label 0 that is undocumented"
      ]
    },
    {
      "cell_type": "code",
      "metadata": {
        "_cell_guid": "39110051-7da4-4e26-900e-2eea1e8efd28",
        "_uuid": "1a40fe4404d10cc9f0073c2fb2b87f4b9f40d4ac",
        "colab": {
          "base_uri": "https://localhost:8080/",
          "height": 297
        },
        "id": "WiprwjlNWXdE",
        "outputId": "10781c33-0752-47a7-fcef-cde4361d0355"
      },
      "source": [
        "# Payment delay description\n",
        "df[['PAY_0', 'PAY_2', 'PAY_3', 'PAY_4', 'PAY_5', 'PAY_6']].describe()"
      ],
      "execution_count": 5,
      "outputs": [
        {
          "output_type": "execute_result",
          "data": {
            "text/html": [
              "<div>\n",
              "<style scoped>\n",
              "    .dataframe tbody tr th:only-of-type {\n",
              "        vertical-align: middle;\n",
              "    }\n",
              "\n",
              "    .dataframe tbody tr th {\n",
              "        vertical-align: top;\n",
              "    }\n",
              "\n",
              "    .dataframe thead th {\n",
              "        text-align: right;\n",
              "    }\n",
              "</style>\n",
              "<table border=\"1\" class=\"dataframe\">\n",
              "  <thead>\n",
              "    <tr style=\"text-align: right;\">\n",
              "      <th></th>\n",
              "      <th>PAY_0</th>\n",
              "      <th>PAY_2</th>\n",
              "      <th>PAY_3</th>\n",
              "      <th>PAY_4</th>\n",
              "      <th>PAY_5</th>\n",
              "      <th>PAY_6</th>\n",
              "    </tr>\n",
              "  </thead>\n",
              "  <tbody>\n",
              "    <tr>\n",
              "      <th>count</th>\n",
              "      <td>30000.000000</td>\n",
              "      <td>30000.000000</td>\n",
              "      <td>30000.000000</td>\n",
              "      <td>30000.000000</td>\n",
              "      <td>30000.000000</td>\n",
              "      <td>30000.000000</td>\n",
              "    </tr>\n",
              "    <tr>\n",
              "      <th>mean</th>\n",
              "      <td>-0.016700</td>\n",
              "      <td>-0.133767</td>\n",
              "      <td>-0.166200</td>\n",
              "      <td>-0.220667</td>\n",
              "      <td>-0.266200</td>\n",
              "      <td>-0.291100</td>\n",
              "    </tr>\n",
              "    <tr>\n",
              "      <th>std</th>\n",
              "      <td>1.123802</td>\n",
              "      <td>1.197186</td>\n",
              "      <td>1.196868</td>\n",
              "      <td>1.169139</td>\n",
              "      <td>1.133187</td>\n",
              "      <td>1.149988</td>\n",
              "    </tr>\n",
              "    <tr>\n",
              "      <th>min</th>\n",
              "      <td>-2.000000</td>\n",
              "      <td>-2.000000</td>\n",
              "      <td>-2.000000</td>\n",
              "      <td>-2.000000</td>\n",
              "      <td>-2.000000</td>\n",
              "      <td>-2.000000</td>\n",
              "    </tr>\n",
              "    <tr>\n",
              "      <th>25%</th>\n",
              "      <td>-1.000000</td>\n",
              "      <td>-1.000000</td>\n",
              "      <td>-1.000000</td>\n",
              "      <td>-1.000000</td>\n",
              "      <td>-1.000000</td>\n",
              "      <td>-1.000000</td>\n",
              "    </tr>\n",
              "    <tr>\n",
              "      <th>50%</th>\n",
              "      <td>0.000000</td>\n",
              "      <td>0.000000</td>\n",
              "      <td>0.000000</td>\n",
              "      <td>0.000000</td>\n",
              "      <td>0.000000</td>\n",
              "      <td>0.000000</td>\n",
              "    </tr>\n",
              "    <tr>\n",
              "      <th>75%</th>\n",
              "      <td>0.000000</td>\n",
              "      <td>0.000000</td>\n",
              "      <td>0.000000</td>\n",
              "      <td>0.000000</td>\n",
              "      <td>0.000000</td>\n",
              "      <td>0.000000</td>\n",
              "    </tr>\n",
              "    <tr>\n",
              "      <th>max</th>\n",
              "      <td>8.000000</td>\n",
              "      <td>8.000000</td>\n",
              "      <td>8.000000</td>\n",
              "      <td>8.000000</td>\n",
              "      <td>8.000000</td>\n",
              "      <td>8.000000</td>\n",
              "    </tr>\n",
              "  </tbody>\n",
              "</table>\n",
              "</div>"
            ],
            "text/plain": [
              "              PAY_0         PAY_2  ...         PAY_5         PAY_6\n",
              "count  30000.000000  30000.000000  ...  30000.000000  30000.000000\n",
              "mean      -0.016700     -0.133767  ...     -0.266200     -0.291100\n",
              "std        1.123802      1.197186  ...      1.133187      1.149988\n",
              "min       -2.000000     -2.000000  ...     -2.000000     -2.000000\n",
              "25%       -1.000000     -1.000000  ...     -1.000000     -1.000000\n",
              "50%        0.000000      0.000000  ...      0.000000      0.000000\n",
              "75%        0.000000      0.000000  ...      0.000000      0.000000\n",
              "max        8.000000      8.000000  ...      8.000000      8.000000\n",
              "\n",
              "[8 rows x 6 columns]"
            ]
          },
          "metadata": {
            "tags": []
          },
          "execution_count": 5
        }
      ]
    },
    {
      "cell_type": "markdown",
      "metadata": {
        "_cell_guid": "b77758bb-773d-4908-9dc0-421d35127259",
        "_uuid": "e612682a3c7ca90d276a518d009b39b3d75fb5da",
        "id": "9Axk4amIWXdF"
      },
      "source": [
        "All the above have an undocumented label -2. As provided 1,2,3, etc are the months of delay so we can consider 0 to be labeled as 'pay duly' and every negative value should be seen as a 0."
      ]
    },
    {
      "cell_type": "code",
      "metadata": {
        "_cell_guid": "bcdaba60-c776-491b-92e5-80d5fdca8b30",
        "_uuid": "8960233ca3309cd4ff06610b8f8132a7e10d5abb",
        "colab": {
          "base_uri": "https://localhost:8080/",
          "height": 297
        },
        "id": "LA2VXEj7WXdF",
        "outputId": "94079835-a715-48a8-c384-7a7d384d7759"
      },
      "source": [
        "# Bill Statement description\n",
        "df[['BILL_AMT1', 'BILL_AMT2', 'BILL_AMT3', 'BILL_AMT4', 'BILL_AMT5', 'BILL_AMT6']].describe()"
      ],
      "execution_count": 7,
      "outputs": [
        {
          "output_type": "execute_result",
          "data": {
            "text/html": [
              "<div>\n",
              "<style scoped>\n",
              "    .dataframe tbody tr th:only-of-type {\n",
              "        vertical-align: middle;\n",
              "    }\n",
              "\n",
              "    .dataframe tbody tr th {\n",
              "        vertical-align: top;\n",
              "    }\n",
              "\n",
              "    .dataframe thead th {\n",
              "        text-align: right;\n",
              "    }\n",
              "</style>\n",
              "<table border=\"1\" class=\"dataframe\">\n",
              "  <thead>\n",
              "    <tr style=\"text-align: right;\">\n",
              "      <th></th>\n",
              "      <th>BILL_AMT1</th>\n",
              "      <th>BILL_AMT2</th>\n",
              "      <th>BILL_AMT3</th>\n",
              "      <th>BILL_AMT4</th>\n",
              "      <th>BILL_AMT5</th>\n",
              "      <th>BILL_AMT6</th>\n",
              "    </tr>\n",
              "  </thead>\n",
              "  <tbody>\n",
              "    <tr>\n",
              "      <th>count</th>\n",
              "      <td>30000.000000</td>\n",
              "      <td>30000.000000</td>\n",
              "      <td>3.000000e+04</td>\n",
              "      <td>30000.000000</td>\n",
              "      <td>30000.000000</td>\n",
              "      <td>30000.000000</td>\n",
              "    </tr>\n",
              "    <tr>\n",
              "      <th>mean</th>\n",
              "      <td>51223.330900</td>\n",
              "      <td>49179.075167</td>\n",
              "      <td>4.701315e+04</td>\n",
              "      <td>43262.948967</td>\n",
              "      <td>40311.400967</td>\n",
              "      <td>38871.760400</td>\n",
              "    </tr>\n",
              "    <tr>\n",
              "      <th>std</th>\n",
              "      <td>73635.860576</td>\n",
              "      <td>71173.768783</td>\n",
              "      <td>6.934939e+04</td>\n",
              "      <td>64332.856134</td>\n",
              "      <td>60797.155770</td>\n",
              "      <td>59554.107537</td>\n",
              "    </tr>\n",
              "    <tr>\n",
              "      <th>min</th>\n",
              "      <td>-165580.000000</td>\n",
              "      <td>-69777.000000</td>\n",
              "      <td>-1.572640e+05</td>\n",
              "      <td>-170000.000000</td>\n",
              "      <td>-81334.000000</td>\n",
              "      <td>-339603.000000</td>\n",
              "    </tr>\n",
              "    <tr>\n",
              "      <th>25%</th>\n",
              "      <td>3558.750000</td>\n",
              "      <td>2984.750000</td>\n",
              "      <td>2.666250e+03</td>\n",
              "      <td>2326.750000</td>\n",
              "      <td>1763.000000</td>\n",
              "      <td>1256.000000</td>\n",
              "    </tr>\n",
              "    <tr>\n",
              "      <th>50%</th>\n",
              "      <td>22381.500000</td>\n",
              "      <td>21200.000000</td>\n",
              "      <td>2.008850e+04</td>\n",
              "      <td>19052.000000</td>\n",
              "      <td>18104.500000</td>\n",
              "      <td>17071.000000</td>\n",
              "    </tr>\n",
              "    <tr>\n",
              "      <th>75%</th>\n",
              "      <td>67091.000000</td>\n",
              "      <td>64006.250000</td>\n",
              "      <td>6.016475e+04</td>\n",
              "      <td>54506.000000</td>\n",
              "      <td>50190.500000</td>\n",
              "      <td>49198.250000</td>\n",
              "    </tr>\n",
              "    <tr>\n",
              "      <th>max</th>\n",
              "      <td>964511.000000</td>\n",
              "      <td>983931.000000</td>\n",
              "      <td>1.664089e+06</td>\n",
              "      <td>891586.000000</td>\n",
              "      <td>927171.000000</td>\n",
              "      <td>961664.000000</td>\n",
              "    </tr>\n",
              "  </tbody>\n",
              "</table>\n",
              "</div>"
            ],
            "text/plain": [
              "           BILL_AMT1      BILL_AMT2  ...      BILL_AMT5      BILL_AMT6\n",
              "count   30000.000000   30000.000000  ...   30000.000000   30000.000000\n",
              "mean    51223.330900   49179.075167  ...   40311.400967   38871.760400\n",
              "std     73635.860576   71173.768783  ...   60797.155770   59554.107537\n",
              "min   -165580.000000  -69777.000000  ...  -81334.000000 -339603.000000\n",
              "25%      3558.750000    2984.750000  ...    1763.000000    1256.000000\n",
              "50%     22381.500000   21200.000000  ...   18104.500000   17071.000000\n",
              "75%     67091.000000   64006.250000  ...   50190.500000   49198.250000\n",
              "max    964511.000000  983931.000000  ...  927171.000000  961664.000000\n",
              "\n",
              "[8 rows x 6 columns]"
            ]
          },
          "metadata": {
            "tags": []
          },
          "execution_count": 7
        }
      ]
    },
    {
      "cell_type": "markdown",
      "metadata": {
        "_cell_guid": "465b66a4-0da7-49a9-939a-67f3e7dc37c8",
        "_uuid": "ac8957e78333c9288d64c97cbff72ad08ab77f31",
        "id": "40MQHr9XWXdF"
      },
      "source": [
        "Can the negative values be interpreted as credit?"
      ]
    },
    {
      "cell_type": "code",
      "metadata": {
        "_cell_guid": "8d96485a-4215-47bf-9d0f-247aebddf408",
        "_uuid": "110119ecd8d7d36b1d835a2e821a91dd7fd9527c",
        "colab": {
          "base_uri": "https://localhost:8080/",
          "height": 297
        },
        "id": "o6X808S3WXdG",
        "outputId": "9dc6739a-18e0-48bb-ac53-871e3b6fad23"
      },
      "source": [
        "#Previous Payment Description\n",
        "df[['PAY_AMT1', 'PAY_AMT2', 'PAY_AMT3', 'PAY_AMT4', 'PAY_AMT5', 'PAY_AMT6']].describe()"
      ],
      "execution_count": 8,
      "outputs": [
        {
          "output_type": "execute_result",
          "data": {
            "text/html": [
              "<div>\n",
              "<style scoped>\n",
              "    .dataframe tbody tr th:only-of-type {\n",
              "        vertical-align: middle;\n",
              "    }\n",
              "\n",
              "    .dataframe tbody tr th {\n",
              "        vertical-align: top;\n",
              "    }\n",
              "\n",
              "    .dataframe thead th {\n",
              "        text-align: right;\n",
              "    }\n",
              "</style>\n",
              "<table border=\"1\" class=\"dataframe\">\n",
              "  <thead>\n",
              "    <tr style=\"text-align: right;\">\n",
              "      <th></th>\n",
              "      <th>PAY_AMT1</th>\n",
              "      <th>PAY_AMT2</th>\n",
              "      <th>PAY_AMT3</th>\n",
              "      <th>PAY_AMT4</th>\n",
              "      <th>PAY_AMT5</th>\n",
              "      <th>PAY_AMT6</th>\n",
              "    </tr>\n",
              "  </thead>\n",
              "  <tbody>\n",
              "    <tr>\n",
              "      <th>count</th>\n",
              "      <td>30000.000000</td>\n",
              "      <td>3.000000e+04</td>\n",
              "      <td>30000.00000</td>\n",
              "      <td>30000.000000</td>\n",
              "      <td>30000.000000</td>\n",
              "      <td>30000.000000</td>\n",
              "    </tr>\n",
              "    <tr>\n",
              "      <th>mean</th>\n",
              "      <td>5663.580500</td>\n",
              "      <td>5.921163e+03</td>\n",
              "      <td>5225.68150</td>\n",
              "      <td>4826.076867</td>\n",
              "      <td>4799.387633</td>\n",
              "      <td>5215.502567</td>\n",
              "    </tr>\n",
              "    <tr>\n",
              "      <th>std</th>\n",
              "      <td>16563.280354</td>\n",
              "      <td>2.304087e+04</td>\n",
              "      <td>17606.96147</td>\n",
              "      <td>15666.159744</td>\n",
              "      <td>15278.305679</td>\n",
              "      <td>17777.465775</td>\n",
              "    </tr>\n",
              "    <tr>\n",
              "      <th>min</th>\n",
              "      <td>0.000000</td>\n",
              "      <td>0.000000e+00</td>\n",
              "      <td>0.00000</td>\n",
              "      <td>0.000000</td>\n",
              "      <td>0.000000</td>\n",
              "      <td>0.000000</td>\n",
              "    </tr>\n",
              "    <tr>\n",
              "      <th>25%</th>\n",
              "      <td>1000.000000</td>\n",
              "      <td>8.330000e+02</td>\n",
              "      <td>390.00000</td>\n",
              "      <td>296.000000</td>\n",
              "      <td>252.500000</td>\n",
              "      <td>117.750000</td>\n",
              "    </tr>\n",
              "    <tr>\n",
              "      <th>50%</th>\n",
              "      <td>2100.000000</td>\n",
              "      <td>2.009000e+03</td>\n",
              "      <td>1800.00000</td>\n",
              "      <td>1500.000000</td>\n",
              "      <td>1500.000000</td>\n",
              "      <td>1500.000000</td>\n",
              "    </tr>\n",
              "    <tr>\n",
              "      <th>75%</th>\n",
              "      <td>5006.000000</td>\n",
              "      <td>5.000000e+03</td>\n",
              "      <td>4505.00000</td>\n",
              "      <td>4013.250000</td>\n",
              "      <td>4031.500000</td>\n",
              "      <td>4000.000000</td>\n",
              "    </tr>\n",
              "    <tr>\n",
              "      <th>max</th>\n",
              "      <td>873552.000000</td>\n",
              "      <td>1.684259e+06</td>\n",
              "      <td>896040.00000</td>\n",
              "      <td>621000.000000</td>\n",
              "      <td>426529.000000</td>\n",
              "      <td>528666.000000</td>\n",
              "    </tr>\n",
              "  </tbody>\n",
              "</table>\n",
              "</div>"
            ],
            "text/plain": [
              "            PAY_AMT1      PAY_AMT2  ...       PAY_AMT5       PAY_AMT6\n",
              "count   30000.000000  3.000000e+04  ...   30000.000000   30000.000000\n",
              "mean     5663.580500  5.921163e+03  ...    4799.387633    5215.502567\n",
              "std     16563.280354  2.304087e+04  ...   15278.305679   17777.465775\n",
              "min         0.000000  0.000000e+00  ...       0.000000       0.000000\n",
              "25%      1000.000000  8.330000e+02  ...     252.500000     117.750000\n",
              "50%      2100.000000  2.009000e+03  ...    1500.000000    1500.000000\n",
              "75%      5006.000000  5.000000e+03  ...    4031.500000    4000.000000\n",
              "max    873552.000000  1.684259e+06  ...  426529.000000  528666.000000\n",
              "\n",
              "[8 rows x 6 columns]"
            ]
          },
          "metadata": {
            "tags": []
          },
          "execution_count": 8
        }
      ]
    },
    {
      "cell_type": "code",
      "metadata": {
        "_cell_guid": "56705789-b5a9-4a63-8ef1-26687270609e",
        "_uuid": "0fb66c7c87b1b63dd7018ab642f7faef11ef70ed",
        "colab": {
          "base_uri": "https://localhost:8080/"
        },
        "id": "_pMW_ntBWXdG",
        "outputId": "fa2fbd27-994c-427b-d69f-3e5af4ef6217"
      },
      "source": [
        "df.LIMIT_BAL.describe()"
      ],
      "execution_count": 24,
      "outputs": [
        {
          "output_type": "execute_result",
          "data": {
            "text/plain": [
              "count      30000.000000\n",
              "mean      167484.322667\n",
              "std       129747.661567\n",
              "min        10000.000000\n",
              "25%        50000.000000\n",
              "50%       140000.000000\n",
              "75%       240000.000000\n",
              "max      1000000.000000\n",
              "Name: LIMIT_BAL, dtype: float64"
            ]
          },
          "metadata": {
            "tags": []
          },
          "execution_count": 24
        }
      ]
    },
    {
      "cell_type": "markdown",
      "metadata": {
        "_cell_guid": "745c76aa-1d96-4588-84b3-4718168d54c0",
        "_uuid": "8695b9a4741e2d35bf59f238154a072e6f585192",
        "id": "HS_mcH28WXdG"
      },
      "source": [
        "The range is very broad.\n"
      ]
    },
    {
      "cell_type": "markdown",
      "metadata": {
        "id": "7Wa2YJcjWXdG"
      },
      "source": [
        "Lets make some label modification to two of features.  \n",
        "Update PAY_0 to PAY_1 and default.payment.next.month to DEF_PAY"
      ]
    },
    {
      "cell_type": "code",
      "metadata": {
        "_cell_guid": "5e7e7299-3a20-4266-a2df-036123ed86e4",
        "_uuid": "7a0dfd1323e523a69799ec877fc1107fb38ce019",
        "colab": {
          "base_uri": "https://localhost:8080/",
          "height": 224
        },
        "id": "G9MfKi3-WXdG",
        "outputId": "b25dd876-c4d1-42a7-9eb0-14e380b85896"
      },
      "source": [
        "df = df.rename(columns={'default.payment.next.month': 'def_pay', \n",
        "                        'PAY_0': 'PAY_1'})\n",
        "df.head()"
      ],
      "execution_count": 10,
      "outputs": [
        {
          "output_type": "execute_result",
          "data": {
            "text/html": [
              "<div>\n",
              "<style scoped>\n",
              "    .dataframe tbody tr th:only-of-type {\n",
              "        vertical-align: middle;\n",
              "    }\n",
              "\n",
              "    .dataframe tbody tr th {\n",
              "        vertical-align: top;\n",
              "    }\n",
              "\n",
              "    .dataframe thead th {\n",
              "        text-align: right;\n",
              "    }\n",
              "</style>\n",
              "<table border=\"1\" class=\"dataframe\">\n",
              "  <thead>\n",
              "    <tr style=\"text-align: right;\">\n",
              "      <th></th>\n",
              "      <th>ID</th>\n",
              "      <th>LIMIT_BAL</th>\n",
              "      <th>SEX</th>\n",
              "      <th>EDUCATION</th>\n",
              "      <th>MARRIAGE</th>\n",
              "      <th>AGE</th>\n",
              "      <th>PAY_1</th>\n",
              "      <th>PAY_2</th>\n",
              "      <th>PAY_3</th>\n",
              "      <th>PAY_4</th>\n",
              "      <th>PAY_5</th>\n",
              "      <th>PAY_6</th>\n",
              "      <th>BILL_AMT1</th>\n",
              "      <th>BILL_AMT2</th>\n",
              "      <th>BILL_AMT3</th>\n",
              "      <th>BILL_AMT4</th>\n",
              "      <th>BILL_AMT5</th>\n",
              "      <th>BILL_AMT6</th>\n",
              "      <th>PAY_AMT1</th>\n",
              "      <th>PAY_AMT2</th>\n",
              "      <th>PAY_AMT3</th>\n",
              "      <th>PAY_AMT4</th>\n",
              "      <th>PAY_AMT5</th>\n",
              "      <th>PAY_AMT6</th>\n",
              "      <th>def_pay</th>\n",
              "    </tr>\n",
              "  </thead>\n",
              "  <tbody>\n",
              "    <tr>\n",
              "      <th>0</th>\n",
              "      <td>1</td>\n",
              "      <td>20000.0</td>\n",
              "      <td>2</td>\n",
              "      <td>2</td>\n",
              "      <td>1</td>\n",
              "      <td>24</td>\n",
              "      <td>2</td>\n",
              "      <td>2</td>\n",
              "      <td>-1</td>\n",
              "      <td>-1</td>\n",
              "      <td>-2</td>\n",
              "      <td>-2</td>\n",
              "      <td>3913.0</td>\n",
              "      <td>3102.0</td>\n",
              "      <td>689.0</td>\n",
              "      <td>0.0</td>\n",
              "      <td>0.0</td>\n",
              "      <td>0.0</td>\n",
              "      <td>0.0</td>\n",
              "      <td>689.0</td>\n",
              "      <td>0.0</td>\n",
              "      <td>0.0</td>\n",
              "      <td>0.0</td>\n",
              "      <td>0.0</td>\n",
              "      <td>1</td>\n",
              "    </tr>\n",
              "    <tr>\n",
              "      <th>1</th>\n",
              "      <td>2</td>\n",
              "      <td>120000.0</td>\n",
              "      <td>2</td>\n",
              "      <td>2</td>\n",
              "      <td>2</td>\n",
              "      <td>26</td>\n",
              "      <td>-1</td>\n",
              "      <td>2</td>\n",
              "      <td>0</td>\n",
              "      <td>0</td>\n",
              "      <td>0</td>\n",
              "      <td>2</td>\n",
              "      <td>2682.0</td>\n",
              "      <td>1725.0</td>\n",
              "      <td>2682.0</td>\n",
              "      <td>3272.0</td>\n",
              "      <td>3455.0</td>\n",
              "      <td>3261.0</td>\n",
              "      <td>0.0</td>\n",
              "      <td>1000.0</td>\n",
              "      <td>1000.0</td>\n",
              "      <td>1000.0</td>\n",
              "      <td>0.0</td>\n",
              "      <td>2000.0</td>\n",
              "      <td>1</td>\n",
              "    </tr>\n",
              "    <tr>\n",
              "      <th>2</th>\n",
              "      <td>3</td>\n",
              "      <td>90000.0</td>\n",
              "      <td>2</td>\n",
              "      <td>2</td>\n",
              "      <td>2</td>\n",
              "      <td>34</td>\n",
              "      <td>0</td>\n",
              "      <td>0</td>\n",
              "      <td>0</td>\n",
              "      <td>0</td>\n",
              "      <td>0</td>\n",
              "      <td>0</td>\n",
              "      <td>29239.0</td>\n",
              "      <td>14027.0</td>\n",
              "      <td>13559.0</td>\n",
              "      <td>14331.0</td>\n",
              "      <td>14948.0</td>\n",
              "      <td>15549.0</td>\n",
              "      <td>1518.0</td>\n",
              "      <td>1500.0</td>\n",
              "      <td>1000.0</td>\n",
              "      <td>1000.0</td>\n",
              "      <td>1000.0</td>\n",
              "      <td>5000.0</td>\n",
              "      <td>0</td>\n",
              "    </tr>\n",
              "    <tr>\n",
              "      <th>3</th>\n",
              "      <td>4</td>\n",
              "      <td>50000.0</td>\n",
              "      <td>2</td>\n",
              "      <td>2</td>\n",
              "      <td>1</td>\n",
              "      <td>37</td>\n",
              "      <td>0</td>\n",
              "      <td>0</td>\n",
              "      <td>0</td>\n",
              "      <td>0</td>\n",
              "      <td>0</td>\n",
              "      <td>0</td>\n",
              "      <td>46990.0</td>\n",
              "      <td>48233.0</td>\n",
              "      <td>49291.0</td>\n",
              "      <td>28314.0</td>\n",
              "      <td>28959.0</td>\n",
              "      <td>29547.0</td>\n",
              "      <td>2000.0</td>\n",
              "      <td>2019.0</td>\n",
              "      <td>1200.0</td>\n",
              "      <td>1100.0</td>\n",
              "      <td>1069.0</td>\n",
              "      <td>1000.0</td>\n",
              "      <td>0</td>\n",
              "    </tr>\n",
              "    <tr>\n",
              "      <th>4</th>\n",
              "      <td>5</td>\n",
              "      <td>50000.0</td>\n",
              "      <td>1</td>\n",
              "      <td>2</td>\n",
              "      <td>1</td>\n",
              "      <td>57</td>\n",
              "      <td>-1</td>\n",
              "      <td>0</td>\n",
              "      <td>-1</td>\n",
              "      <td>0</td>\n",
              "      <td>0</td>\n",
              "      <td>0</td>\n",
              "      <td>8617.0</td>\n",
              "      <td>5670.0</td>\n",
              "      <td>35835.0</td>\n",
              "      <td>20940.0</td>\n",
              "      <td>19146.0</td>\n",
              "      <td>19131.0</td>\n",
              "      <td>2000.0</td>\n",
              "      <td>36681.0</td>\n",
              "      <td>10000.0</td>\n",
              "      <td>9000.0</td>\n",
              "      <td>689.0</td>\n",
              "      <td>679.0</td>\n",
              "      <td>0</td>\n",
              "    </tr>\n",
              "  </tbody>\n",
              "</table>\n",
              "</div>"
            ],
            "text/plain": [
              "   ID  LIMIT_BAL  SEX  EDUCATION  ...  PAY_AMT4  PAY_AMT5  PAY_AMT6  def_pay\n",
              "0   1    20000.0    2          2  ...       0.0       0.0       0.0        1\n",
              "1   2   120000.0    2          2  ...    1000.0       0.0    2000.0        1\n",
              "2   3    90000.0    2          2  ...    1000.0    1000.0    5000.0        0\n",
              "3   4    50000.0    2          2  ...    1100.0    1069.0    1000.0        0\n",
              "4   5    50000.0    1          2  ...    9000.0     689.0     679.0        0\n",
              "\n",
              "[5 rows x 25 columns]"
            ]
          },
          "metadata": {
            "tags": []
          },
          "execution_count": 10
        }
      ]
    },
    {
      "cell_type": "markdown",
      "metadata": {
        "id": "_hW_Kb1_WXdH"
      },
      "source": [
        "It is good idea to have some general idea of probability of the defaulters."
      ]
    },
    {
      "cell_type": "code",
      "metadata": {
        "_cell_guid": "0cb4683d-aba0-44a9-8a46-db37c5b42c88",
        "_uuid": "8df4001b8ccd4dfd2d4213db898e7d07070c0ce7",
        "colab": {
          "base_uri": "https://localhost:8080/"
        },
        "id": "8CER38OMWXdH",
        "outputId": "55148dd3-026c-44a0-ecfa-821d2bceafaa"
      },
      "source": [
        "df.def_pay.sum() / len(df.def_pay)"
      ],
      "execution_count": 11,
      "outputs": [
        {
          "output_type": "execute_result",
          "data": {
            "text/plain": [
              "0.2212"
            ]
          },
          "metadata": {
            "tags": []
          },
          "execution_count": 11
        }
      ]
    },
    {
      "cell_type": "markdown",
      "metadata": {
        "id": "cBzCrgcuyRgR"
      },
      "source": [
        "**Probability of defaulters is 22.12 %**"
      ]
    },
    {
      "cell_type": "markdown",
      "metadata": {
        "id": "UWvZSflDWXdH"
      },
      "source": [
        "## Visualize the dataset using any two appropriate graphs"
      ]
    },
    {
      "cell_type": "markdown",
      "metadata": {
        "id": "u3dT5jfSWXdH"
      },
      "source": [
        "####We will be looking at the distribution of classes( Default payment (1=yes, 0=no)) in our dataset"
      ]
    },
    {
      "cell_type": "code",
      "metadata": {
        "colab": {
          "base_uri": "https://localhost:8080/"
        },
        "id": "w2LXJaDUWXdH",
        "outputId": "8b79f860-3813-46ff-948c-41246f5af4bf"
      },
      "source": [
        "count = df.def_pay.value_counts()\n",
        "count"
      ],
      "execution_count": 12,
      "outputs": [
        {
          "output_type": "execute_result",
          "data": {
            "text/plain": [
              "0    23364\n",
              "1     6636\n",
              "Name: def_pay, dtype: int64"
            ]
          },
          "metadata": {
            "tags": []
          },
          "execution_count": 12
        }
      ]
    },
    {
      "cell_type": "markdown",
      "metadata": {
        "id": "ZczIB8nAAE1Q"
      },
      "source": [
        "####Visualize the distribution of target classes"
      ]
    },
    {
      "cell_type": "code",
      "metadata": {
        "colab": {
          "base_uri": "https://localhost:8080/",
          "height": 292
        },
        "id": "-ixXS8jTWXdI",
        "outputId": "dfff5388-520c-42b6-f7fc-b09f2cb00731"
      },
      "source": [
        "count.plot(kind='bar') ## Plot bar chart to visualize distribution of classes\n",
        "plt.title(\"Distribution of Default payment (1=yes, 0=no)\")\n",
        "plt.xlabel(\"Default Payment\")\n",
        "plt.ylabel(\"count\")\n",
        "plt.show()"
      ],
      "execution_count": 13,
      "outputs": [
        {
          "output_type": "display_data",
          "data": {
            "image/png": "[encoded data removed]",
            "text/plain": [
              "<Figure size 432x288 with 1 Axes>"
            ]
          },
          "metadata": {
            "tags": [],
            "needs_background": "light"
          }
        }
      ]
    },
    {
      "cell_type": "markdown",
      "metadata": {
        "id": "eoGsfKHy31Z3"
      },
      "source": [
        "***Please note that Pairplot on the given dataset which has 30000 observations takes around 40seconds to complete.***  \n",
        "Hence commenting the code to not mistaken that the notebook is not running.\n",
        "Retaining the output though."
      ]
    },
    {
      "cell_type": "code",
      "metadata": {
        "colab": {
          "base_uri": "https://localhost:8080/",
          "height": 743
        },
        "id": "Jj2ilCKR21gx",
        "outputId": "cd8231ce-ced3-4f9e-f144-bd3229e086e4"
      },
      "source": [
        "## Plot pairwise relationships in a dataset\n",
        "#sns.pairplot(df, hue='def_pay', vars=['SEX', 'EDUCATION', 'MARRIAGE', 'AGE']) "
      ],
      "execution_count": 15,
      "outputs": [
        {
          "output_type": "execute_result",
          "data": {
            "text/plain": [
              "<seaborn.axisgrid.PairGrid at 0x7f89bda94090>"
            ]
          },
          "metadata": {
            "tags": []
          },
          "execution_count": 15
        },
        {
          "output_type": "display_data",
          "data": {
            "image/png": "[encoded data removed]",
            "text/plain": [
              "<Figure size 767.375x720 with 20 Axes>"
            ]
          },
          "metadata": {
            "tags": [],
            "needs_background": "light"
          }
        }
      ]
    },
    {
      "cell_type": "markdown",
      "metadata": {
        "id": "3EzqyOR_8pUQ"
      },
      "source": [
        "####Let's understand the credit amount limit distribution grouped by age and sex.\n"
      ]
    },
    {
      "cell_type": "code",
      "metadata": {
        "colab": {
          "base_uri": "https://localhost:8080/",
          "height": 391
        },
        "id": "LWSBJQ7C9LzI",
        "outputId": "c9ce6517-49f5-4cae-ba35-e6ce3afa2d31"
      },
      "source": [
        "fig, ax1 = plt.subplots(ncols=1, figsize=(16,6))\n",
        "s = sns.boxplot(ax = ax1, x='AGE', y='LIMIT_BAL', hue='SEX',data=df, palette=\"CMRmap\",showfliers=False)\n",
        "s.set_xticklabels(s.get_xticklabels(),rotation=90)\n",
        "plt.show();"
      ],
      "execution_count": 32,
      "outputs": [
        {
          "output_type": "display_data",
          "data": {
            "image/png": "[encoded data removed]",
            "text/plain": [
              "<Figure size 1152x432 with 1 Axes>"
            ]
          },
          "metadata": {
            "tags": [],
            "needs_background": "light"
          }
        }
      ]
    },
    {
      "cell_type": "markdown",
      "metadata": {
        "id": "i5tBqHKJ90cV"
      },
      "source": [
        "Mean, Q3 and Q4 values are increasing for both male and female with age until aroung 35 years and then they are oscilating and get to a maximum of Q4 for males at age 64.\n",
        "\n",
        "Mean values are generally smaller for males than for females, with few exceptions, for example at age 39, 48, until approximately 60, where mean values for males are generally larger than for females."
      ]
    },
    {
      "cell_type": "markdown",
      "metadata": {
        "id": "zwtMgBRIWXdI"
      },
      "source": [
        "### Target variable/ class\n",
        "The main motive of our predictor is to correctly predict on the basis of the data available, if the credit card payment is \n",
        "- Defaulted(1)\n",
        "- Not Defaulted(0)\n",
        "\n",
        "Hence, our target class is **def_pay**"
      ]
    },
    {
      "cell_type": "code",
      "metadata": {
        "id": "uf5IJjrHWXdI"
      },
      "source": [
        "y_target = df['def_pay']"
      ],
      "execution_count": 16,
      "outputs": []
    },
    {
      "cell_type": "markdown",
      "metadata": {
        "id": "QPGnpJkKWXdJ"
      },
      "source": [
        "## 2.2 Data Cleaning\n",
        "\n",
        "As seen previously, some categories are mislabeled or undocumented. Before proceeding, it is time to fix it.\n",
        "\n",
        "The 0 in MARRIAGE can be safely categorized as 'Other' (thus 3). \n",
        "\n",
        "The 0 (undocumented), 5 and 6 (label unknown) in EDUCATION can also be put in a 'Other' cathegory (thus 4)"
      ]
    },
    {
      "cell_type": "code",
      "metadata": {
        "colab": {
          "base_uri": "https://localhost:8080/"
        },
        "id": "s1sVt4-oWXdJ",
        "outputId": "6b2c5e0b-1edc-40af-eae9-7e61699769d4"
      },
      "source": [
        "fil = (df.EDUCATION == 5) | (df.EDUCATION == 6) | (df.EDUCATION == 0)\n",
        "df.loc[fil, 'EDUCATION'] = 4\n",
        "df.EDUCATION.value_counts()"
      ],
      "execution_count": 19,
      "outputs": [
        {
          "output_type": "execute_result",
          "data": {
            "text/plain": [
              "2    14030\n",
              "1    10585\n",
              "3     4917\n",
              "4      468\n",
              "Name: EDUCATION, dtype: int64"
            ]
          },
          "metadata": {
            "tags": []
          },
          "execution_count": 19
        }
      ]
    },
    {
      "cell_type": "code",
      "metadata": {
        "colab": {
          "base_uri": "https://localhost:8080/"
        },
        "id": "OHKtdrPnWXdK",
        "outputId": "9b9c448b-5dd2-4596-f8d3-b516ee41fecd"
      },
      "source": [
        "df.loc[df.MARRIAGE == 0, 'MARRIAGE'] = 3\n",
        "df.MARRIAGE.value_counts()"
      ],
      "execution_count": 20,
      "outputs": [
        {
          "output_type": "execute_result",
          "data": {
            "text/plain": [
              "2    15964\n",
              "1    13659\n",
              "3      377\n",
              "Name: MARRIAGE, dtype: int64"
            ]
          },
          "metadata": {
            "tags": []
          },
          "execution_count": 20
        }
      ]
    },
    {
      "cell_type": "markdown",
      "metadata": {
        "id": "15JhaFL_WXdK"
      },
      "source": [
        "Let us draw histograms to gauge the distribution, finding if they make sense, presence of any outliers etc."
      ]
    },
    {
      "cell_type": "code",
      "metadata": {
        "id": "ZdcpGqwkWXdK"
      },
      "source": [
        "def draw_histograms(df, variables, n_rows, n_cols, n_bins):\n",
        "    fig=plt.figure()\n",
        "    for i, var_name in enumerate(variables):\n",
        "        ax=fig.add_subplot(n_rows,n_cols,i+1)\n",
        "        df[var_name].hist(bins=n_bins,ax=ax)\n",
        "        ax.set_title(var_name)\n",
        "    fig.tight_layout()  # Improves appearance a bit.\n",
        "    plt.show()"
      ],
      "execution_count": 21,
      "outputs": []
    },
    {
      "cell_type": "code",
      "metadata": {
        "id": "KDTqpGmNWXdK",
        "colab": {
          "base_uri": "https://localhost:8080/",
          "height": 297
        },
        "outputId": "b06ebce4-641d-4ed1-d224-3c6b15a48040"
      },
      "source": [
        "bills = df[['BILL_AMT1','BILL_AMT2', 'BILL_AMT3', 'BILL_AMT4', 'BILL_AMT5', 'BILL_AMT6']]\n",
        "draw_histograms(bills, bills.columns, 2, 3, 20)"
      ],
      "execution_count": 22,
      "outputs": [
        {
          "output_type": "display_data",
          "data": {
            "image/png": "[encoded data removed]",
            "text/plain": [
              "<Figure size 432x288 with 6 Axes>"
            ]
          },
          "metadata": {
            "tags": [],
            "needs_background": "light"
          }
        }
      ]
    },
    {
      "cell_type": "markdown",
      "metadata": {
        "id": "FejJ7XsfWXdL"
      },
      "source": [
        "As per data set definition, the PAY_n variables indicate the number of months of delay and indicates \"pay duly\" with -1. Question then arises as what -2 and 0 stand for? We can conclude that label needs to be adjusted to 0 for \"pay duly\"."
      ]
    },
    {
      "cell_type": "code",
      "metadata": {
        "colab": {
          "base_uri": "https://localhost:8080/",
          "height": 297
        },
        "id": "PrudkVvSWXdL",
        "outputId": "6c24c642-8638-4e78-c310-df5c6d623291"
      },
      "source": [
        "fil = (df.PAY_1 == -2) | (df.PAY_1 == -1) | (df.PAY_1 == 0)\n",
        "df.loc[fil, 'PAY_1'] = 0\n",
        "fil = (df.PAY_2 == -2) | (df.PAY_2 == -1) | (df.PAY_2 == 0)\n",
        "df.loc[fil, 'PAY_2'] = 0\n",
        "fil = (df.PAY_3 == -2) | (df.PAY_3 == -1) | (df.PAY_3 == 0)\n",
        "df.loc[fil, 'PAY_3'] = 0\n",
        "fil = (df.PAY_4 == -2) | (df.PAY_4 == -1) | (df.PAY_4 == 0)\n",
        "df.loc[fil, 'PAY_4'] = 0\n",
        "fil = (df.PAY_5 == -2) | (df.PAY_5 == -1) | (df.PAY_5 == 0)\n",
        "df.loc[fil, 'PAY_5'] = 0\n",
        "fil = (df.PAY_6 == -2) | (df.PAY_6 == -1) | (df.PAY_6 == 0)\n",
        "df.loc[fil, 'PAY_6'] = 0\n",
        "late = df[['PAY_1','PAY_2', 'PAY_3', 'PAY_4', 'PAY_5', 'PAY_6']]\n",
        "draw_histograms(late, late.columns, 2, 3, 10)"
      ],
      "execution_count": 23,
      "outputs": [
        {
          "output_type": "display_data",
          "data": {
            "image/png": "[encoded data removed]",
            "text/plain": [
              "<Figure size 432x288 with 6 Axes>"
            ]
          },
          "metadata": {
            "tags": [],
            "needs_background": "light"
          }
        }
      ]
    },
    {
      "cell_type": "markdown",
      "metadata": {
        "id": "irFFouU4WXdL"
      },
      "source": [
        "Next, we are puzzled by how wide is the range of possible values in the features regarding money, so let's see, for example the PAY_AMT1 that are anomalous."
      ]
    },
    {
      "cell_type": "code",
      "metadata": {
        "colab": {
          "base_uri": "https://localhost:8080/",
          "height": 359
        },
        "id": "J1r-g1hxWXdM",
        "outputId": "a8ff384e-9eea-489f-e841-b015f1395b8b"
      },
      "source": [
        "df[df.PAY_AMT1 > 300000][['LIMIT_BAL', 'PAY_1', 'PAY_2', 'BILL_AMT2', \n",
        "                          'PAY_AMT1', 'BILL_AMT1', 'def_pay']]\n",
        "# doesn't look weird after all"
      ],
      "execution_count": 24,
      "outputs": [
        {
          "output_type": "execute_result",
          "data": {
            "text/html": [
              "<div>\n",
              "<style scoped>\n",
              "    .dataframe tbody tr th:only-of-type {\n",
              "        vertical-align: middle;\n",
              "    }\n",
              "\n",
              "    .dataframe tbody tr th {\n",
              "        vertical-align: top;\n",
              "    }\n",
              "\n",
              "    .dataframe thead th {\n",
              "        text-align: right;\n",
              "    }\n",
              "</style>\n",
              "<table border=\"1\" class=\"dataframe\">\n",
              "  <thead>\n",
              "    <tr style=\"text-align: right;\">\n",
              "      <th></th>\n",
              "      <th>LIMIT_BAL</th>\n",
              "      <th>PAY_1</th>\n",
              "      <th>PAY_2</th>\n",
              "      <th>BILL_AMT2</th>\n",
              "      <th>PAY_AMT1</th>\n",
              "      <th>BILL_AMT1</th>\n",
              "      <th>def_pay</th>\n",
              "    </tr>\n",
              "  </thead>\n",
              "  <tbody>\n",
              "    <tr>\n",
              "      <th>2687</th>\n",
              "      <td>500000.0</td>\n",
              "      <td>0</td>\n",
              "      <td>0</td>\n",
              "      <td>367979.0</td>\n",
              "      <td>368199.0</td>\n",
              "      <td>71921.0</td>\n",
              "      <td>0</td>\n",
              "    </tr>\n",
              "    <tr>\n",
              "      <th>5687</th>\n",
              "      <td>480000.0</td>\n",
              "      <td>0</td>\n",
              "      <td>0</td>\n",
              "      <td>400000.0</td>\n",
              "      <td>302000.0</td>\n",
              "      <td>106660.0</td>\n",
              "      <td>0</td>\n",
              "    </tr>\n",
              "    <tr>\n",
              "      <th>8500</th>\n",
              "      <td>400000.0</td>\n",
              "      <td>0</td>\n",
              "      <td>0</td>\n",
              "      <td>405016.0</td>\n",
              "      <td>405016.0</td>\n",
              "      <td>6500.0</td>\n",
              "      <td>0</td>\n",
              "    </tr>\n",
              "    <tr>\n",
              "      <th>12330</th>\n",
              "      <td>300000.0</td>\n",
              "      <td>1</td>\n",
              "      <td>0</td>\n",
              "      <td>324392.0</td>\n",
              "      <td>505000.0</td>\n",
              "      <td>-165580.0</td>\n",
              "      <td>0</td>\n",
              "    </tr>\n",
              "    <tr>\n",
              "      <th>25431</th>\n",
              "      <td>170000.0</td>\n",
              "      <td>0</td>\n",
              "      <td>0</td>\n",
              "      <td>167941.0</td>\n",
              "      <td>304815.0</td>\n",
              "      <td>30860.0</td>\n",
              "      <td>0</td>\n",
              "    </tr>\n",
              "    <tr>\n",
              "      <th>28003</th>\n",
              "      <td>510000.0</td>\n",
              "      <td>0</td>\n",
              "      <td>0</td>\n",
              "      <td>481382.0</td>\n",
              "      <td>493358.0</td>\n",
              "      <td>71121.0</td>\n",
              "      <td>0</td>\n",
              "    </tr>\n",
              "    <tr>\n",
              "      <th>28716</th>\n",
              "      <td>340000.0</td>\n",
              "      <td>0</td>\n",
              "      <td>0</td>\n",
              "      <td>176743.0</td>\n",
              "      <td>873552.0</td>\n",
              "      <td>139808.0</td>\n",
              "      <td>0</td>\n",
              "    </tr>\n",
              "    <tr>\n",
              "      <th>29820</th>\n",
              "      <td>400000.0</td>\n",
              "      <td>1</td>\n",
              "      <td>0</td>\n",
              "      <td>394858.0</td>\n",
              "      <td>423903.0</td>\n",
              "      <td>396343.0</td>\n",
              "      <td>0</td>\n",
              "    </tr>\n",
              "    <tr>\n",
              "      <th>29867</th>\n",
              "      <td>340000.0</td>\n",
              "      <td>0</td>\n",
              "      <td>0</td>\n",
              "      <td>331641.0</td>\n",
              "      <td>300039.0</td>\n",
              "      <td>44855.0</td>\n",
              "      <td>0</td>\n",
              "    </tr>\n",
              "    <tr>\n",
              "      <th>29963</th>\n",
              "      <td>610000.0</td>\n",
              "      <td>0</td>\n",
              "      <td>0</td>\n",
              "      <td>322228.0</td>\n",
              "      <td>323014.0</td>\n",
              "      <td>348392.0</td>\n",
              "      <td>0</td>\n",
              "    </tr>\n",
              "  </tbody>\n",
              "</table>\n",
              "</div>"
            ],
            "text/plain": [
              "       LIMIT_BAL  PAY_1  PAY_2  BILL_AMT2  PAY_AMT1  BILL_AMT1  def_pay\n",
              "2687    500000.0      0      0   367979.0  368199.0    71921.0        0\n",
              "5687    480000.0      0      0   400000.0  302000.0   106660.0        0\n",
              "8500    400000.0      0      0   405016.0  405016.0     6500.0        0\n",
              "12330   300000.0      1      0   324392.0  505000.0  -165580.0        0\n",
              "25431   170000.0      0      0   167941.0  304815.0    30860.0        0\n",
              "28003   510000.0      0      0   481382.0  493358.0    71121.0        0\n",
              "28716   340000.0      0      0   176743.0  873552.0   139808.0        0\n",
              "29820   400000.0      1      0   394858.0  423903.0   396343.0        0\n",
              "29867   340000.0      0      0   331641.0  300039.0    44855.0        0\n",
              "29963   610000.0      0      0   322228.0  323014.0   348392.0        0"
            ]
          },
          "metadata": {
            "tags": []
          },
          "execution_count": 24
        }
      ]
    },
    {
      "cell_type": "code",
      "metadata": {
        "colab": {
          "base_uri": "https://localhost:8080/",
          "height": 700
        },
        "id": "Ufm8U8hUWXdM",
        "outputId": "a90ebe6b-1a45-42bb-934c-086a2a4165b4"
      },
      "source": [
        "df[df.PAY_AMT2 > 300000][['LIMIT_BAL', 'PAY_2', 'PAY_3', 'BILL_AMT3', \n",
        "                          'PAY_AMT2', 'BILL_AMT2', 'def_pay']]\n",
        "# doesn't look weird after all"
      ],
      "execution_count": 25,
      "outputs": [
        {
          "output_type": "execute_result",
          "data": {
            "text/html": [
              "<div>\n",
              "<style scoped>\n",
              "    .dataframe tbody tr th:only-of-type {\n",
              "        vertical-align: middle;\n",
              "    }\n",
              "\n",
              "    .dataframe tbody tr th {\n",
              "        vertical-align: top;\n",
              "    }\n",
              "\n",
              "    .dataframe thead th {\n",
              "        text-align: right;\n",
              "    }\n",
              "</style>\n",
              "<table border=\"1\" class=\"dataframe\">\n",
              "  <thead>\n",
              "    <tr style=\"text-align: right;\">\n",
              "      <th></th>\n",
              "      <th>LIMIT_BAL</th>\n",
              "      <th>PAY_2</th>\n",
              "      <th>PAY_3</th>\n",
              "      <th>BILL_AMT3</th>\n",
              "      <th>PAY_AMT2</th>\n",
              "      <th>BILL_AMT2</th>\n",
              "      <th>def_pay</th>\n",
              "    </tr>\n",
              "  </thead>\n",
              "  <tbody>\n",
              "    <tr>\n",
              "      <th>2592</th>\n",
              "      <td>480000.0</td>\n",
              "      <td>0</td>\n",
              "      <td>0</td>\n",
              "      <td>339176.0</td>\n",
              "      <td>344261.0</td>\n",
              "      <td>38929.0</td>\n",
              "      <td>0</td>\n",
              "    </tr>\n",
              "    <tr>\n",
              "      <th>3774</th>\n",
              "      <td>500000.0</td>\n",
              "      <td>0</td>\n",
              "      <td>0</td>\n",
              "      <td>301441.0</td>\n",
              "      <td>302961.0</td>\n",
              "      <td>39356.0</td>\n",
              "      <td>0</td>\n",
              "    </tr>\n",
              "    <tr>\n",
              "      <th>5296</th>\n",
              "      <td>500000.0</td>\n",
              "      <td>0</td>\n",
              "      <td>0</td>\n",
              "      <td>1664089.0</td>\n",
              "      <td>1684259.0</td>\n",
              "      <td>-18088.0</td>\n",
              "      <td>0</td>\n",
              "    </tr>\n",
              "    <tr>\n",
              "      <th>5400</th>\n",
              "      <td>500000.0</td>\n",
              "      <td>0</td>\n",
              "      <td>0</td>\n",
              "      <td>385228.0</td>\n",
              "      <td>385228.0</td>\n",
              "      <td>8970.0</td>\n",
              "      <td>0</td>\n",
              "    </tr>\n",
              "    <tr>\n",
              "      <th>6150</th>\n",
              "      <td>300000.0</td>\n",
              "      <td>0</td>\n",
              "      <td>0</td>\n",
              "      <td>4735.0</td>\n",
              "      <td>344467.0</td>\n",
              "      <td>-5973.0</td>\n",
              "      <td>1</td>\n",
              "    </tr>\n",
              "    <tr>\n",
              "      <th>6864</th>\n",
              "      <td>500000.0</td>\n",
              "      <td>0</td>\n",
              "      <td>0</td>\n",
              "      <td>444462.0</td>\n",
              "      <td>300018.0</td>\n",
              "      <td>201402.0</td>\n",
              "      <td>0</td>\n",
              "    </tr>\n",
              "    <tr>\n",
              "      <th>9044</th>\n",
              "      <td>500000.0</td>\n",
              "      <td>0</td>\n",
              "      <td>0</td>\n",
              "      <td>384973.0</td>\n",
              "      <td>384986.0</td>\n",
              "      <td>24201.0</td>\n",
              "      <td>0</td>\n",
              "    </tr>\n",
              "    <tr>\n",
              "      <th>11568</th>\n",
              "      <td>430000.0</td>\n",
              "      <td>0</td>\n",
              "      <td>0</td>\n",
              "      <td>354716.0</td>\n",
              "      <td>358689.0</td>\n",
              "      <td>960.0</td>\n",
              "      <td>1</td>\n",
              "    </tr>\n",
              "    <tr>\n",
              "      <th>11853</th>\n",
              "      <td>360000.0</td>\n",
              "      <td>1</td>\n",
              "      <td>0</td>\n",
              "      <td>338600.0</td>\n",
              "      <td>361560.0</td>\n",
              "      <td>-22960.0</td>\n",
              "      <td>0</td>\n",
              "    </tr>\n",
              "    <tr>\n",
              "      <th>12829</th>\n",
              "      <td>340000.0</td>\n",
              "      <td>0</td>\n",
              "      <td>0</td>\n",
              "      <td>330510.0</td>\n",
              "      <td>312723.0</td>\n",
              "      <td>335584.0</td>\n",
              "      <td>1</td>\n",
              "    </tr>\n",
              "    <tr>\n",
              "      <th>13186</th>\n",
              "      <td>750000.0</td>\n",
              "      <td>0</td>\n",
              "      <td>0</td>\n",
              "      <td>401003.0</td>\n",
              "      <td>401003.0</td>\n",
              "      <td>9655.0</td>\n",
              "      <td>0</td>\n",
              "    </tr>\n",
              "    <tr>\n",
              "      <th>13863</th>\n",
              "      <td>520000.0</td>\n",
              "      <td>0</td>\n",
              "      <td>0</td>\n",
              "      <td>385425.0</td>\n",
              "      <td>415552.0</td>\n",
              "      <td>2728.0</td>\n",
              "      <td>0</td>\n",
              "    </tr>\n",
              "    <tr>\n",
              "      <th>14513</th>\n",
              "      <td>460000.0</td>\n",
              "      <td>0</td>\n",
              "      <td>0</td>\n",
              "      <td>309622.0</td>\n",
              "      <td>580464.0</td>\n",
              "      <td>261444.0</td>\n",
              "      <td>0</td>\n",
              "    </tr>\n",
              "    <tr>\n",
              "      <th>16917</th>\n",
              "      <td>350000.0</td>\n",
              "      <td>0</td>\n",
              "      <td>0</td>\n",
              "      <td>355925.0</td>\n",
              "      <td>340000.0</td>\n",
              "      <td>107315.0</td>\n",
              "      <td>0</td>\n",
              "    </tr>\n",
              "    <tr>\n",
              "      <th>19723</th>\n",
              "      <td>500000.0</td>\n",
              "      <td>0</td>\n",
              "      <td>0</td>\n",
              "      <td>367979.0</td>\n",
              "      <td>368199.0</td>\n",
              "      <td>71921.0</td>\n",
              "      <td>0</td>\n",
              "    </tr>\n",
              "    <tr>\n",
              "      <th>21250</th>\n",
              "      <td>340000.0</td>\n",
              "      <td>0</td>\n",
              "      <td>0</td>\n",
              "      <td>388126.0</td>\n",
              "      <td>388126.0</td>\n",
              "      <td>43418.0</td>\n",
              "      <td>0</td>\n",
              "    </tr>\n",
              "    <tr>\n",
              "      <th>24920</th>\n",
              "      <td>430000.0</td>\n",
              "      <td>0</td>\n",
              "      <td>0</td>\n",
              "      <td>336073.0</td>\n",
              "      <td>325470.0</td>\n",
              "      <td>46127.0</td>\n",
              "      <td>0</td>\n",
              "    </tr>\n",
              "    <tr>\n",
              "      <th>25731</th>\n",
              "      <td>80000.0</td>\n",
              "      <td>0</td>\n",
              "      <td>0</td>\n",
              "      <td>855086.0</td>\n",
              "      <td>1024516.0</td>\n",
              "      <td>-215.0</td>\n",
              "      <td>0</td>\n",
              "    </tr>\n",
              "    <tr>\n",
              "      <th>28003</th>\n",
              "      <td>510000.0</td>\n",
              "      <td>0</td>\n",
              "      <td>0</td>\n",
              "      <td>559712.0</td>\n",
              "      <td>1227082.0</td>\n",
              "      <td>481382.0</td>\n",
              "      <td>0</td>\n",
              "    </tr>\n",
              "    <tr>\n",
              "      <th>28716</th>\n",
              "      <td>340000.0</td>\n",
              "      <td>0</td>\n",
              "      <td>0</td>\n",
              "      <td>34402.0</td>\n",
              "      <td>1215471.0</td>\n",
              "      <td>176743.0</td>\n",
              "      <td>0</td>\n",
              "    </tr>\n",
              "    <tr>\n",
              "      <th>28993</th>\n",
              "      <td>480000.0</td>\n",
              "      <td>0</td>\n",
              "      <td>0</td>\n",
              "      <td>400000.0</td>\n",
              "      <td>302000.0</td>\n",
              "      <td>106660.0</td>\n",
              "      <td>1</td>\n",
              "    </tr>\n",
              "  </tbody>\n",
              "</table>\n",
              "</div>"
            ],
            "text/plain": [
              "       LIMIT_BAL  PAY_2  PAY_3  BILL_AMT3   PAY_AMT2  BILL_AMT2  def_pay\n",
              "2592    480000.0      0      0   339176.0   344261.0    38929.0        0\n",
              "3774    500000.0      0      0   301441.0   302961.0    39356.0        0\n",
              "5296    500000.0      0      0  1664089.0  1684259.0   -18088.0        0\n",
              "5400    500000.0      0      0   385228.0   385228.0     8970.0        0\n",
              "6150    300000.0      0      0     4735.0   344467.0    -5973.0        1\n",
              "6864    500000.0      0      0   444462.0   300018.0   201402.0        0\n",
              "9044    500000.0      0      0   384973.0   384986.0    24201.0        0\n",
              "11568   430000.0      0      0   354716.0   358689.0      960.0        1\n",
              "11853   360000.0      1      0   338600.0   361560.0   -22960.0        0\n",
              "12829   340000.0      0      0   330510.0   312723.0   335584.0        1\n",
              "13186   750000.0      0      0   401003.0   401003.0     9655.0        0\n",
              "13863   520000.0      0      0   385425.0   415552.0     2728.0        0\n",
              "14513   460000.0      0      0   309622.0   580464.0   261444.0        0\n",
              "16917   350000.0      0      0   355925.0   340000.0   107315.0        0\n",
              "19723   500000.0      0      0   367979.0   368199.0    71921.0        0\n",
              "21250   340000.0      0      0   388126.0   388126.0    43418.0        0\n",
              "24920   430000.0      0      0   336073.0   325470.0    46127.0        0\n",
              "25731    80000.0      0      0   855086.0  1024516.0     -215.0        0\n",
              "28003   510000.0      0      0   559712.0  1227082.0   481382.0        0\n",
              "28716   340000.0      0      0    34402.0  1215471.0   176743.0        0\n",
              "28993   480000.0      0      0   400000.0   302000.0   106660.0        1"
            ]
          },
          "metadata": {
            "tags": []
          },
          "execution_count": 25
        }
      ]
    },
    {
      "cell_type": "markdown",
      "metadata": {
        "id": "o7Koq3qJWXdM"
      },
      "source": [
        "A quick check on all the others reveal that they are not outliers but simply clients with a lot of money.\n",
        "\n",
        "However, we will keep this in mind in case of algorithms sensible to scales.\n"
      ]
    },
    {
      "cell_type": "markdown",
      "metadata": {
        "id": "O8TXKPqqyRgW"
      },
      "source": [
        "### Check Relevance of feature with the target variable\n",
        "\n",
        "As we fixed ones that looked strange or outliers, lets look at the correlations with the target variable.\n",
        "\n",
        "The goal is to see how relevant each feature is, what is its meaning, if it can be used to create new features, and, as usual, play a bit with other basic techniques."
      ]
    },
    {
      "cell_type": "code",
      "metadata": {
        "colab": {
          "base_uri": "https://localhost:8080/"
        },
        "id": "uMt5fw_5WXdM",
        "outputId": "50a9e0ec-ed73-401e-e01d-c13b7373eaa6"
      },
      "source": [
        "df.groupby(['SEX', 'def_pay']).size()"
      ],
      "execution_count": 26,
      "outputs": [
        {
          "output_type": "execute_result",
          "data": {
            "text/plain": [
              "SEX  def_pay\n",
              "1    0           9015\n",
              "     1           2873\n",
              "2    0          14349\n",
              "     1           3763\n",
              "dtype: int64"
            ]
          },
          "metadata": {
            "tags": []
          },
          "execution_count": 26
        }
      ]
    },
    {
      "cell_type": "markdown",
      "metadata": {
        "id": "x7JDAJ0DWXdN"
      },
      "source": [
        "Well, this doesn't look very good, why don't we create a dataframe out of it?"
      ]
    },
    {
      "cell_type": "code",
      "metadata": {
        "colab": {
          "base_uri": "https://localhost:8080/",
          "height": 142
        },
        "id": "nLjgO3mpWXdN",
        "outputId": "6c8afa73-b04d-41d6-fb13-0c3af979dbab"
      },
      "source": [
        "# Using crosstab\n",
        "pd.crosstab(df.SEX, df.def_pay)"
      ],
      "execution_count": 27,
      "outputs": [
        {
          "output_type": "execute_result",
          "data": {
            "text/html": [
              "<div>\n",
              "<style scoped>\n",
              "    .dataframe tbody tr th:only-of-type {\n",
              "        vertical-align: middle;\n",
              "    }\n",
              "\n",
              "    .dataframe tbody tr th {\n",
              "        vertical-align: top;\n",
              "    }\n",
              "\n",
              "    .dataframe thead th {\n",
              "        text-align: right;\n",
              "    }\n",
              "</style>\n",
              "<table border=\"1\" class=\"dataframe\">\n",
              "  <thead>\n",
              "    <tr style=\"text-align: right;\">\n",
              "      <th>def_pay</th>\n",
              "      <th>0</th>\n",
              "      <th>1</th>\n",
              "    </tr>\n",
              "    <tr>\n",
              "      <th>SEX</th>\n",
              "      <th></th>\n",
              "      <th></th>\n",
              "    </tr>\n",
              "  </thead>\n",
              "  <tbody>\n",
              "    <tr>\n",
              "      <th>1</th>\n",
              "      <td>9015</td>\n",
              "      <td>2873</td>\n",
              "    </tr>\n",
              "    <tr>\n",
              "      <th>2</th>\n",
              "      <td>14349</td>\n",
              "      <td>3763</td>\n",
              "    </tr>\n",
              "  </tbody>\n",
              "</table>\n",
              "</div>"
            ],
            "text/plain": [
              "def_pay      0     1\n",
              "SEX                 \n",
              "1         9015  2873\n",
              "2        14349  3763"
            ]
          },
          "metadata": {
            "tags": []
          },
          "execution_count": 27
        }
      ]
    },
    {
      "cell_type": "markdown",
      "metadata": {
        "id": "dZHXqK5NWXdO"
      },
      "source": [
        "Considering that about 22% of the customers will default, we see a couple of things:\n",
        "\n",
        "there are significantly more women than men\n",
        "men are most likely going to default the next month\n",
        "However, we don't have to jump to any conclusion just yet since there might be some lurking variable that justifies the data better (and, being SEX the first variable we look at, it is most likely the case). However, nice result and move on."
      ]
    },
    {
      "cell_type": "code",
      "metadata": {
        "id": "tKj0AhGoWXdO"
      },
      "source": [
        "def corr_2_cols(Col1, Col2):\n",
        "    res = df.groupby([Col1, Col2]).size().unstack()\n",
        "    res['perc'] = (res[res.columns[1]]/(res[res.columns[0]] + res[res.columns[1]]))\n",
        "    return res"
      ],
      "execution_count": 28,
      "outputs": []
    },
    {
      "cell_type": "code",
      "metadata": {
        "colab": {
          "base_uri": "https://localhost:8080/",
          "height": 204
        },
        "id": "wMDwUytHWXdO",
        "outputId": "b3770b5f-f8c8-4538-d9b1-4185dab9d896"
      },
      "source": [
        "corr_2_cols('EDUCATION', 'def_pay')"
      ],
      "execution_count": 29,
      "outputs": [
        {
          "output_type": "execute_result",
          "data": {
            "text/html": [
              "<div>\n",
              "<style scoped>\n",
              "    .dataframe tbody tr th:only-of-type {\n",
              "        vertical-align: middle;\n",
              "    }\n",
              "\n",
              "    .dataframe tbody tr th {\n",
              "        vertical-align: top;\n",
              "    }\n",
              "\n",
              "    .dataframe thead th {\n",
              "        text-align: right;\n",
              "    }\n",
              "</style>\n",
              "<table border=\"1\" class=\"dataframe\">\n",
              "  <thead>\n",
              "    <tr style=\"text-align: right;\">\n",
              "      <th>def_pay</th>\n",
              "      <th>0</th>\n",
              "      <th>1</th>\n",
              "      <th>perc</th>\n",
              "    </tr>\n",
              "    <tr>\n",
              "      <th>EDUCATION</th>\n",
              "      <th></th>\n",
              "      <th></th>\n",
              "      <th></th>\n",
              "    </tr>\n",
              "  </thead>\n",
              "  <tbody>\n",
              "    <tr>\n",
              "      <th>1</th>\n",
              "      <td>8549</td>\n",
              "      <td>2036</td>\n",
              "      <td>0.192348</td>\n",
              "    </tr>\n",
              "    <tr>\n",
              "      <th>2</th>\n",
              "      <td>10700</td>\n",
              "      <td>3330</td>\n",
              "      <td>0.237349</td>\n",
              "    </tr>\n",
              "    <tr>\n",
              "      <th>3</th>\n",
              "      <td>3680</td>\n",
              "      <td>1237</td>\n",
              "      <td>0.251576</td>\n",
              "    </tr>\n",
              "    <tr>\n",
              "      <th>4</th>\n",
              "      <td>435</td>\n",
              "      <td>33</td>\n",
              "      <td>0.070513</td>\n",
              "    </tr>\n",
              "  </tbody>\n",
              "</table>\n",
              "</div>"
            ],
            "text/plain": [
              "def_pay        0     1      perc\n",
              "EDUCATION                       \n",
              "1           8549  2036  0.192348\n",
              "2          10700  3330  0.237349\n",
              "3           3680  1237  0.251576\n",
              "4            435    33  0.070513"
            ]
          },
          "metadata": {
            "tags": []
          },
          "execution_count": 29
        }
      ]
    },
    {
      "cell_type": "markdown",
      "metadata": {
        "id": "JgWy5PRwWXdO"
      },
      "source": [
        "It seems that the higher is the education, the lower is the probability of defaulting the next month. Only exception is for the category labeled \"Other\" that, if we stick to the documentation, would be lower than high school. However, numerically they will not have much weight in the final result.\n",
        "Let's see with MARRIAGE."
      ]
    },
    {
      "cell_type": "code",
      "metadata": {
        "colab": {
          "base_uri": "https://localhost:8080/",
          "height": 173
        },
        "id": "WL00I6MOWXdO",
        "outputId": "e2bb8600-fb14-46a7-e32f-881e6a15db32"
      },
      "source": [
        "corr_2_cols('MARRIAGE', 'def_pay')"
      ],
      "execution_count": 30,
      "outputs": [
        {
          "output_type": "execute_result",
          "data": {
            "text/html": [
              "<div>\n",
              "<style scoped>\n",
              "    .dataframe tbody tr th:only-of-type {\n",
              "        vertical-align: middle;\n",
              "    }\n",
              "\n",
              "    .dataframe tbody tr th {\n",
              "        vertical-align: top;\n",
              "    }\n",
              "\n",
              "    .dataframe thead th {\n",
              "        text-align: right;\n",
              "    }\n",
              "</style>\n",
              "<table border=\"1\" class=\"dataframe\">\n",
              "  <thead>\n",
              "    <tr style=\"text-align: right;\">\n",
              "      <th>def_pay</th>\n",
              "      <th>0</th>\n",
              "      <th>1</th>\n",
              "      <th>perc</th>\n",
              "    </tr>\n",
              "    <tr>\n",
              "      <th>MARRIAGE</th>\n",
              "      <th></th>\n",
              "      <th></th>\n",
              "      <th></th>\n",
              "    </tr>\n",
              "  </thead>\n",
              "  <tbody>\n",
              "    <tr>\n",
              "      <th>1</th>\n",
              "      <td>10453</td>\n",
              "      <td>3206</td>\n",
              "      <td>0.234717</td>\n",
              "    </tr>\n",
              "    <tr>\n",
              "      <th>2</th>\n",
              "      <td>12623</td>\n",
              "      <td>3341</td>\n",
              "      <td>0.209283</td>\n",
              "    </tr>\n",
              "    <tr>\n",
              "      <th>3</th>\n",
              "      <td>288</td>\n",
              "      <td>89</td>\n",
              "      <td>0.236074</td>\n",
              "    </tr>\n",
              "  </tbody>\n",
              "</table>\n",
              "</div>"
            ],
            "text/plain": [
              "def_pay       0     1      perc\n",
              "MARRIAGE                       \n",
              "1         10453  3206  0.234717\n",
              "2         12623  3341  0.209283\n",
              "3           288    89  0.236074"
            ]
          },
          "metadata": {
            "tags": []
          },
          "execution_count": 30
        }
      ]
    },
    {
      "cell_type": "markdown",
      "metadata": {
        "id": "4-R1REReWXdP"
      },
      "source": [
        "Here it seems that married people are most likely to default as well as the misterious category \"Other\" ( which is again numerically less relevant than the others)\n",
        "\n",
        "All considered, these three categories seem to affect the result we want to predict. Thus we keep them in mind for later.\n",
        "\n",
        "We try to explain these first results and, while we can imagine how marital status or education can determine the balance of your credit card, we can't find a way of explaining why the type of gender can do that as well."
      ]
    },
    {
      "cell_type": "code",
      "metadata": {
        "colab": {
          "base_uri": "https://localhost:8080/",
          "height": 173
        },
        "id": "QpOhLnWPWXdP",
        "outputId": "05aa54fa-dbe2-4e88-d101-578ad81b5b7a"
      },
      "source": [
        "corr_2_cols('MARRIAGE', 'SEX')\n"
      ],
      "execution_count": 32,
      "outputs": [
        {
          "output_type": "execute_result",
          "data": {
            "text/html": [
              "<div>\n",
              "<style scoped>\n",
              "    .dataframe tbody tr th:only-of-type {\n",
              "        vertical-align: middle;\n",
              "    }\n",
              "\n",
              "    .dataframe tbody tr th {\n",
              "        vertical-align: top;\n",
              "    }\n",
              "\n",
              "    .dataframe thead th {\n",
              "        text-align: right;\n",
              "    }\n",
              "</style>\n",
              "<table border=\"1\" class=\"dataframe\">\n",
              "  <thead>\n",
              "    <tr style=\"text-align: right;\">\n",
              "      <th>SEX</th>\n",
              "      <th>1</th>\n",
              "      <th>2</th>\n",
              "      <th>perc</th>\n",
              "    </tr>\n",
              "    <tr>\n",
              "      <th>MARRIAGE</th>\n",
              "      <th></th>\n",
              "      <th></th>\n",
              "      <th></th>\n",
              "    </tr>\n",
              "  </thead>\n",
              "  <tbody>\n",
              "    <tr>\n",
              "      <th>1</th>\n",
              "      <td>5190</td>\n",
              "      <td>8469</td>\n",
              "      <td>0.620031</td>\n",
              "    </tr>\n",
              "    <tr>\n",
              "      <th>2</th>\n",
              "      <td>6553</td>\n",
              "      <td>9411</td>\n",
              "      <td>0.589514</td>\n",
              "    </tr>\n",
              "    <tr>\n",
              "      <th>3</th>\n",
              "      <td>145</td>\n",
              "      <td>232</td>\n",
              "      <td>0.615385</td>\n",
              "    </tr>\n",
              "  </tbody>\n",
              "</table>\n",
              "</div>"
            ],
            "text/plain": [
              "SEX          1     2      perc\n",
              "MARRIAGE                      \n",
              "1         5190  8469  0.620031\n",
              "2         6553  9411  0.589514\n",
              "3          145   232  0.615385"
            ]
          },
          "metadata": {
            "tags": []
          },
          "execution_count": 32
        }
      ]
    },
    {
      "cell_type": "code",
      "metadata": {
        "colab": {
          "base_uri": "https://localhost:8080/",
          "height": 204
        },
        "id": "a9qZTcNNIXsh",
        "outputId": "3c6a8c25-1600-47dd-c9d7-fad71e0535fb"
      },
      "source": [
        "corr_2_cols('EDUCATION', 'SEX')"
      ],
      "execution_count": 33,
      "outputs": [
        {
          "output_type": "execute_result",
          "data": {
            "text/html": [
              "<div>\n",
              "<style scoped>\n",
              "    .dataframe tbody tr th:only-of-type {\n",
              "        vertical-align: middle;\n",
              "    }\n",
              "\n",
              "    .dataframe tbody tr th {\n",
              "        vertical-align: top;\n",
              "    }\n",
              "\n",
              "    .dataframe thead th {\n",
              "        text-align: right;\n",
              "    }\n",
              "</style>\n",
              "<table border=\"1\" class=\"dataframe\">\n",
              "  <thead>\n",
              "    <tr style=\"text-align: right;\">\n",
              "      <th>SEX</th>\n",
              "      <th>1</th>\n",
              "      <th>2</th>\n",
              "      <th>perc</th>\n",
              "    </tr>\n",
              "    <tr>\n",
              "      <th>EDUCATION</th>\n",
              "      <th></th>\n",
              "      <th></th>\n",
              "      <th></th>\n",
              "    </tr>\n",
              "  </thead>\n",
              "  <tbody>\n",
              "    <tr>\n",
              "      <th>1</th>\n",
              "      <td>4354</td>\n",
              "      <td>6231</td>\n",
              "      <td>0.588663</td>\n",
              "    </tr>\n",
              "    <tr>\n",
              "      <th>2</th>\n",
              "      <td>5374</td>\n",
              "      <td>8656</td>\n",
              "      <td>0.616964</td>\n",
              "    </tr>\n",
              "    <tr>\n",
              "      <th>3</th>\n",
              "      <td>1990</td>\n",
              "      <td>2927</td>\n",
              "      <td>0.595282</td>\n",
              "    </tr>\n",
              "    <tr>\n",
              "      <th>4</th>\n",
              "      <td>170</td>\n",
              "      <td>298</td>\n",
              "      <td>0.636752</td>\n",
              "    </tr>\n",
              "  </tbody>\n",
              "</table>\n",
              "</div>"
            ],
            "text/plain": [
              "SEX           1     2      perc\n",
              "EDUCATION                      \n",
              "1          4354  6231  0.588663\n",
              "2          5374  8656  0.616964\n",
              "3          1990  2927  0.595282\n",
              "4           170   298  0.636752"
            ]
          },
          "metadata": {
            "tags": []
          },
          "execution_count": 33
        }
      ]
    },
    {
      "cell_type": "markdown",
      "metadata": {
        "id": "ZdF0f3kLWXdP"
      },
      "source": [
        "Now I want to see if our suspects on the payments and the bills have some foundation"
      ]
    },
    {
      "cell_type": "code",
      "metadata": {
        "colab": {
          "base_uri": "https://localhost:8080/",
          "height": 979
        },
        "id": "SMOjMfTTWXdP",
        "outputId": "88e036ca-7e68-4a7e-91ad-6952a319dd11"
      },
      "source": [
        "df[['PAY_AMT6', 'BILL_AMT6', 'PAY_AMT5', \n",
        "     'BILL_AMT5', 'PAY_AMT4', 'BILL_AMT4', 'PAY_AMT3', 'BILL_AMT3', \n",
        "     'PAY_AMT2', 'BILL_AMT2',\n",
        "     'PAY_AMT1', 'BILL_AMT1',\n",
        "     'LIMIT_BAL', 'def_pay']].sample(30)\n",
        "df[df.def_pay == 1][['BILL_AMT2',\n",
        "     'PAY_AMT1', 'BILL_AMT1', 'PAY_1',\n",
        "     'LIMIT_BAL']].sample(30)"
      ],
      "execution_count": 34,
      "outputs": [
        {
          "output_type": "execute_result",
          "data": {
            "text/html": [
              "<div>\n",
              "<style scoped>\n",
              "    .dataframe tbody tr th:only-of-type {\n",
              "        vertical-align: middle;\n",
              "    }\n",
              "\n",
              "    .dataframe tbody tr th {\n",
              "        vertical-align: top;\n",
              "    }\n",
              "\n",
              "    .dataframe thead th {\n",
              "        text-align: right;\n",
              "    }\n",
              "</style>\n",
              "<table border=\"1\" class=\"dataframe\">\n",
              "  <thead>\n",
              "    <tr style=\"text-align: right;\">\n",
              "      <th></th>\n",
              "      <th>BILL_AMT2</th>\n",
              "      <th>PAY_AMT1</th>\n",
              "      <th>BILL_AMT1</th>\n",
              "      <th>PAY_1</th>\n",
              "      <th>LIMIT_BAL</th>\n",
              "    </tr>\n",
              "  </thead>\n",
              "  <tbody>\n",
              "    <tr>\n",
              "      <th>25830</th>\n",
              "      <td>57946.0</td>\n",
              "      <td>0.0</td>\n",
              "      <td>61291.0</td>\n",
              "      <td>1</td>\n",
              "      <td>60000.0</td>\n",
              "    </tr>\n",
              "    <tr>\n",
              "      <th>22776</th>\n",
              "      <td>264929.0</td>\n",
              "      <td>11000.0</td>\n",
              "      <td>267336.0</td>\n",
              "      <td>0</td>\n",
              "      <td>260000.0</td>\n",
              "    </tr>\n",
              "    <tr>\n",
              "      <th>7662</th>\n",
              "      <td>71902.0</td>\n",
              "      <td>3200.0</td>\n",
              "      <td>70428.0</td>\n",
              "      <td>2</td>\n",
              "      <td>140000.0</td>\n",
              "    </tr>\n",
              "    <tr>\n",
              "      <th>21017</th>\n",
              "      <td>50194.0</td>\n",
              "      <td>2500.0</td>\n",
              "      <td>48793.0</td>\n",
              "      <td>1</td>\n",
              "      <td>50000.0</td>\n",
              "    </tr>\n",
              "    <tr>\n",
              "      <th>26108</th>\n",
              "      <td>75513.0</td>\n",
              "      <td>0.0</td>\n",
              "      <td>77346.0</td>\n",
              "      <td>1</td>\n",
              "      <td>100000.0</td>\n",
              "    </tr>\n",
              "    <tr>\n",
              "      <th>6823</th>\n",
              "      <td>105189.0</td>\n",
              "      <td>4000.0</td>\n",
              "      <td>112577.0</td>\n",
              "      <td>0</td>\n",
              "      <td>90000.0</td>\n",
              "    </tr>\n",
              "    <tr>\n",
              "      <th>29169</th>\n",
              "      <td>8769.0</td>\n",
              "      <td>0.0</td>\n",
              "      <td>9061.0</td>\n",
              "      <td>1</td>\n",
              "      <td>20000.0</td>\n",
              "    </tr>\n",
              "    <tr>\n",
              "      <th>29152</th>\n",
              "      <td>78369.0</td>\n",
              "      <td>99.0</td>\n",
              "      <td>121709.0</td>\n",
              "      <td>1</td>\n",
              "      <td>120000.0</td>\n",
              "    </tr>\n",
              "    <tr>\n",
              "      <th>1457</th>\n",
              "      <td>3516.0</td>\n",
              "      <td>4500.0</td>\n",
              "      <td>-984.0</td>\n",
              "      <td>1</td>\n",
              "      <td>500000.0</td>\n",
              "    </tr>\n",
              "    <tr>\n",
              "      <th>16825</th>\n",
              "      <td>6882.0</td>\n",
              "      <td>1068.0</td>\n",
              "      <td>20439.0</td>\n",
              "      <td>0</td>\n",
              "      <td>100000.0</td>\n",
              "    </tr>\n",
              "    <tr>\n",
              "      <th>6551</th>\n",
              "      <td>22378.0</td>\n",
              "      <td>3000.0</td>\n",
              "      <td>19713.0</td>\n",
              "      <td>0</td>\n",
              "      <td>260000.0</td>\n",
              "    </tr>\n",
              "    <tr>\n",
              "      <th>20497</th>\n",
              "      <td>7898.0</td>\n",
              "      <td>1200.0</td>\n",
              "      <td>6962.0</td>\n",
              "      <td>1</td>\n",
              "      <td>20000.0</td>\n",
              "    </tr>\n",
              "    <tr>\n",
              "      <th>19660</th>\n",
              "      <td>20771.0</td>\n",
              "      <td>3599.0</td>\n",
              "      <td>18126.0</td>\n",
              "      <td>0</td>\n",
              "      <td>20000.0</td>\n",
              "    </tr>\n",
              "    <tr>\n",
              "      <th>11074</th>\n",
              "      <td>2500.0</td>\n",
              "      <td>0.0</td>\n",
              "      <td>2500.0</td>\n",
              "      <td>2</td>\n",
              "      <td>260000.0</td>\n",
              "    </tr>\n",
              "    <tr>\n",
              "      <th>12894</th>\n",
              "      <td>2998.0</td>\n",
              "      <td>2998.0</td>\n",
              "      <td>1473.0</td>\n",
              "      <td>2</td>\n",
              "      <td>30000.0</td>\n",
              "    </tr>\n",
              "    <tr>\n",
              "      <th>7700</th>\n",
              "      <td>0.0</td>\n",
              "      <td>0.0</td>\n",
              "      <td>0.0</td>\n",
              "      <td>1</td>\n",
              "      <td>130000.0</td>\n",
              "    </tr>\n",
              "    <tr>\n",
              "      <th>985</th>\n",
              "      <td>6377.0</td>\n",
              "      <td>6433.0</td>\n",
              "      <td>1018.0</td>\n",
              "      <td>1</td>\n",
              "      <td>130000.0</td>\n",
              "    </tr>\n",
              "    <tr>\n",
              "      <th>10632</th>\n",
              "      <td>5406.0</td>\n",
              "      <td>0.0</td>\n",
              "      <td>5713.0</td>\n",
              "      <td>0</td>\n",
              "      <td>50000.0</td>\n",
              "    </tr>\n",
              "    <tr>\n",
              "      <th>2405</th>\n",
              "      <td>2400.0</td>\n",
              "      <td>0.0</td>\n",
              "      <td>2400.0</td>\n",
              "      <td>2</td>\n",
              "      <td>50000.0</td>\n",
              "    </tr>\n",
              "    <tr>\n",
              "      <th>23019</th>\n",
              "      <td>10570.0</td>\n",
              "      <td>6725.0</td>\n",
              "      <td>33794.0</td>\n",
              "      <td>0</td>\n",
              "      <td>110000.0</td>\n",
              "    </tr>\n",
              "    <tr>\n",
              "      <th>6160</th>\n",
              "      <td>0.0</td>\n",
              "      <td>0.0</td>\n",
              "      <td>0.0</td>\n",
              "      <td>1</td>\n",
              "      <td>370000.0</td>\n",
              "    </tr>\n",
              "    <tr>\n",
              "      <th>27284</th>\n",
              "      <td>580.0</td>\n",
              "      <td>580.0</td>\n",
              "      <td>580.0</td>\n",
              "      <td>0</td>\n",
              "      <td>200000.0</td>\n",
              "    </tr>\n",
              "    <tr>\n",
              "      <th>1931</th>\n",
              "      <td>707.0</td>\n",
              "      <td>1097.0</td>\n",
              "      <td>390.0</td>\n",
              "      <td>0</td>\n",
              "      <td>20000.0</td>\n",
              "    </tr>\n",
              "    <tr>\n",
              "      <th>18296</th>\n",
              "      <td>15350.0</td>\n",
              "      <td>0.0</td>\n",
              "      <td>15903.0</td>\n",
              "      <td>1</td>\n",
              "      <td>20000.0</td>\n",
              "    </tr>\n",
              "    <tr>\n",
              "      <th>1108</th>\n",
              "      <td>79463.0</td>\n",
              "      <td>4000.0</td>\n",
              "      <td>76962.0</td>\n",
              "      <td>0</td>\n",
              "      <td>80000.0</td>\n",
              "    </tr>\n",
              "    <tr>\n",
              "      <th>6255</th>\n",
              "      <td>52440.0</td>\n",
              "      <td>3500.0</td>\n",
              "      <td>50033.0</td>\n",
              "      <td>2</td>\n",
              "      <td>130000.0</td>\n",
              "    </tr>\n",
              "    <tr>\n",
              "      <th>27507</th>\n",
              "      <td>77652.0</td>\n",
              "      <td>2779.0</td>\n",
              "      <td>80449.0</td>\n",
              "      <td>0</td>\n",
              "      <td>80000.0</td>\n",
              "    </tr>\n",
              "    <tr>\n",
              "      <th>14062</th>\n",
              "      <td>12404.0</td>\n",
              "      <td>0.0</td>\n",
              "      <td>12894.0</td>\n",
              "      <td>3</td>\n",
              "      <td>30000.0</td>\n",
              "    </tr>\n",
              "    <tr>\n",
              "      <th>27452</th>\n",
              "      <td>229701.0</td>\n",
              "      <td>10000.0</td>\n",
              "      <td>225043.0</td>\n",
              "      <td>2</td>\n",
              "      <td>230000.0</td>\n",
              "    </tr>\n",
              "    <tr>\n",
              "      <th>18913</th>\n",
              "      <td>47923.0</td>\n",
              "      <td>3500.0</td>\n",
              "      <td>45472.0</td>\n",
              "      <td>1</td>\n",
              "      <td>50000.0</td>\n",
              "    </tr>\n",
              "  </tbody>\n",
              "</table>\n",
              "</div>"
            ],
            "text/plain": [
              "       BILL_AMT2  PAY_AMT1  BILL_AMT1  PAY_1  LIMIT_BAL\n",
              "25830    57946.0       0.0    61291.0      1    60000.0\n",
              "22776   264929.0   11000.0   267336.0      0   260000.0\n",
              "7662     71902.0    3200.0    70428.0      2   140000.0\n",
              "21017    50194.0    2500.0    48793.0      1    50000.0\n",
              "26108    75513.0       0.0    77346.0      1   100000.0\n",
              "6823    105189.0    4000.0   112577.0      0    90000.0\n",
              "29169     8769.0       0.0     9061.0      1    20000.0\n",
              "29152    78369.0      99.0   121709.0      1   120000.0\n",
              "1457      3516.0    4500.0     -984.0      1   500000.0\n",
              "16825     6882.0    1068.0    20439.0      0   100000.0\n",
              "6551     22378.0    3000.0    19713.0      0   260000.0\n",
              "20497     7898.0    1200.0     6962.0      1    20000.0\n",
              "19660    20771.0    3599.0    18126.0      0    20000.0\n",
              "11074     2500.0       0.0     2500.0      2   260000.0\n",
              "12894     2998.0    2998.0     1473.0      2    30000.0\n",
              "7700         0.0       0.0        0.0      1   130000.0\n",
              "985       6377.0    6433.0     1018.0      1   130000.0\n",
              "10632     5406.0       0.0     5713.0      0    50000.0\n",
              "2405      2400.0       0.0     2400.0      2    50000.0\n",
              "23019    10570.0    6725.0    33794.0      0   110000.0\n",
              "6160         0.0       0.0        0.0      1   370000.0\n",
              "27284      580.0     580.0      580.0      0   200000.0\n",
              "1931       707.0    1097.0      390.0      0    20000.0\n",
              "18296    15350.0       0.0    15903.0      1    20000.0\n",
              "1108     79463.0    4000.0    76962.0      0    80000.0\n",
              "6255     52440.0    3500.0    50033.0      2   130000.0\n",
              "27507    77652.0    2779.0    80449.0      0    80000.0\n",
              "14062    12404.0       0.0    12894.0      3    30000.0\n",
              "27452   229701.0   10000.0   225043.0      2   230000.0\n",
              "18913    47923.0    3500.0    45472.0      1    50000.0"
            ]
          },
          "metadata": {
            "tags": []
          },
          "execution_count": 34
        }
      ]
    },
    {
      "cell_type": "markdown",
      "metadata": {
        "id": "0E5CQDbtWXdQ"
      },
      "source": [
        "To us it seems that it goes like that:\n",
        "* I have a BILL of X, I pay Y\n",
        "* The month after I have to pay X-Y + X', being X' my new expenses, I pay Y'\n",
        "* The month after I have to pay X+X' - Y - Y' + X'' , I pay Y''\n",
        "* So on so forth\n",
        "\n",
        "On top of that I may or may not have months of delay.\n",
        "\n",
        "It seems that if by september I have a bill too close to my limit, I generally fail. However, we can already see some dramatic exceptions.\n",
        "\n",
        "Moreover, we can spot some clients that joined our dataset at a later month: they have 0 in BILL and PAY AMT for a while and then they start. We have to keep that in mind as well.\n",
        "\n",
        "Now we want to see how the month of delay gets assigned. To this end, we will consider only people with no delays 6 months ago and see how their payments go."
      ]
    },
    {
      "cell_type": "code",
      "metadata": {
        "colab": {
          "base_uri": "https://localhost:8080/",
          "height": 328
        },
        "id": "1OWRLJhnWXdQ",
        "outputId": "da2716e1-82b7-4753-dbc5-ed38f36cf6b8"
      },
      "source": [
        "fil = ((df.PAY_6 == 0) & (df.BILL_AMT6 > 0) & (df.PAY_5 > 0))\n",
        "df[fil][['BILL_AMT6', 'PAY_AMT5', 'BILL_AMT5', 'PAY_5']].sample(20)\n",
        "fil = ((df.PAY_6 == 0) & (df.BILL_AMT6 > 0) & (df.PAY_5 > 0) & (df.PAY_AMT5 == 0))\n",
        "df[fil][['BILL_AMT6', 'PAY_AMT5', 'BILL_AMT5', 'PAY_5']]"
      ],
      "execution_count": 35,
      "outputs": [
        {
          "output_type": "execute_result",
          "data": {
            "text/html": [
              "<div>\n",
              "<style scoped>\n",
              "    .dataframe tbody tr th:only-of-type {\n",
              "        vertical-align: middle;\n",
              "    }\n",
              "\n",
              "    .dataframe tbody tr th {\n",
              "        vertical-align: top;\n",
              "    }\n",
              "\n",
              "    .dataframe thead th {\n",
              "        text-align: right;\n",
              "    }\n",
              "</style>\n",
              "<table border=\"1\" class=\"dataframe\">\n",
              "  <thead>\n",
              "    <tr style=\"text-align: right;\">\n",
              "      <th></th>\n",
              "      <th>BILL_AMT6</th>\n",
              "      <th>PAY_AMT5</th>\n",
              "      <th>BILL_AMT5</th>\n",
              "      <th>PAY_5</th>\n",
              "    </tr>\n",
              "  </thead>\n",
              "  <tbody>\n",
              "    <tr>\n",
              "      <th>2272</th>\n",
              "      <td>244.0</td>\n",
              "      <td>0.0</td>\n",
              "      <td>244.0</td>\n",
              "      <td>2</td>\n",
              "    </tr>\n",
              "    <tr>\n",
              "      <th>13895</th>\n",
              "      <td>950.0</td>\n",
              "      <td>0.0</td>\n",
              "      <td>1340.0</td>\n",
              "      <td>2</td>\n",
              "    </tr>\n",
              "    <tr>\n",
              "      <th>18795</th>\n",
              "      <td>20000.0</td>\n",
              "      <td>0.0</td>\n",
              "      <td>20000.0</td>\n",
              "      <td>2</td>\n",
              "    </tr>\n",
              "    <tr>\n",
              "      <th>19933</th>\n",
              "      <td>2240.0</td>\n",
              "      <td>0.0</td>\n",
              "      <td>2825.0</td>\n",
              "      <td>2</td>\n",
              "    </tr>\n",
              "    <tr>\n",
              "      <th>20737</th>\n",
              "      <td>18767.0</td>\n",
              "      <td>0.0</td>\n",
              "      <td>18767.0</td>\n",
              "      <td>2</td>\n",
              "    </tr>\n",
              "    <tr>\n",
              "      <th>22212</th>\n",
              "      <td>702.0</td>\n",
              "      <td>0.0</td>\n",
              "      <td>802.0</td>\n",
              "      <td>2</td>\n",
              "    </tr>\n",
              "    <tr>\n",
              "      <th>22691</th>\n",
              "      <td>249.0</td>\n",
              "      <td>0.0</td>\n",
              "      <td>27231.0</td>\n",
              "      <td>2</td>\n",
              "    </tr>\n",
              "    <tr>\n",
              "      <th>23887</th>\n",
              "      <td>25000.0</td>\n",
              "      <td>0.0</td>\n",
              "      <td>26000.0</td>\n",
              "      <td>2</td>\n",
              "    </tr>\n",
              "    <tr>\n",
              "      <th>27196</th>\n",
              "      <td>1170.0</td>\n",
              "      <td>0.0</td>\n",
              "      <td>1573.0</td>\n",
              "      <td>2</td>\n",
              "    </tr>\n",
              "  </tbody>\n",
              "</table>\n",
              "</div>"
            ],
            "text/plain": [
              "       BILL_AMT6  PAY_AMT5  BILL_AMT5  PAY_5\n",
              "2272       244.0       0.0      244.0      2\n",
              "13895      950.0       0.0     1340.0      2\n",
              "18795    20000.0       0.0    20000.0      2\n",
              "19933     2240.0       0.0     2825.0      2\n",
              "20737    18767.0       0.0    18767.0      2\n",
              "22212      702.0       0.0      802.0      2\n",
              "22691      249.0       0.0    27231.0      2\n",
              "23887    25000.0       0.0    26000.0      2\n",
              "27196     1170.0       0.0     1573.0      2"
            ]
          },
          "metadata": {
            "tags": []
          },
          "execution_count": 35
        }
      ]
    },
    {
      "cell_type": "markdown",
      "metadata": {
        "id": "R8kSPuilWXdQ"
      },
      "source": [
        "Why there is no PAY_5 at 1 but only at 2? This is the first month the client doesn't pay (or doesn't pay enough)\n",
        "Sometimes the client did pay but still got a delay value bigger than 0"
      ]
    },
    {
      "cell_type": "code",
      "metadata": {
        "colab": {
          "base_uri": "https://localhost:8080/",
          "height": 242
        },
        "id": "Mt0e2ZdCWXdQ",
        "outputId": "244fc9d1-6513-4549-8128-84d5f9f1863d"
      },
      "source": [
        "fil = ((df.PAY_AMT1 > df.BILL_AMT2) & (df.PAY_1 > 0) & (df.PAY_2 == 0))\n",
        "df[fil][['BILL_AMT2', 'PAY_2', 'PAY_AMT2', 'BILL_AMT1', 'PAY_1', 'LIMIT_BAL', 'def_pay']].head(15)\n",
        "g = sns.FacetGrid(df, col = 'def_pay')\n",
        "g.map(plt.hist, 'AGE')"
      ],
      "execution_count": 36,
      "outputs": [
        {
          "output_type": "execute_result",
          "data": {
            "text/plain": [
              "<seaborn.axisgrid.FacetGrid at 0x7f89952cfd10>"
            ]
          },
          "metadata": {
            "tags": []
          },
          "execution_count": 36
        },
        {
          "output_type": "display_data",
          "data": {
            "image/png": "[encoded data removed]",
            "text/plain": [
              "<Figure size 432x216 with 2 Axes>"
            ]
          },
          "metadata": {
            "tags": [],
            "needs_background": "light"
          }
        }
      ]
    },
    {
      "cell_type": "markdown",
      "metadata": {
        "id": "SwHP3ctNWXdR"
      },
      "source": [
        "We infer that there are clients that paid more there were asked to, had even a negative bill in September, and, still have a month of delay, and even defaulted the next month. We are not inclined of not considering the variables PAY_n for my models because we can't give sense to them (even though it seems they can play a big role). We can transform them into a binary variable (late/not late) because that is something we can understand."
      ]
    },
    {
      "cell_type": "code",
      "metadata": {
        "colab": {
          "base_uri": "https://localhost:8080/",
          "height": 297
        },
        "id": "ql3FqxkaWXdR",
        "outputId": "76e2350f-6ffa-4893-cae4-d9f59a101a06"
      },
      "source": [
        "df.loc[df.PAY_1 > 0, 'PAY_1'] = 1\n",
        "df.loc[df.PAY_2 > 0, 'PAY_2'] = 1\n",
        "df.loc[df.PAY_3 > 0, 'PAY_3'] = 1\n",
        "df.loc[df.PAY_4 > 0, 'PAY_4'] = 1\n",
        "df.loc[df.PAY_5 > 0, 'PAY_5'] = 1\n",
        "df.loc[df.PAY_6 > 0, 'PAY_6'] = 1\n",
        "late = df[['PAY_1','PAY_2', 'PAY_3', 'PAY_4', 'PAY_5', 'PAY_6']]\n",
        "draw_histograms(late, late.columns, 2, 3, 10)"
      ],
      "execution_count": 37,
      "outputs": [
        {
          "output_type": "display_data",
          "data": {
            "image/png": "[encoded data removed]",
            "text/plain": [
              "<Figure size 432x288 with 6 Axes>"
            ]
          },
          "metadata": {
            "tags": [],
            "needs_background": "light"
          }
        }
      ]
    },
    {
      "cell_type": "markdown",
      "metadata": {
        "id": "CHOljHg7WXdR"
      },
      "source": [
        "## 2.3 Feature Engineering"
      ]
    },
    {
      "cell_type": "markdown",
      "metadata": {
        "id": "0_mnO07RWXdR"
      },
      "source": [
        "We saw that men are most likely to default and also that married people are most likely to default. Why don't we then combine in a single variable given by the product of the two? We chose these two first because they are both labeled 1,2 and they both decrease the probability of defaulting if their value increase. According to our models, SEX and MARRIAGE are the least important variables, so it can be a good exercise to see if combining them is a waste of time.\n",
        "\n",
        "This operation will create a category for married man, which we expect to be the one with high probability of defaulting, a combination of married women and single man, a category (expected to be numerically less populated) of \"divorced\" men (in other words, the \"other\" in marriage times the \"male\" in sex), one for single women and one for \"divorced\" women."
      ]
    },
    {
      "cell_type": "code",
      "metadata": {
        "colab": {
          "base_uri": "https://localhost:8080/",
          "height": 111
        },
        "id": "KsF2V06dWXdR",
        "outputId": "008ca3b6-2686-44bd-96a2-14e73cf3ccd7"
      },
      "source": [
        "df['SE_MA'] = 0\n",
        "df.loc[((df.SEX == 1) & (df.MARRIAGE == 1)) , 'SE_MA_2'] = 1 #married man\n",
        "df.loc[((df.SEX == 1) & (df.MARRIAGE == 2)) , 'SE_MA_2'] = 2 #single man\n",
        "df.loc[((df.SEX == 1) & (df.MARRIAGE == 3)) , 'SE_MA_2'] = 3 #divorced man\n",
        "df.loc[((df.SEX == 2) & (df.MARRIAGE == 1)) , 'SE_MA_2'] = 4 #married woman\n",
        "df.loc[((df.SEX == 2) & (df.MARRIAGE == 2)) , 'SE_MA_2'] = 5 #single woman\n",
        "df.loc[((df.SEX == 2) & (df.MARRIAGE == 3)) , 'SE_MA_2'] = 6 #divorced woman\n",
        "corr_2_cols('SE_MA', 'def_pay')"
      ],
      "execution_count": 38,
      "outputs": [
        {
          "output_type": "execute_result",
          "data": {
            "text/html": [
              "<div>\n",
              "<style scoped>\n",
              "    .dataframe tbody tr th:only-of-type {\n",
              "        vertical-align: middle;\n",
              "    }\n",
              "\n",
              "    .dataframe tbody tr th {\n",
              "        vertical-align: top;\n",
              "    }\n",
              "\n",
              "    .dataframe thead th {\n",
              "        text-align: right;\n",
              "    }\n",
              "</style>\n",
              "<table border=\"1\" class=\"dataframe\">\n",
              "  <thead>\n",
              "    <tr style=\"text-align: right;\">\n",
              "      <th>def_pay</th>\n",
              "      <th>0</th>\n",
              "      <th>1</th>\n",
              "      <th>perc</th>\n",
              "    </tr>\n",
              "    <tr>\n",
              "      <th>SE_MA</th>\n",
              "      <th></th>\n",
              "      <th></th>\n",
              "      <th></th>\n",
              "    </tr>\n",
              "  </thead>\n",
              "  <tbody>\n",
              "    <tr>\n",
              "      <th>0</th>\n",
              "      <td>23364</td>\n",
              "      <td>6636</td>\n",
              "      <td>0.2212</td>\n",
              "    </tr>\n",
              "  </tbody>\n",
              "</table>\n",
              "</div>"
            ],
            "text/plain": [
              "def_pay      0     1    perc\n",
              "SE_MA                       \n",
              "0        23364  6636  0.2212"
            ]
          },
          "metadata": {
            "tags": []
          },
          "execution_count": 38
        }
      ]
    },
    {
      "cell_type": "code",
      "metadata": {
        "colab": {
          "base_uri": "https://localhost:8080/",
          "height": 282
        },
        "id": "QsKzt5rJWXdS",
        "outputId": "5dde1971-7d78-4138-804d-9a7fb1ecc248"
      },
      "source": [
        "bins = [20, 29, 39, 49, 59, 69, 81]\n",
        "bins_names = [1, 2, 3, 4, 5, 6]\n",
        "df['AgeBin'] = pd.cut(df['AGE'], bins, labels=bins_names)\n",
        "df.AgeBin.hist()\n"
      ],
      "execution_count": 39,
      "outputs": [
        {
          "output_type": "execute_result",
          "data": {
            "text/plain": [
              "<matplotlib.axes._subplots.AxesSubplot at 0x7f89951c2710>"
            ]
          },
          "metadata": {
            "tags": []
          },
          "execution_count": 39
        },
        {
          "output_type": "display_data",
          "data": {
            "image/png": "[encoded data removed]",
            "text/plain": [
              "<Figure size 432x288 with 1 Axes>"
            ]
          },
          "metadata": {
            "tags": [],
            "needs_background": "light"
          }
        }
      ]
    },
    {
      "cell_type": "code",
      "metadata": {
        "colab": {
          "base_uri": "https://localhost:8080/",
          "height": 282
        },
        "id": "77ClUkEfWXdS",
        "outputId": "7a68532d-af66-43cc-dfc3-36dabc975ec0"
      },
      "source": [
        "df['AgeBin'] = pd.cut(df['AGE'], 6, labels = [1,2,3,4,5,6])\n",
        "#because 1 2 3 ecc are \"categories\" so far and we need numbers\n",
        "df['AgeBin'] = pd.to_numeric(df['AgeBin'])\n",
        "df.loc[(df['AgeBin'] == 6) , 'AgeBin'] = 5\n",
        "df.AgeBin.hist()"
      ],
      "execution_count": 40,
      "outputs": [
        {
          "output_type": "execute_result",
          "data": {
            "text/plain": [
              "<matplotlib.axes._subplots.AxesSubplot at 0x7f8994ee85d0>"
            ]
          },
          "metadata": {
            "tags": []
          },
          "execution_count": 40
        },
        {
          "output_type": "display_data",
          "data": {
            "image/png": "[encoded data removed]",
            "text/plain": [
              "<Figure size 432x288 with 1 Axes>"
            ]
          },
          "metadata": {
            "tags": [],
            "needs_background": "light"
          }
        }
      ]
    },
    {
      "cell_type": "code",
      "metadata": {
        "colab": {
          "base_uri": "https://localhost:8080/",
          "height": 235
        },
        "id": "vFZtFSdfWXdS",
        "outputId": "1b05bf36-ed01-4bfb-bdd9-4064afbefe00"
      },
      "source": [
        "corr_2_cols('AgeBin', 'def_pay')\n"
      ],
      "execution_count": 42,
      "outputs": [
        {
          "output_type": "execute_result",
          "data": {
            "text/html": [
              "<div>\n",
              "<style scoped>\n",
              "    .dataframe tbody tr th:only-of-type {\n",
              "        vertical-align: middle;\n",
              "    }\n",
              "\n",
              "    .dataframe tbody tr th {\n",
              "        vertical-align: top;\n",
              "    }\n",
              "\n",
              "    .dataframe thead th {\n",
              "        text-align: right;\n",
              "    }\n",
              "</style>\n",
              "<table border=\"1\" class=\"dataframe\">\n",
              "  <thead>\n",
              "    <tr style=\"text-align: right;\">\n",
              "      <th>def_pay</th>\n",
              "      <th>0</th>\n",
              "      <th>1</th>\n",
              "      <th>perc</th>\n",
              "    </tr>\n",
              "    <tr>\n",
              "      <th>AgeBin</th>\n",
              "      <th></th>\n",
              "      <th></th>\n",
              "      <th></th>\n",
              "    </tr>\n",
              "  </thead>\n",
              "  <tbody>\n",
              "    <tr>\n",
              "      <th>1</th>\n",
              "      <td>8542</td>\n",
              "      <td>2471</td>\n",
              "      <td>0.224371</td>\n",
              "    </tr>\n",
              "    <tr>\n",
              "      <th>2</th>\n",
              "      <td>8524</td>\n",
              "      <td>2189</td>\n",
              "      <td>0.204331</td>\n",
              "    </tr>\n",
              "    <tr>\n",
              "      <th>3</th>\n",
              "      <td>4606</td>\n",
              "      <td>1399</td>\n",
              "      <td>0.232973</td>\n",
              "    </tr>\n",
              "    <tr>\n",
              "      <th>4</th>\n",
              "      <td>1449</td>\n",
              "      <td>481</td>\n",
              "      <td>0.249223</td>\n",
              "    </tr>\n",
              "    <tr>\n",
              "      <th>5</th>\n",
              "      <td>243</td>\n",
              "      <td>96</td>\n",
              "      <td>0.283186</td>\n",
              "    </tr>\n",
              "  </tbody>\n",
              "</table>\n",
              "</div>"
            ],
            "text/plain": [
              "def_pay     0     1      perc\n",
              "AgeBin                       \n",
              "1        8542  2471  0.224371\n",
              "2        8524  2189  0.204331\n",
              "3        4606  1399  0.232973\n",
              "4        1449   481  0.249223\n",
              "5         243    96  0.283186"
            ]
          },
          "metadata": {
            "tags": []
          },
          "execution_count": 42
        }
      ]
    },
    {
      "cell_type": "code",
      "metadata": {
        "colab": {
          "base_uri": "https://localhost:8080/",
          "height": 235
        },
        "id": "980V9BtZJfLu",
        "outputId": "99703f5b-742f-4646-d39f-a60fe9926d61"
      },
      "source": [
        "corr_2_cols('AgeBin', 'SEX')"
      ],
      "execution_count": 43,
      "outputs": [
        {
          "output_type": "execute_result",
          "data": {
            "text/html": [
              "<div>\n",
              "<style scoped>\n",
              "    .dataframe tbody tr th:only-of-type {\n",
              "        vertical-align: middle;\n",
              "    }\n",
              "\n",
              "    .dataframe tbody tr th {\n",
              "        vertical-align: top;\n",
              "    }\n",
              "\n",
              "    .dataframe thead th {\n",
              "        text-align: right;\n",
              "    }\n",
              "</style>\n",
              "<table border=\"1\" class=\"dataframe\">\n",
              "  <thead>\n",
              "    <tr style=\"text-align: right;\">\n",
              "      <th>SEX</th>\n",
              "      <th>1</th>\n",
              "      <th>2</th>\n",
              "      <th>perc</th>\n",
              "    </tr>\n",
              "    <tr>\n",
              "      <th>AgeBin</th>\n",
              "      <th></th>\n",
              "      <th></th>\n",
              "      <th></th>\n",
              "    </tr>\n",
              "  </thead>\n",
              "  <tbody>\n",
              "    <tr>\n",
              "      <th>1</th>\n",
              "      <td>3842</td>\n",
              "      <td>7171</td>\n",
              "      <td>0.651140</td>\n",
              "    </tr>\n",
              "    <tr>\n",
              "      <th>2</th>\n",
              "      <td>4363</td>\n",
              "      <td>6350</td>\n",
              "      <td>0.592738</td>\n",
              "    </tr>\n",
              "    <tr>\n",
              "      <th>3</th>\n",
              "      <td>2587</td>\n",
              "      <td>3418</td>\n",
              "      <td>0.569192</td>\n",
              "    </tr>\n",
              "    <tr>\n",
              "      <th>4</th>\n",
              "      <td>917</td>\n",
              "      <td>1013</td>\n",
              "      <td>0.524870</td>\n",
              "    </tr>\n",
              "    <tr>\n",
              "      <th>5</th>\n",
              "      <td>179</td>\n",
              "      <td>160</td>\n",
              "      <td>0.471976</td>\n",
              "    </tr>\n",
              "  </tbody>\n",
              "</table>\n",
              "</div>"
            ],
            "text/plain": [
              "SEX        1     2      perc\n",
              "AgeBin                      \n",
              "1       3842  7171  0.651140\n",
              "2       4363  6350  0.592738\n",
              "3       2587  3418  0.569192\n",
              "4        917  1013  0.524870\n",
              "5        179   160  0.471976"
            ]
          },
          "metadata": {
            "tags": []
          },
          "execution_count": 43
        }
      ]
    },
    {
      "cell_type": "markdown",
      "metadata": {
        "id": "g5iFwfsgWXdS"
      },
      "source": [
        "We see that default probability goes down in your 30's and then goes higher and higher. At the same time, the percentage of men is growing with the age category. Thus we, want to combine the two as before and create a combination of the two."
      ]
    },
    {
      "cell_type": "code",
      "metadata": {
        "colab": {
          "base_uri": "https://localhost:8080/",
          "height": 390
        },
        "id": "UwXBzHnAWXdT",
        "outputId": "93351ea6-19f5-4a79-cfb9-20e3ca4a5073"
      },
      "source": [
        "df['SE_AG'] = 0\n",
        "df.loc[((df.SEX == 1) & (df.AgeBin == 1)) , 'SE_AG'] = 1 #man in 20's\n",
        "df.loc[((df.SEX == 1) & (df.AgeBin == 2)) , 'SE_AG'] = 2 #man in 30's\n",
        "df.loc[((df.SEX == 1) & (df.AgeBin == 3)) , 'SE_AG'] = 3 #man in 40's\n",
        "df.loc[((df.SEX == 1) & (df.AgeBin == 4)) , 'SE_AG'] = 4 #man in 50's\n",
        "df.loc[((df.SEX == 1) & (df.AgeBin == 5)) , 'SE_AG'] = 5 #man in 60's and above\n",
        "df.loc[((df.SEX == 2) & (df.AgeBin == 1)) , 'SE_AG'] = 6 #woman in 20's\n",
        "df.loc[((df.SEX == 2) & (df.AgeBin == 2)) , 'SE_AG'] = 7 #woman in 30's\n",
        "df.loc[((df.SEX == 2) & (df.AgeBin == 3)) , 'SE_AG'] = 8 #woman in 40's\n",
        "df.loc[((df.SEX == 2) & (df.AgeBin == 4)) , 'SE_AG'] = 9 #woman in 50's\n",
        "df.loc[((df.SEX == 2) & (df.AgeBin == 5)) , 'SE_AG'] = 10 #woman in 60's and above\n",
        "corr_2_cols('SE_AG', 'def_pay')"
      ],
      "execution_count": 45,
      "outputs": [
        {
          "output_type": "execute_result",
          "data": {
            "text/html": [
              "<div>\n",
              "<style scoped>\n",
              "    .dataframe tbody tr th:only-of-type {\n",
              "        vertical-align: middle;\n",
              "    }\n",
              "\n",
              "    .dataframe tbody tr th {\n",
              "        vertical-align: top;\n",
              "    }\n",
              "\n",
              "    .dataframe thead th {\n",
              "        text-align: right;\n",
              "    }\n",
              "</style>\n",
              "<table border=\"1\" class=\"dataframe\">\n",
              "  <thead>\n",
              "    <tr style=\"text-align: right;\">\n",
              "      <th>def_pay</th>\n",
              "      <th>0</th>\n",
              "      <th>1</th>\n",
              "      <th>perc</th>\n",
              "    </tr>\n",
              "    <tr>\n",
              "      <th>SE_AG</th>\n",
              "      <th></th>\n",
              "      <th></th>\n",
              "      <th></th>\n",
              "    </tr>\n",
              "  </thead>\n",
              "  <tbody>\n",
              "    <tr>\n",
              "      <th>1</th>\n",
              "      <td>2929</td>\n",
              "      <td>913</td>\n",
              "      <td>0.237637</td>\n",
              "    </tr>\n",
              "    <tr>\n",
              "      <th>2</th>\n",
              "      <td>3350</td>\n",
              "      <td>1013</td>\n",
              "      <td>0.232180</td>\n",
              "    </tr>\n",
              "    <tr>\n",
              "      <th>3</th>\n",
              "      <td>1939</td>\n",
              "      <td>648</td>\n",
              "      <td>0.250483</td>\n",
              "    </tr>\n",
              "    <tr>\n",
              "      <th>4</th>\n",
              "      <td>666</td>\n",
              "      <td>251</td>\n",
              "      <td>0.273719</td>\n",
              "    </tr>\n",
              "    <tr>\n",
              "      <th>5</th>\n",
              "      <td>131</td>\n",
              "      <td>48</td>\n",
              "      <td>0.268156</td>\n",
              "    </tr>\n",
              "    <tr>\n",
              "      <th>6</th>\n",
              "      <td>5613</td>\n",
              "      <td>1558</td>\n",
              "      <td>0.217264</td>\n",
              "    </tr>\n",
              "    <tr>\n",
              "      <th>7</th>\n",
              "      <td>5174</td>\n",
              "      <td>1176</td>\n",
              "      <td>0.185197</td>\n",
              "    </tr>\n",
              "    <tr>\n",
              "      <th>8</th>\n",
              "      <td>2667</td>\n",
              "      <td>751</td>\n",
              "      <td>0.219719</td>\n",
              "    </tr>\n",
              "    <tr>\n",
              "      <th>9</th>\n",
              "      <td>783</td>\n",
              "      <td>230</td>\n",
              "      <td>0.227048</td>\n",
              "    </tr>\n",
              "    <tr>\n",
              "      <th>10</th>\n",
              "      <td>112</td>\n",
              "      <td>48</td>\n",
              "      <td>0.300000</td>\n",
              "    </tr>\n",
              "  </tbody>\n",
              "</table>\n",
              "</div>"
            ],
            "text/plain": [
              "def_pay     0     1      perc\n",
              "SE_AG                        \n",
              "1        2929   913  0.237637\n",
              "2        3350  1013  0.232180\n",
              "3        1939   648  0.250483\n",
              "4         666   251  0.273719\n",
              "5         131    48  0.268156\n",
              "6        5613  1558  0.217264\n",
              "7        5174  1176  0.185197\n",
              "8        2667   751  0.219719\n",
              "9         783   230  0.227048\n",
              "10        112    48  0.300000"
            ]
          },
          "metadata": {
            "tags": []
          },
          "execution_count": 45
        }
      ]
    },
    {
      "cell_type": "markdown",
      "metadata": {
        "id": "pQZrQ5BVWXdT"
      },
      "source": [
        "Now it is time to do something that indicates being a client at a given month or not. We would say that if PAY, BILL_AMT and PAY_AMT are 0, then we are not talking about a client"
      ]
    },
    {
      "cell_type": "code",
      "metadata": {
        "colab": {
          "base_uri": "https://localhost:8080/"
        },
        "id": "XYPKeZJPWXdT",
        "outputId": "1e00afa6-72e6-49f2-baa4-d565f5f1d280"
      },
      "source": [
        "df['Client_6'] = 1\n",
        "df['Client_5'] = 1\n",
        "df['Client_4'] = 1\n",
        "df['Client_3'] = 1\n",
        "df['Client_2'] = 1\n",
        "df['Client_1'] = 1\n",
        "df.loc[((df.PAY_6 == 0) & (df.BILL_AMT6 == 0) & (df.PAY_AMT6 == 0)) , 'Client_6'] = 0\n",
        "df.loc[((df.PAY_5 == 0) & (df.BILL_AMT5 == 0) & (df.PAY_AMT5 == 0)) , 'Client_5'] = 0\n",
        "df.loc[((df.PAY_4 == 0) & (df.BILL_AMT4 == 0) & (df.PAY_AMT4 == 0)) , 'Client_4'] = 0\n",
        "df.loc[((df.PAY_3 == 0) & (df.BILL_AMT3 == 0) & (df.PAY_AMT3 == 0)) , 'Client_3'] = 0\n",
        "df.loc[((df.PAY_2 == 0) & (df.BILL_AMT2 == 0) & (df.PAY_AMT2 == 0)) , 'Client_2'] = 0\n",
        "df.loc[((df.PAY_1 == 0) & (df.BILL_AMT1 == 0) & (df.PAY_AMT1 == 0)) , 'Client_1'] = 0\n",
        "pd.Series([df[df.Client_6 == 1].def_pay.count(),\n",
        "          df[df.Client_5 == 1].def_pay.count(),\n",
        "          df[df.Client_4 == 1].def_pay.count(),\n",
        "          df[df.Client_3 == 1].def_pay.count(),\n",
        "          df[df.Client_2 == 1].def_pay.count(),\n",
        "          df[df.Client_1 == 1].def_pay.count()], [6,5,4,3,2,1])"
      ],
      "execution_count": 46,
      "outputs": [
        {
          "output_type": "execute_result",
          "data": {
            "text/plain": [
              "6    26700\n",
              "5    27247\n",
              "4    27572\n",
              "3    27810\n",
              "2    28183\n",
              "1    29477\n",
              "dtype: int64"
            ]
          },
          "metadata": {
            "tags": []
          },
          "execution_count": 46
        }
      ]
    },
    {
      "cell_type": "markdown",
      "metadata": {
        "id": "htsIrE3AWXdU"
      },
      "source": [
        "we will need these variables if we want to see how our predictions will change if we anticipate them (i. e. if we use data up to june instead of up to september)\n",
        "\n",
        "Next, we want something to describe the expenses of a client, following the idea we have expressed before when we looked at the BILL AMT and the PAY AMT. We are thinking of something like average expenses at any given month (again, for this first prediction we will just care about the last month but we might need the others later). Moreover, w want to give some context to it, so we will divide that number by LIMIT_BAL, so that we have a sort of extimation of how \"careless\" a client is."
      ]
    },
    {
      "cell_type": "code",
      "metadata": {
        "colab": {
          "base_uri": "https://localhost:8080/",
          "height": 669
        },
        "id": "0g4d6h8uWXdU",
        "outputId": "61ff3002-3fc0-48eb-c02c-ee879d3ef9ca"
      },
      "source": [
        "df['Avg_exp_5'] = ((df['BILL_AMT5'] - (df['BILL_AMT6'] - df['PAY_AMT5']))) / df['LIMIT_BAL']\n",
        "df['Avg_exp_4'] = (((df['BILL_AMT5'] - (df['BILL_AMT6'] - df['PAY_AMT5'])) +\n",
        "                 (df['BILL_AMT4'] - (df['BILL_AMT5'] - df['PAY_AMT4']))) / 2) / df['LIMIT_BAL']\n",
        "df['Avg_exp_3'] = (((df['BILL_AMT5'] - (df['BILL_AMT6'] - df['PAY_AMT5'])) +\n",
        "                 (df['BILL_AMT4'] - (df['BILL_AMT5'] - df['PAY_AMT4'])) +\n",
        "                 (df['BILL_AMT3'] - (df['BILL_AMT4'] - df['PAY_AMT3']))) / 3) / df['LIMIT_BAL']\n",
        "df['Avg_exp_2'] = (((df['BILL_AMT5'] - (df['BILL_AMT6'] - df['PAY_AMT5'])) +\n",
        "                 (df['BILL_AMT4'] - (df['BILL_AMT5'] - df['PAY_AMT4'])) +\n",
        "                 (df['BILL_AMT3'] - (df['BILL_AMT4'] - df['PAY_AMT3'])) +\n",
        "                 (df['BILL_AMT2'] - (df['BILL_AMT3'] - df['PAY_AMT2']))) / 4) / df['LIMIT_BAL']\n",
        "df['Avg_exp_1'] = (((df['BILL_AMT5'] - (df['BILL_AMT6'] - df['PAY_AMT5'])) +\n",
        "                 (df['BILL_AMT4'] - (df['BILL_AMT5'] - df['PAY_AMT4'])) +\n",
        "                 (df['BILL_AMT3'] - (df['BILL_AMT4'] - df['PAY_AMT3'])) +\n",
        "                 (df['BILL_AMT2'] - (df['BILL_AMT3'] - df['PAY_AMT2'])) +\n",
        "                 (df['BILL_AMT1'] - (df['BILL_AMT2'] - df['PAY_AMT1']))) / 5) / df['LIMIT_BAL']\n",
        "df[['LIMIT_BAL', 'Avg_exp_5', 'BILL_AMT5', 'Avg_exp_4', 'BILL_AMT4','Avg_exp_3', 'BILL_AMT3',\n",
        "    'Avg_exp_2', 'BILL_AMT2', 'Avg_exp_1', 'BILL_AMT1', 'def_pay']].sample(20)"
      ],
      "execution_count": 47,
      "outputs": [
        {
          "output_type": "execute_result",
          "data": {
            "text/html": [
              "<div>\n",
              "<style scoped>\n",
              "    .dataframe tbody tr th:only-of-type {\n",
              "        vertical-align: middle;\n",
              "    }\n",
              "\n",
              "    .dataframe tbody tr th {\n",
              "        vertical-align: top;\n",
              "    }\n",
              "\n",
              "    .dataframe thead th {\n",
              "        text-align: right;\n",
              "    }\n",
              "</style>\n",
              "<table border=\"1\" class=\"dataframe\">\n",
              "  <thead>\n",
              "    <tr style=\"text-align: right;\">\n",
              "      <th></th>\n",
              "      <th>LIMIT_BAL</th>\n",
              "      <th>Avg_exp_5</th>\n",
              "      <th>BILL_AMT5</th>\n",
              "      <th>Avg_exp_4</th>\n",
              "      <th>BILL_AMT4</th>\n",
              "      <th>Avg_exp_3</th>\n",
              "      <th>BILL_AMT3</th>\n",
              "      <th>Avg_exp_2</th>\n",
              "      <th>BILL_AMT2</th>\n",
              "      <th>Avg_exp_1</th>\n",
              "      <th>BILL_AMT1</th>\n",
              "      <th>def_pay</th>\n",
              "    </tr>\n",
              "  </thead>\n",
              "  <tbody>\n",
              "    <tr>\n",
              "      <th>6656</th>\n",
              "      <td>270000.0</td>\n",
              "      <td>0.000000</td>\n",
              "      <td>0.0</td>\n",
              "      <td>0.003704</td>\n",
              "      <td>2000.0</td>\n",
              "      <td>0.004938</td>\n",
              "      <td>2000.0</td>\n",
              "      <td>0.006389</td>\n",
              "      <td>2900.0</td>\n",
              "      <td>0.005111</td>\n",
              "      <td>0.0</td>\n",
              "      <td>0</td>\n",
              "    </tr>\n",
              "    <tr>\n",
              "      <th>29175</th>\n",
              "      <td>160000.0</td>\n",
              "      <td>0.000000</td>\n",
              "      <td>0.0</td>\n",
              "      <td>0.052828</td>\n",
              "      <td>16905.0</td>\n",
              "      <td>0.173119</td>\n",
              "      <td>66192.0</td>\n",
              "      <td>0.138358</td>\n",
              "      <td>69376.0</td>\n",
              "      <td>0.127696</td>\n",
              "      <td>79201.0</td>\n",
              "      <td>0</td>\n",
              "    </tr>\n",
              "    <tr>\n",
              "      <th>2669</th>\n",
              "      <td>10000.0</td>\n",
              "      <td>0.000000</td>\n",
              "      <td>0.0</td>\n",
              "      <td>0.000000</td>\n",
              "      <td>0.0</td>\n",
              "      <td>0.120133</td>\n",
              "      <td>3604.0</td>\n",
              "      <td>0.270725</td>\n",
              "      <td>9829.0</td>\n",
              "      <td>0.421940</td>\n",
              "      <td>17560.0</td>\n",
              "      <td>1</td>\n",
              "    </tr>\n",
              "    <tr>\n",
              "      <th>12606</th>\n",
              "      <td>100000.0</td>\n",
              "      <td>0.000000</td>\n",
              "      <td>0.0</td>\n",
              "      <td>0.001650</td>\n",
              "      <td>330.0</td>\n",
              "      <td>0.005187</td>\n",
              "      <td>1226.0</td>\n",
              "      <td>0.005967</td>\n",
              "      <td>831.0</td>\n",
              "      <td>0.010628</td>\n",
              "      <td>2927.0</td>\n",
              "      <td>1</td>\n",
              "    </tr>\n",
              "    <tr>\n",
              "      <th>25638</th>\n",
              "      <td>400000.0</td>\n",
              "      <td>0.000375</td>\n",
              "      <td>77.0</td>\n",
              "      <td>0.006365</td>\n",
              "      <td>3519.0</td>\n",
              "      <td>0.010051</td>\n",
              "      <td>6888.0</td>\n",
              "      <td>0.010322</td>\n",
              "      <td>4329.0</td>\n",
              "      <td>0.010712</td>\n",
              "      <td>4238.0</td>\n",
              "      <td>0</td>\n",
              "    </tr>\n",
              "    <tr>\n",
              "      <th>2265</th>\n",
              "      <td>50000.0</td>\n",
              "      <td>0.000000</td>\n",
              "      <td>-229.0</td>\n",
              "      <td>0.000000</td>\n",
              "      <td>-229.0</td>\n",
              "      <td>0.240167</td>\n",
              "      <td>35796.0</td>\n",
              "      <td>0.183570</td>\n",
              "      <td>34385.0</td>\n",
              "      <td>0.150228</td>\n",
              "      <td>33428.0</td>\n",
              "      <td>1</td>\n",
              "    </tr>\n",
              "    <tr>\n",
              "      <th>18993</th>\n",
              "      <td>30000.0</td>\n",
              "      <td>0.149000</td>\n",
              "      <td>29190.0</td>\n",
              "      <td>0.086067</td>\n",
              "      <td>27884.0</td>\n",
              "      <td>0.070489</td>\n",
              "      <td>27064.0</td>\n",
              "      <td>0.071108</td>\n",
              "      <td>26253.0</td>\n",
              "      <td>0.069533</td>\n",
              "      <td>25150.0</td>\n",
              "      <td>0</td>\n",
              "    </tr>\n",
              "    <tr>\n",
              "      <th>11034</th>\n",
              "      <td>30000.0</td>\n",
              "      <td>0.004800</td>\n",
              "      <td>7751.0</td>\n",
              "      <td>0.006950</td>\n",
              "      <td>8024.0</td>\n",
              "      <td>0.006000</td>\n",
              "      <td>7347.0</td>\n",
              "      <td>0.005342</td>\n",
              "      <td>5448.0</td>\n",
              "      <td>0.005853</td>\n",
              "      <td>5685.0</td>\n",
              "      <td>1</td>\n",
              "    </tr>\n",
              "    <tr>\n",
              "      <th>24472</th>\n",
              "      <td>420000.0</td>\n",
              "      <td>0.008450</td>\n",
              "      <td>3539.0</td>\n",
              "      <td>0.020080</td>\n",
              "      <td>13310.0</td>\n",
              "      <td>0.036202</td>\n",
              "      <td>28690.0</td>\n",
              "      <td>0.037279</td>\n",
              "      <td>16880.0</td>\n",
              "      <td>0.034348</td>\n",
              "      <td>9288.0</td>\n",
              "      <td>0</td>\n",
              "    </tr>\n",
              "    <tr>\n",
              "      <th>26609</th>\n",
              "      <td>20000.0</td>\n",
              "      <td>0.029500</td>\n",
              "      <td>18948.0</td>\n",
              "      <td>0.029750</td>\n",
              "      <td>19548.0</td>\n",
              "      <td>0.029567</td>\n",
              "      <td>17432.0</td>\n",
              "      <td>0.028925</td>\n",
              "      <td>14972.0</td>\n",
              "      <td>0.025220</td>\n",
              "      <td>10208.0</td>\n",
              "      <td>1</td>\n",
              "    </tr>\n",
              "    <tr>\n",
              "      <th>28095</th>\n",
              "      <td>150000.0</td>\n",
              "      <td>0.003107</td>\n",
              "      <td>466.0</td>\n",
              "      <td>0.002607</td>\n",
              "      <td>316.0</td>\n",
              "      <td>0.002440</td>\n",
              "      <td>316.0</td>\n",
              "      <td>0.002357</td>\n",
              "      <td>316.0</td>\n",
              "      <td>0.002307</td>\n",
              "      <td>316.0</td>\n",
              "      <td>0</td>\n",
              "    </tr>\n",
              "    <tr>\n",
              "      <th>20983</th>\n",
              "      <td>20000.0</td>\n",
              "      <td>0.381350</td>\n",
              "      <td>19859.0</td>\n",
              "      <td>0.201625</td>\n",
              "      <td>19492.0</td>\n",
              "      <td>0.169133</td>\n",
              "      <td>20075.0</td>\n",
              "      <td>0.134538</td>\n",
              "      <td>20690.0</td>\n",
              "      <td>0.110700</td>\n",
              "      <td>17497.0</td>\n",
              "      <td>1</td>\n",
              "    </tr>\n",
              "    <tr>\n",
              "      <th>7334</th>\n",
              "      <td>30000.0</td>\n",
              "      <td>0.016367</td>\n",
              "      <td>21162.0</td>\n",
              "      <td>0.016167</td>\n",
              "      <td>20741.0</td>\n",
              "      <td>0.014367</td>\n",
              "      <td>19442.0</td>\n",
              "      <td>0.015900</td>\n",
              "      <td>18734.0</td>\n",
              "      <td>0.016647</td>\n",
              "      <td>17708.0</td>\n",
              "      <td>0</td>\n",
              "    </tr>\n",
              "    <tr>\n",
              "      <th>20106</th>\n",
              "      <td>260000.0</td>\n",
              "      <td>0.005354</td>\n",
              "      <td>158624.0</td>\n",
              "      <td>0.005381</td>\n",
              "      <td>155493.0</td>\n",
              "      <td>0.005338</td>\n",
              "      <td>151583.0</td>\n",
              "      <td>0.007247</td>\n",
              "      <td>149777.0</td>\n",
              "      <td>0.009580</td>\n",
              "      <td>147565.0</td>\n",
              "      <td>0</td>\n",
              "    </tr>\n",
              "    <tr>\n",
              "      <th>21411</th>\n",
              "      <td>60000.0</td>\n",
              "      <td>0.013500</td>\n",
              "      <td>50290.0</td>\n",
              "      <td>0.013592</td>\n",
              "      <td>49311.0</td>\n",
              "      <td>0.013522</td>\n",
              "      <td>48293.0</td>\n",
              "      <td>0.054813</td>\n",
              "      <td>52211.0</td>\n",
              "      <td>0.093433</td>\n",
              "      <td>60335.0</td>\n",
              "      <td>0</td>\n",
              "    </tr>\n",
              "    <tr>\n",
              "      <th>7254</th>\n",
              "      <td>60000.0</td>\n",
              "      <td>0.098517</td>\n",
              "      <td>55689.0</td>\n",
              "      <td>0.098850</td>\n",
              "      <td>59633.0</td>\n",
              "      <td>0.099483</td>\n",
              "      <td>63553.0</td>\n",
              "      <td>0.100046</td>\n",
              "      <td>66657.0</td>\n",
              "      <td>0.100453</td>\n",
              "      <td>70367.0</td>\n",
              "      <td>0</td>\n",
              "    </tr>\n",
              "    <tr>\n",
              "      <th>26747</th>\n",
              "      <td>50000.0</td>\n",
              "      <td>0.014000</td>\n",
              "      <td>671.0</td>\n",
              "      <td>0.113780</td>\n",
              "      <td>10676.0</td>\n",
              "      <td>0.121333</td>\n",
              "      <td>5592.0</td>\n",
              "      <td>0.100860</td>\n",
              "      <td>1956.0</td>\n",
              "      <td>0.089344</td>\n",
              "      <td>2159.0</td>\n",
              "      <td>1</td>\n",
              "    </tr>\n",
              "    <tr>\n",
              "      <th>8968</th>\n",
              "      <td>70000.0</td>\n",
              "      <td>0.001186</td>\n",
              "      <td>7127.0</td>\n",
              "      <td>0.011621</td>\n",
              "      <td>8171.0</td>\n",
              "      <td>0.007981</td>\n",
              "      <td>6720.0</td>\n",
              "      <td>0.006600</td>\n",
              "      <td>5843.0</td>\n",
              "      <td>0.005514</td>\n",
              "      <td>4753.0</td>\n",
              "      <td>0</td>\n",
              "    </tr>\n",
              "    <tr>\n",
              "      <th>17867</th>\n",
              "      <td>60000.0</td>\n",
              "      <td>0.016600</td>\n",
              "      <td>43757.0</td>\n",
              "      <td>0.016617</td>\n",
              "      <td>43254.0</td>\n",
              "      <td>0.017194</td>\n",
              "      <td>42665.0</td>\n",
              "      <td>0.017308</td>\n",
              "      <td>41723.0</td>\n",
              "      <td>0.017387</td>\n",
              "      <td>40784.0</td>\n",
              "      <td>0</td>\n",
              "    </tr>\n",
              "    <tr>\n",
              "      <th>28810</th>\n",
              "      <td>500000.0</td>\n",
              "      <td>0.046538</td>\n",
              "      <td>39095.0</td>\n",
              "      <td>0.072574</td>\n",
              "      <td>49305.0</td>\n",
              "      <td>0.062788</td>\n",
              "      <td>21138.0</td>\n",
              "      <td>0.072653</td>\n",
              "      <td>51124.0</td>\n",
              "      <td>0.066666</td>\n",
              "      <td>21179.0</td>\n",
              "      <td>0</td>\n",
              "    </tr>\n",
              "  </tbody>\n",
              "</table>\n",
              "</div>"
            ],
            "text/plain": [
              "       LIMIT_BAL  Avg_exp_5  BILL_AMT5  ...  Avg_exp_1  BILL_AMT1  def_pay\n",
              "6656    270000.0   0.000000        0.0  ...   0.005111        0.0        0\n",
              "29175   160000.0   0.000000        0.0  ...   0.127696    79201.0        0\n",
              "2669     10000.0   0.000000        0.0  ...   0.421940    17560.0        1\n",
              "12606   100000.0   0.000000        0.0  ...   0.010628     2927.0        1\n",
              "25638   400000.0   0.000375       77.0  ...   0.010712     4238.0        0\n",
              "2265     50000.0   0.000000     -229.0  ...   0.150228    33428.0        1\n",
              "18993    30000.0   0.149000    29190.0  ...   0.069533    25150.0        0\n",
              "11034    30000.0   0.004800     7751.0  ...   0.005853     5685.0        1\n",
              "24472   420000.0   0.008450     3539.0  ...   0.034348     9288.0        0\n",
              "26609    20000.0   0.029500    18948.0  ...   0.025220    10208.0        1\n",
              "28095   150000.0   0.003107      466.0  ...   0.002307      316.0        0\n",
              "20983    20000.0   0.381350    19859.0  ...   0.110700    17497.0        1\n",
              "7334     30000.0   0.016367    21162.0  ...   0.016647    17708.0        0\n",
              "20106   260000.0   0.005354   158624.0  ...   0.009580   147565.0        0\n",
              "21411    60000.0   0.013500    50290.0  ...   0.093433    60335.0        0\n",
              "7254     60000.0   0.098517    55689.0  ...   0.100453    70367.0        0\n",
              "26747    50000.0   0.014000      671.0  ...   0.089344     2159.0        1\n",
              "8968     70000.0   0.001186     7127.0  ...   0.005514     4753.0        0\n",
              "17867    60000.0   0.016600    43757.0  ...   0.017387    40784.0        0\n",
              "28810   500000.0   0.046538    39095.0  ...   0.066666    21179.0        0\n",
              "\n",
              "[20 rows x 12 columns]"
            ]
          },
          "metadata": {
            "tags": []
          },
          "execution_count": 47
        }
      ]
    },
    {
      "cell_type": "markdown",
      "metadata": {
        "id": "oMA8gFIhWXdU"
      },
      "source": [
        "One last thing: how far the bill is from the limit should matter, thus we will create that variable. Since the result can vary a lot from one client to the other (the LIMIT_BAL variable has a very wide range), we will again weight this difference on the LIMIT_BAL feature (in our mind it has more meaning, maybe I am wrong). Again, we want to keep the historical trend of the variable"
      ]
    },
    {
      "cell_type": "code",
      "metadata": {
        "colab": {
          "base_uri": "https://localhost:8080/",
          "height": 669
        },
        "id": "ZU-x_fCGWXdV",
        "outputId": "059b44f9-9ef2-423d-f046-96db14579d12"
      },
      "source": [
        "df['Closeness_6'] = (df.LIMIT_BAL - df.BILL_AMT6) / df.LIMIT_BAL\n",
        "df['Closeness_5'] = (df.LIMIT_BAL - df.BILL_AMT5) / df.LIMIT_BAL\n",
        "df['Closeness_4'] = (df.LIMIT_BAL - df.BILL_AMT4) / df.LIMIT_BAL\n",
        "df['Closeness_3'] = (df.LIMIT_BAL - df.BILL_AMT3) / df.LIMIT_BAL\n",
        "df['Closeness_2'] = (df.LIMIT_BAL - df.BILL_AMT2) / df.LIMIT_BAL\n",
        "df['Closeness_1'] = (df.LIMIT_BAL - df.BILL_AMT1) / df.LIMIT_BAL\n",
        "df[['Closeness_6', 'Closeness_5', 'Closeness_4', 'Closeness_3', 'Closeness_2',\n",
        "   'Closeness_1', 'def_pay']].sample(20)"
      ],
      "execution_count": 48,
      "outputs": [
        {
          "output_type": "execute_result",
          "data": {
            "text/html": [
              "<div>\n",
              "<style scoped>\n",
              "    .dataframe tbody tr th:only-of-type {\n",
              "        vertical-align: middle;\n",
              "    }\n",
              "\n",
              "    .dataframe tbody tr th {\n",
              "        vertical-align: top;\n",
              "    }\n",
              "\n",
              "    .dataframe thead th {\n",
              "        text-align: right;\n",
              "    }\n",
              "</style>\n",
              "<table border=\"1\" class=\"dataframe\">\n",
              "  <thead>\n",
              "    <tr style=\"text-align: right;\">\n",
              "      <th></th>\n",
              "      <th>Closeness_6</th>\n",
              "      <th>Closeness_5</th>\n",
              "      <th>Closeness_4</th>\n",
              "      <th>Closeness_3</th>\n",
              "      <th>Closeness_2</th>\n",
              "      <th>Closeness_1</th>\n",
              "      <th>def_pay</th>\n",
              "    </tr>\n",
              "  </thead>\n",
              "  <tbody>\n",
              "    <tr>\n",
              "      <th>2959</th>\n",
              "      <td>0.992468</td>\n",
              "      <td>0.992193</td>\n",
              "      <td>0.990921</td>\n",
              "      <td>0.992200</td>\n",
              "      <td>0.992193</td>\n",
              "      <td>0.992193</td>\n",
              "      <td>0</td>\n",
              "    </tr>\n",
              "    <tr>\n",
              "      <th>26738</th>\n",
              "      <td>0.828300</td>\n",
              "      <td>0.822900</td>\n",
              "      <td>0.827380</td>\n",
              "      <td>0.841500</td>\n",
              "      <td>0.879320</td>\n",
              "      <td>0.874340</td>\n",
              "      <td>1</td>\n",
              "    </tr>\n",
              "    <tr>\n",
              "      <th>12606</th>\n",
              "      <td>1.000000</td>\n",
              "      <td>1.000000</td>\n",
              "      <td>0.996700</td>\n",
              "      <td>0.987740</td>\n",
              "      <td>0.991690</td>\n",
              "      <td>0.970730</td>\n",
              "      <td>1</td>\n",
              "    </tr>\n",
              "    <tr>\n",
              "      <th>7424</th>\n",
              "      <td>0.820105</td>\n",
              "      <td>1.000000</td>\n",
              "      <td>1.000000</td>\n",
              "      <td>1.000000</td>\n",
              "      <td>1.000000</td>\n",
              "      <td>1.000000</td>\n",
              "      <td>0</td>\n",
              "    </tr>\n",
              "    <tr>\n",
              "      <th>28558</th>\n",
              "      <td>0.990767</td>\n",
              "      <td>1.000000</td>\n",
              "      <td>0.996400</td>\n",
              "      <td>1.000000</td>\n",
              "      <td>0.997220</td>\n",
              "      <td>0.983911</td>\n",
              "      <td>0</td>\n",
              "    </tr>\n",
              "    <tr>\n",
              "      <th>16147</th>\n",
              "      <td>0.252979</td>\n",
              "      <td>0.240557</td>\n",
              "      <td>0.017929</td>\n",
              "      <td>0.027186</td>\n",
              "      <td>0.046771</td>\n",
              "      <td>0.063300</td>\n",
              "      <td>0</td>\n",
              "    </tr>\n",
              "    <tr>\n",
              "      <th>20680</th>\n",
              "      <td>0.135000</td>\n",
              "      <td>0.047550</td>\n",
              "      <td>0.063550</td>\n",
              "      <td>0.110200</td>\n",
              "      <td>0.147350</td>\n",
              "      <td>0.118550</td>\n",
              "      <td>1</td>\n",
              "    </tr>\n",
              "    <tr>\n",
              "      <th>28541</th>\n",
              "      <td>0.972742</td>\n",
              "      <td>0.980236</td>\n",
              "      <td>0.984285</td>\n",
              "      <td>0.982633</td>\n",
              "      <td>0.985876</td>\n",
              "      <td>0.987715</td>\n",
              "      <td>0</td>\n",
              "    </tr>\n",
              "    <tr>\n",
              "      <th>21386</th>\n",
              "      <td>0.483750</td>\n",
              "      <td>-1.533500</td>\n",
              "      <td>-1.351950</td>\n",
              "      <td>-1.309675</td>\n",
              "      <td>-1.222950</td>\n",
              "      <td>-1.182825</td>\n",
              "      <td>0</td>\n",
              "    </tr>\n",
              "    <tr>\n",
              "      <th>15417</th>\n",
              "      <td>0.101212</td>\n",
              "      <td>0.162158</td>\n",
              "      <td>0.403042</td>\n",
              "      <td>0.408775</td>\n",
              "      <td>0.421729</td>\n",
              "      <td>0.441858</td>\n",
              "      <td>0</td>\n",
              "    </tr>\n",
              "    <tr>\n",
              "      <th>2902</th>\n",
              "      <td>0.124100</td>\n",
              "      <td>0.097033</td>\n",
              "      <td>0.102733</td>\n",
              "      <td>0.109467</td>\n",
              "      <td>0.128367</td>\n",
              "      <td>0.150067</td>\n",
              "      <td>1</td>\n",
              "    </tr>\n",
              "    <tr>\n",
              "      <th>7194</th>\n",
              "      <td>0.996630</td>\n",
              "      <td>0.924978</td>\n",
              "      <td>0.896606</td>\n",
              "      <td>1.000000</td>\n",
              "      <td>0.998800</td>\n",
              "      <td>0.990880</td>\n",
              "      <td>0</td>\n",
              "    </tr>\n",
              "    <tr>\n",
              "      <th>21869</th>\n",
              "      <td>0.836843</td>\n",
              "      <td>0.849000</td>\n",
              "      <td>0.871343</td>\n",
              "      <td>0.872171</td>\n",
              "      <td>0.578843</td>\n",
              "      <td>-0.003586</td>\n",
              "      <td>0</td>\n",
              "    </tr>\n",
              "    <tr>\n",
              "      <th>6092</th>\n",
              "      <td>0.866500</td>\n",
              "      <td>0.885340</td>\n",
              "      <td>0.887573</td>\n",
              "      <td>0.941133</td>\n",
              "      <td>0.927680</td>\n",
              "      <td>0.992013</td>\n",
              "      <td>0</td>\n",
              "    </tr>\n",
              "    <tr>\n",
              "      <th>2679</th>\n",
              "      <td>1.000000</td>\n",
              "      <td>1.000000</td>\n",
              "      <td>0.779500</td>\n",
              "      <td>-1.478100</td>\n",
              "      <td>-1.398050</td>\n",
              "      <td>-1.271450</td>\n",
              "      <td>0</td>\n",
              "    </tr>\n",
              "    <tr>\n",
              "      <th>21880</th>\n",
              "      <td>1.000000</td>\n",
              "      <td>0.801333</td>\n",
              "      <td>1.000000</td>\n",
              "      <td>0.882333</td>\n",
              "      <td>0.933500</td>\n",
              "      <td>0.994200</td>\n",
              "      <td>0</td>\n",
              "    </tr>\n",
              "    <tr>\n",
              "      <th>21371</th>\n",
              "      <td>0.995846</td>\n",
              "      <td>0.991692</td>\n",
              "      <td>0.997000</td>\n",
              "      <td>0.997000</td>\n",
              "      <td>0.994000</td>\n",
              "      <td>0.994000</td>\n",
              "      <td>0</td>\n",
              "    </tr>\n",
              "    <tr>\n",
              "      <th>16881</th>\n",
              "      <td>1.000000</td>\n",
              "      <td>1.000000</td>\n",
              "      <td>1.000000</td>\n",
              "      <td>1.000000</td>\n",
              "      <td>1.000000</td>\n",
              "      <td>0.923580</td>\n",
              "      <td>0</td>\n",
              "    </tr>\n",
              "    <tr>\n",
              "      <th>29940</th>\n",
              "      <td>0.060650</td>\n",
              "      <td>0.061950</td>\n",
              "      <td>0.053600</td>\n",
              "      <td>-0.006300</td>\n",
              "      <td>-0.005450</td>\n",
              "      <td>-0.036650</td>\n",
              "      <td>0</td>\n",
              "    </tr>\n",
              "    <tr>\n",
              "      <th>21660</th>\n",
              "      <td>0.368600</td>\n",
              "      <td>0.315886</td>\n",
              "      <td>0.063886</td>\n",
              "      <td>0.046186</td>\n",
              "      <td>0.036443</td>\n",
              "      <td>0.022714</td>\n",
              "      <td>0</td>\n",
              "    </tr>\n",
              "  </tbody>\n",
              "</table>\n",
              "</div>"
            ],
            "text/plain": [
              "       Closeness_6  Closeness_5  Closeness_4  ...  Closeness_2  Closeness_1  def_pay\n",
              "2959      0.992468     0.992193     0.990921  ...     0.992193     0.992193        0\n",
              "26738     0.828300     0.822900     0.827380  ...     0.879320     0.874340        1\n",
              "12606     1.000000     1.000000     0.996700  ...     0.991690     0.970730        1\n",
              "7424      0.820105     1.000000     1.000000  ...     1.000000     1.000000        0\n",
              "28558     0.990767     1.000000     0.996400  ...     0.997220     0.983911        0\n",
              "16147     0.252979     0.240557     0.017929  ...     0.046771     0.063300        0\n",
              "20680     0.135000     0.047550     0.063550  ...     0.147350     0.118550        1\n",
              "28541     0.972742     0.980236     0.984285  ...     0.985876     0.987715        0\n",
              "21386     0.483750    -1.533500    -1.351950  ...    -1.222950    -1.182825        0\n",
              "15417     0.101212     0.162158     0.403042  ...     0.421729     0.441858        0\n",
              "2902      0.124100     0.097033     0.102733  ...     0.128367     0.150067        1\n",
              "7194      0.996630     0.924978     0.896606  ...     0.998800     0.990880        0\n",
              "21869     0.836843     0.849000     0.871343  ...     0.578843    -0.003586        0\n",
              "6092      0.866500     0.885340     0.887573  ...     0.927680     0.992013        0\n",
              "2679      1.000000     1.000000     0.779500  ...    -1.398050    -1.271450        0\n",
              "21880     1.000000     0.801333     1.000000  ...     0.933500     0.994200        0\n",
              "21371     0.995846     0.991692     0.997000  ...     0.994000     0.994000        0\n",
              "16881     1.000000     1.000000     1.000000  ...     1.000000     0.923580        0\n",
              "29940     0.060650     0.061950     0.053600  ...    -0.005450    -0.036650        0\n",
              "21660     0.368600     0.315886     0.063886  ...     0.036443     0.022714        0\n",
              "\n",
              "[20 rows x 7 columns]"
            ]
          },
          "metadata": {
            "tags": []
          },
          "execution_count": 48
        }
      ]
    },
    {
      "cell_type": "markdown",
      "metadata": {
        "id": "-TLRwccdKtgV"
      },
      "source": [
        "##2.4 Data scaling"
      ]
    },
    {
      "cell_type": "code",
      "metadata": {
        "id": "D_AYmtVRLDvA"
      },
      "source": [
        "#Prepare the data for analysis, retain only the required features.\n",
        "required_columns = ['LIMIT_BAL', 'SEX', 'EDUCATION', 'MARRIAGE', 'AGE', 'PAY_1', 'PAY_2',\n",
        "       'PAY_3', 'PAY_4', 'PAY_5', 'PAY_6', 'BILL_AMT1', 'BILL_AMT2',\n",
        "       'BILL_AMT3', 'BILL_AMT4', 'BILL_AMT5', 'BILL_AMT6', 'PAY_AMT1',\n",
        "       'PAY_AMT2', 'PAY_AMT3', 'PAY_AMT4', 'PAY_AMT5', 'PAY_AMT6','def_pay']\n",
        "data = df[required_columns].copy()\n"
      ],
      "execution_count": 51,
      "outputs": []
    },
    {
      "cell_type": "markdown",
      "metadata": {
        "id": "8F9tPuO-LSP0"
      },
      "source": [
        "####We are converting the continuous features into discrete values, this is for easy Classification and Clustering"
      ]
    },
    {
      "cell_type": "markdown",
      "metadata": {
        "id": "J97HdB8VMZt9"
      },
      "source": [
        "We are using quartile technique that StandardScalar of sklean lib uses"
      ]
    },
    {
      "cell_type": "code",
      "metadata": {
        "id": "D4ZE0I2LK0dB"
      },
      "source": [
        "#discretize PAY* feature\n",
        "data['D_PAY_1'] = np.where(data['PAY_1'] < 0.0, 1, \n",
        "                                     np.where(data['PAY_1'] == 0.0, 2,\n",
        "                                              np.where(data['PAY_1'] > 0.0, 3,4\n",
        "                                              )\n",
        "                                             )\n",
        "                                     )\n",
        "\n",
        "data['D_PAY_2'] = np.where(data['PAY_2'] < 0.0, 1, \n",
        "                                     np.where(data['PAY_2'] == 0.0, 2,\n",
        "                                              np.where(data['PAY_2'] > 0.0, 3,4\n",
        "                                              )\n",
        "                                             )\n",
        "                                     )\n",
        "\n",
        "data['D_PAY_3'] = np.where(data['PAY_3'] < 0.0, 1, \n",
        "                                     np.where(data['PAY_3'] == 0.0, 2,\n",
        "                                              np.where(data['PAY_3'] > 0.0, 3,4\n",
        "                                              )\n",
        "                                             )\n",
        "                                     )\n",
        "data['D_PAY_4'] = np.where(data['PAY_4'] < 0.0, 1, \n",
        "                                     np.where(data['PAY_4'] == 0.0, 2,\n",
        "                                              np.where(data['PAY_4'] > 0.0, 3,4\n",
        "                                              )\n",
        "                                             )\n",
        "                                     )\n",
        "\n",
        "data['D_PAY_5'] = np.where(data['PAY_5'] < 0.0, 1, \n",
        "                                     np.where(data['PAY_5'] == 0.0, 2,\n",
        "                                              np.where(data['PAY_5'] > 0.0, 3,4\n",
        "                                              )\n",
        "                                             )\n",
        "                                     )\n",
        "data['D_PAY_6'] = np.where(data['PAY_6'] < 0.0, 1, \n",
        "                                     np.where(data['PAY_6'] == 0.0, 2,\n",
        "                                              np.where(data['PAY_6'] > 0.0, 3,4\n",
        "                                              )\n",
        "                                             )\n",
        "                                     )"
      ],
      "execution_count": 53,
      "outputs": []
    },
    {
      "cell_type": "code",
      "metadata": {
        "id": "8MjHURhHL2km"
      },
      "source": [
        "#discretize BILL_AMT* feature\n",
        "data['D_BILL_AMT1'] = np.where((data['BILL_AMT1'] < data['BILL_AMT1'].quantile(0.25)),1,\n",
        "                                     np.where((data['BILL_AMT1'] >= data['BILL_AMT1'].quantile(0.25)) & (data['BILL_AMT1'] < data['BILL_AMT1'].quantile(0.50)),2,\n",
        "                                      np.where((data['BILL_AMT1'] >= data['BILL_AMT1'].quantile(0.50)) & (data['BILL_AMT1'] < data['BILL_AMT1'].quantile(0.75)),3,\n",
        "                                      np.where((data['BILL_AMT1'] >= data['BILL_AMT1'].quantile(0.75)) & (data['BILL_AMT1'] < data['BILL_AMT1'].quantile(0.95)),4,\n",
        "                                      5))))\n",
        "\n",
        "data['D_BILL_AMT2'] = np.where((data['BILL_AMT2'] < data['BILL_AMT2'].quantile(0.25)),1,\n",
        "                                     np.where((data['BILL_AMT2'] >= data['BILL_AMT2'].quantile(0.25)) & (data['BILL_AMT2'] < data['BILL_AMT2'].quantile(0.50)),2,\n",
        "                                      np.where((data['BILL_AMT2'] >= data['BILL_AMT2'].quantile(0.50)) & (data['BILL_AMT2'] < data['BILL_AMT2'].quantile(0.75)),3,\n",
        "                                      np.where((data['BILL_AMT2'] >= data['BILL_AMT2'].quantile(0.75)) & (data['BILL_AMT2'] < data['BILL_AMT2'].quantile(0.95)),4,\n",
        "                                      5))))\n",
        "\n",
        "data['D_BILL_AMT3'] = np.where((data['BILL_AMT3'] < data['BILL_AMT3'].quantile(0.25)),1,\n",
        "                                     np.where((data['BILL_AMT3'] >= data['BILL_AMT3'].quantile(0.25)) & (data['BILL_AMT3'] < data['BILL_AMT3'].quantile(0.50)),2,\n",
        "                                      np.where((data['BILL_AMT3'] >= data['BILL_AMT3'].quantile(0.50)) & (data['BILL_AMT3'] < data['BILL_AMT3'].quantile(0.75)),3,\n",
        "                                      np.where((data['BILL_AMT3'] >= data['BILL_AMT3'].quantile(0.75)) & (data['BILL_AMT3'] < data['BILL_AMT3'].quantile(0.95)),4,\n",
        "                                      5))))\n",
        "data['D_BILL_AMT4'] = np.where((data['BILL_AMT4'] < data['BILL_AMT4'].quantile(0.25)),1,\n",
        "                                     np.where((data['BILL_AMT4'] >= data['BILL_AMT4'].quantile(0.25)) & (data['BILL_AMT4'] < data['BILL_AMT4'].quantile(0.50)),2,\n",
        "                                      np.where((data['BILL_AMT4'] >= data['BILL_AMT4'].quantile(0.50)) & (data['BILL_AMT4'] < data['BILL_AMT4'].quantile(0.75)),3,\n",
        "                                      np.where((data['BILL_AMT4'] >= data['BILL_AMT4'].quantile(0.75)) & (data['BILL_AMT4'] < data['BILL_AMT4'].quantile(0.95)),4,\n",
        "                                      5))))\n",
        "data['D_BILL_AMT5'] = np.where((data['BILL_AMT5'] < data['BILL_AMT5'].quantile(0.25)),1,\n",
        "                                     np.where((data['BILL_AMT5'] >= data['BILL_AMT5'].quantile(0.25)) & (data['BILL_AMT5'] < data['BILL_AMT5'].quantile(0.50)),2,\n",
        "                                      np.where((data['BILL_AMT5'] >= data['BILL_AMT5'].quantile(0.50)) & (data['BILL_AMT5'] < data['BILL_AMT5'].quantile(0.75)),3,\n",
        "                                      np.where((data['BILL_AMT5'] >= data['BILL_AMT5'].quantile(0.75)) & (data['BILL_AMT5'] < data['BILL_AMT5'].quantile(0.95)),4,\n",
        "                                      5))))\n",
        "data['D_BILL_AMT6'] = np.where((data['BILL_AMT6'] < data['BILL_AMT6'].quantile(0.25)),1,\n",
        "                                     np.where((data['BILL_AMT6'] >= data['BILL_AMT6'].quantile(0.25)) & (data['BILL_AMT6'] < data['BILL_AMT6'].quantile(0.50)),2,\n",
        "                                      np.where((data['BILL_AMT6'] >= data['BILL_AMT6'].quantile(0.50)) & (data['BILL_AMT6'] < data['BILL_AMT6'].quantile(0.75)),3,\n",
        "                                      np.where((data['BILL_AMT6'] >= data['BILL_AMT6'].quantile(0.75)) & (data['BILL_AMT6'] < data['BILL_AMT6'].quantile(0.95)),4,\n",
        "                                      5))))"
      ],
      "execution_count": 54,
      "outputs": []
    },
    {
      "cell_type": "code",
      "metadata": {
        "id": "rtV75A7eL7jv"
      },
      "source": [
        "#discretize PAY_AMT* features\n",
        "data['D_PAY_AMT1'] = np.where(data['PAY_AMT1'] <= data['PAY_AMT1'].quantile(0.25),1,\n",
        "                                     np.where((data['PAY_AMT1'] > data['PAY_AMT1'].quantile(0.25)) & (data['PAY_AMT1'] <= data['PAY_AMT1'].quantile(0.50)),2,\n",
        "                                              np.where((data['PAY_AMT1'] > data['PAY_AMT1'].quantile(0.50)) & (data['PAY_AMT1'] <= data['PAY_AMT1'].quantile(0.75)),3,\n",
        "                                                                np.where((data['PAY_AMT1'] > data['PAY_AMT1'].quantile(0.75)) & (data['PAY_AMT1'] <= data['PAY_AMT1'].quantile(0.95)),4,\n",
        "                                                                         5))))\n",
        "data['D_PAY_AMT2'] = np.where(data['PAY_AMT2'] <= data['PAY_AMT2'].quantile(0.25),1,\n",
        "                                     np.where((data['PAY_AMT2'] > data['PAY_AMT2'].quantile(0.25)) & (data['PAY_AMT2'] <= data['PAY_AMT2'].quantile(0.50)),2,\n",
        "                                              np.where((data['PAY_AMT2'] > data['PAY_AMT2'].quantile(0.50)) & (data['PAY_AMT2'] <= data['PAY_AMT2'].quantile(0.75)),3,\n",
        "                                                                np.where((data['PAY_AMT2'] > data['PAY_AMT2'].quantile(0.75)) & (data['PAY_AMT2'] <= data['PAY_AMT2'].quantile(0.95)),4,\n",
        "                                                                         5))))\n",
        "data['D_PAY_AMT3'] = np.where(data['PAY_AMT3'] <= data['PAY_AMT3'].quantile(0.25),1,\n",
        "                                     np.where((data['PAY_AMT3'] > data['PAY_AMT3'].quantile(0.25)) & (data['PAY_AMT3'] <= data['PAY_AMT3'].quantile(0.50)),2,\n",
        "                                              np.where((data['PAY_AMT3'] > data['PAY_AMT3'].quantile(0.50)) & (data['PAY_AMT3'] <= data['PAY_AMT3'].quantile(0.75)),3,\n",
        "                                                                np.where((data['PAY_AMT3'] > data['PAY_AMT3'].quantile(0.75)) & (data['PAY_AMT3'] <= data['PAY_AMT3'].quantile(0.95)),4,\n",
        "                                                                         5))))\n",
        "data['D_PAY_AMT4'] = np.where(data['PAY_AMT4'] <= data['PAY_AMT4'].quantile(0.25),1,\n",
        "                                     np.where((data['PAY_AMT4'] > data['PAY_AMT4'].quantile(0.25)) & (data['PAY_AMT4'] <= data['PAY_AMT4'].quantile(0.50)),2,\n",
        "                                              np.where((data['PAY_AMT4'] > data['PAY_AMT4'].quantile(0.50)) & (data['PAY_AMT4'] <= data['PAY_AMT4'].quantile(0.75)),3,\n",
        "                                                                np.where((data['PAY_AMT4'] > data['PAY_AMT4'].quantile(0.75)) & (data['PAY_AMT4'] <= data['PAY_AMT4'].quantile(0.95)),4,\n",
        "                                                                         5))))\n",
        "data['D_PAY_AMT5'] = np.where(data['PAY_AMT5'] <= data['PAY_AMT5'].quantile(0.25),1,\n",
        "                                     np.where((data['PAY_AMT5'] > data['PAY_AMT5'].quantile(0.25)) & (data['PAY_AMT5'] <= data['PAY_AMT5'].quantile(0.50)),2,\n",
        "                                              np.where((data['PAY_AMT5'] > data['PAY_AMT5'].quantile(0.50)) & (data['PAY_AMT5'] <= data['PAY_AMT5'].quantile(0.75)),3,\n",
        "                                                                np.where((data['PAY_AMT5'] > data['PAY_AMT5'].quantile(0.75)) & (data['PAY_AMT5'] <= data['PAY_AMT5'].quantile(0.95)),4,\n",
        "                                                                         5))))\n",
        "data['D_PAY_AMT6'] = np.where(data['PAY_AMT6'] <= data['PAY_AMT6'].quantile(0.25),1,\n",
        "                                     np.where((data['PAY_AMT6'] > data['PAY_AMT6'].quantile(0.25)) & (data['PAY_AMT6'] <= data['PAY_AMT6'].quantile(0.50)),2,\n",
        "                                              np.where((data['PAY_AMT6'] > data['PAY_AMT6'].quantile(0.50)) & (data['PAY_AMT6'] <= data['PAY_AMT6'].quantile(0.75)),3,\n",
        "                                                                np.where((data['PAY_AMT6'] > data['PAY_AMT6'].quantile(0.75)) & (data['PAY_AMT6'] <= data['PAY_AMT6'].quantile(0.95)),4,\n",
        "                                                                         5))))"
      ],
      "execution_count": 55,
      "outputs": []
    },
    {
      "cell_type": "code",
      "metadata": {
        "id": "ly0QlCHbL_kt"
      },
      "source": [
        "#discretize age\n",
        "data['D_AGE'] = np.where(data['AGE'] <= data['AGE'].quantile(0.25), 1,\n",
        "                                   np.where((data['AGE'] > data['AGE'].quantile(0.25)) & (data['AGE'] <= data['AGE'].quantile(0.50)), 2,\n",
        "                                            np.where((data['AGE'] > data['AGE'].quantile(0.50)) & (data['AGE'] <= data['AGE'].quantile(0.75)), 3,\n",
        "                                                     np.where((data['AGE'] > data['AGE'].quantile(0.75)) & (data['AGE'] <= data['AGE'].quantile(0.95)), 4, 5                                                     \n",
        "                                                     )\n",
        "                                            )\n",
        "                                   )\n",
        "                                  )"
      ],
      "execution_count": 56,
      "outputs": []
    },
    {
      "cell_type": "code",
      "metadata": {
        "id": "kvuqm4A5MCkz"
      },
      "source": [
        "#discretize balance limit\n",
        "data['D_LIMIT_BAL'] = np.where(data['LIMIT_BAL'] <= data['LIMIT_BAL'].quantile(0.25),1,\n",
        "                                     np.where((data['LIMIT_BAL'] > data['LIMIT_BAL'].quantile(0.25)) & (data['LIMIT_BAL'] <= data['LIMIT_BAL'].quantile(0.50)),2,\n",
        "                                              np.where((data['LIMIT_BAL'] > data['LIMIT_BAL'].quantile(0.50)) & (data['LIMIT_BAL'] <= data['LIMIT_BAL'].quantile(0.75)),3,\n",
        "                                                                np.where((data['LIMIT_BAL'] > data['LIMIT_BAL'].quantile(0.75)) & (data['LIMIT_BAL'] <= data['LIMIT_BAL'].quantile(0.95)),4,\n",
        "                                                                         5))))"
      ],
      "execution_count": 57,
      "outputs": []
    },
    {
      "cell_type": "code",
      "metadata": {
        "colab": {
          "base_uri": "https://localhost:8080/",
          "height": 224
        },
        "id": "2qkhXaUCMkl7",
        "outputId": "7074a190-1fae-4fda-efa5-b7838b3aacab"
      },
      "source": [
        "#the dataset with only discreet features\n",
        "d_data = data.filter(\n",
        "    ['SEX' ,\n",
        "'EDUCATION' ,\n",
        "'MARRIAGE' ,\n",
        "'def_pay' ,\n",
        "'D_PAY_1' ,\n",
        "'D_PAY_2' ,\n",
        "'D_PAY_3' ,\n",
        "'D_PAY_4' ,\n",
        "'D_PAY_5' ,\n",
        "'D_PAY_6' ,\n",
        "'D_BILL_AMT1' ,\n",
        "'D_BILL_AMT2' ,\n",
        "'D_BILL_AMT3' ,\n",
        "'D_BILL_AMT4' ,\n",
        "'D_BILL_AMT5' ,\n",
        "'D_BILL_AMT6' ,\n",
        "'D_PAY_AMT1' ,\n",
        "'D_PAY_AMT2' ,\n",
        "'D_PAY_AMT3' ,\n",
        "'D_PAY_AMT4' ,\n",
        "'D_PAY_AMT5' ,\n",
        "'D_PAY_AMT6' ,\n",
        "'D_AGE' ,\n",
        "'D_LIMIT_BAL']\n",
        ")\n",
        "d_data.sample(5)"
      ],
      "execution_count": 58,
      "outputs": [
        {
          "output_type": "execute_result",
          "data": {
            "text/html": [
              "<div>\n",
              "<style scoped>\n",
              "    .dataframe tbody tr th:only-of-type {\n",
              "        vertical-align: middle;\n",
              "    }\n",
              "\n",
              "    .dataframe tbody tr th {\n",
              "        vertical-align: top;\n",
              "    }\n",
              "\n",
              "    .dataframe thead th {\n",
              "        text-align: right;\n",
              "    }\n",
              "</style>\n",
              "<table border=\"1\" class=\"dataframe\">\n",
              "  <thead>\n",
              "    <tr style=\"text-align: right;\">\n",
              "      <th></th>\n",
              "      <th>SEX</th>\n",
              "      <th>EDUCATION</th>\n",
              "      <th>MARRIAGE</th>\n",
              "      <th>def_pay</th>\n",
              "      <th>D_PAY_1</th>\n",
              "      <th>D_PAY_2</th>\n",
              "      <th>D_PAY_3</th>\n",
              "      <th>D_PAY_4</th>\n",
              "      <th>D_PAY_5</th>\n",
              "      <th>D_PAY_6</th>\n",
              "      <th>D_BILL_AMT1</th>\n",
              "      <th>D_BILL_AMT2</th>\n",
              "      <th>D_BILL_AMT3</th>\n",
              "      <th>D_BILL_AMT4</th>\n",
              "      <th>D_BILL_AMT5</th>\n",
              "      <th>D_BILL_AMT6</th>\n",
              "      <th>D_PAY_AMT1</th>\n",
              "      <th>D_PAY_AMT2</th>\n",
              "      <th>D_PAY_AMT3</th>\n",
              "      <th>D_PAY_AMT4</th>\n",
              "      <th>D_PAY_AMT5</th>\n",
              "      <th>D_PAY_AMT6</th>\n",
              "      <th>D_AGE</th>\n",
              "      <th>D_LIMIT_BAL</th>\n",
              "    </tr>\n",
              "  </thead>\n",
              "  <tbody>\n",
              "    <tr>\n",
              "      <th>1591</th>\n",
              "      <td>2</td>\n",
              "      <td>2</td>\n",
              "      <td>2</td>\n",
              "      <td>0</td>\n",
              "      <td>3</td>\n",
              "      <td>3</td>\n",
              "      <td>3</td>\n",
              "      <td>2</td>\n",
              "      <td>2</td>\n",
              "      <td>2</td>\n",
              "      <td>3</td>\n",
              "      <td>3</td>\n",
              "      <td>3</td>\n",
              "      <td>3</td>\n",
              "      <td>3</td>\n",
              "      <td>3</td>\n",
              "      <td>2</td>\n",
              "      <td>1</td>\n",
              "      <td>3</td>\n",
              "      <td>2</td>\n",
              "      <td>2</td>\n",
              "      <td>2</td>\n",
              "      <td>2</td>\n",
              "      <td>1</td>\n",
              "    </tr>\n",
              "    <tr>\n",
              "      <th>16470</th>\n",
              "      <td>2</td>\n",
              "      <td>1</td>\n",
              "      <td>1</td>\n",
              "      <td>0</td>\n",
              "      <td>2</td>\n",
              "      <td>2</td>\n",
              "      <td>2</td>\n",
              "      <td>2</td>\n",
              "      <td>2</td>\n",
              "      <td>2</td>\n",
              "      <td>2</td>\n",
              "      <td>2</td>\n",
              "      <td>2</td>\n",
              "      <td>2</td>\n",
              "      <td>2</td>\n",
              "      <td>2</td>\n",
              "      <td>4</td>\n",
              "      <td>3</td>\n",
              "      <td>4</td>\n",
              "      <td>4</td>\n",
              "      <td>3</td>\n",
              "      <td>3</td>\n",
              "      <td>5</td>\n",
              "      <td>3</td>\n",
              "    </tr>\n",
              "    <tr>\n",
              "      <th>14537</th>\n",
              "      <td>1</td>\n",
              "      <td>3</td>\n",
              "      <td>2</td>\n",
              "      <td>1</td>\n",
              "      <td>2</td>\n",
              "      <td>2</td>\n",
              "      <td>2</td>\n",
              "      <td>2</td>\n",
              "      <td>2</td>\n",
              "      <td>2</td>\n",
              "      <td>2</td>\n",
              "      <td>2</td>\n",
              "      <td>2</td>\n",
              "      <td>2</td>\n",
              "      <td>2</td>\n",
              "      <td>2</td>\n",
              "      <td>2</td>\n",
              "      <td>2</td>\n",
              "      <td>2</td>\n",
              "      <td>2</td>\n",
              "      <td>2</td>\n",
              "      <td>1</td>\n",
              "      <td>2</td>\n",
              "      <td>2</td>\n",
              "    </tr>\n",
              "    <tr>\n",
              "      <th>5866</th>\n",
              "      <td>1</td>\n",
              "      <td>2</td>\n",
              "      <td>2</td>\n",
              "      <td>0</td>\n",
              "      <td>2</td>\n",
              "      <td>2</td>\n",
              "      <td>2</td>\n",
              "      <td>2</td>\n",
              "      <td>2</td>\n",
              "      <td>2</td>\n",
              "      <td>4</td>\n",
              "      <td>4</td>\n",
              "      <td>4</td>\n",
              "      <td>5</td>\n",
              "      <td>5</td>\n",
              "      <td>4</td>\n",
              "      <td>4</td>\n",
              "      <td>4</td>\n",
              "      <td>4</td>\n",
              "      <td>4</td>\n",
              "      <td>4</td>\n",
              "      <td>4</td>\n",
              "      <td>2</td>\n",
              "      <td>4</td>\n",
              "    </tr>\n",
              "    <tr>\n",
              "      <th>5623</th>\n",
              "      <td>2</td>\n",
              "      <td>3</td>\n",
              "      <td>1</td>\n",
              "      <td>0</td>\n",
              "      <td>2</td>\n",
              "      <td>2</td>\n",
              "      <td>2</td>\n",
              "      <td>2</td>\n",
              "      <td>2</td>\n",
              "      <td>2</td>\n",
              "      <td>1</td>\n",
              "      <td>1</td>\n",
              "      <td>1</td>\n",
              "      <td>1</td>\n",
              "      <td>1</td>\n",
              "      <td>1</td>\n",
              "      <td>1</td>\n",
              "      <td>1</td>\n",
              "      <td>1</td>\n",
              "      <td>1</td>\n",
              "      <td>1</td>\n",
              "      <td>1</td>\n",
              "      <td>3</td>\n",
              "      <td>2</td>\n",
              "    </tr>\n",
              "  </tbody>\n",
              "</table>\n",
              "</div>"
            ],
            "text/plain": [
              "       SEX  EDUCATION  MARRIAGE  ...  D_PAY_AMT6  D_AGE  D_LIMIT_BAL\n",
              "1591     2          2         2  ...           2      2            1\n",
              "16470    2          1         1  ...           3      5            3\n",
              "14537    1          3         2  ...           1      2            2\n",
              "5866     1          2         2  ...           4      2            4\n",
              "5623     2          3         1  ...           1      3            2\n",
              "\n",
              "[5 rows x 24 columns]"
            ]
          },
          "metadata": {
            "tags": []
          },
          "execution_count": 58
        }
      ]
    },
    {
      "cell_type": "markdown",
      "metadata": {
        "id": "7U9yZciH298B"
      },
      "source": [
        "# 3. Data Analysis"
      ]
    },
    {
      "cell_type": "markdown",
      "metadata": {
        "id": "2m60-G8y3O6A"
      },
      "source": [
        "## 3.1 Classification using a Custom Decision Tree"
      ]
    },
    {
      "cell_type": "markdown",
      "metadata": {
        "id": "BS-8eKyn3dVC"
      },
      "source": [
        "### Definition of the DecisionTree class (Gini impurity based) "
      ]
    },
    {
      "cell_type": "code",
      "metadata": {
        "id": "5sfZLRV43hoi"
      },
      "source": [
        "class Node:\n",
        "    def __init__(self):\n",
        "        self.split = None\n",
        "        self.feature_values = None\n",
        "        self.leaf = False\n",
        "        self.left = None\n",
        "        self.right = None\n",
        "        self.result = None\n",
        "        self.gini = 0\n",
        "        self.data = None\n",
        "        self.level=0\n",
        "        \n",
        "    def __repr__(self):\n",
        "        return '['+self.split+'  '+str(self.feature)+']'\n",
        "\n",
        "class DecisionTree:\n",
        "    #takes data and target column\n",
        "    def __init__(self,data,target='def_pay',depth=None,v=0):\n",
        "        self.data = data\n",
        "        self.target = target\n",
        "        self.root = None\n",
        "        self.depth = depth\n",
        "        self.v = v\n",
        "        \n",
        "    #This helper function calculates gini index of the dataset\n",
        "    def giniIndex(dset,target):\n",
        "        return 1-(len(dset[dset[target]==True])/len(dset))**2-(len(dset[dset[target]==False])/len(dset))**2\n",
        "     \n",
        "    #This method builds the Decision tree\n",
        "    def build(self,data,level=0):\n",
        "        if self.v==1:\n",
        "            print('======================================')\n",
        "            print('Building Tree for the data')\n",
        "            print('======================================')\n",
        "            print(data)\n",
        "        left_dataset = None\n",
        "        right_dataset = None\n",
        "        min_gini = np.inf\n",
        "        best_feature = None\n",
        "        feature_values = None\n",
        "        \n",
        "        gini = len(data)*DecisionTree.giniIndex(data,self.target)\n",
        "        if self.v==1:\n",
        "            print('GiniIndex for total data = ',gini)\n",
        "        node = Node()\n",
        "        node.data = data\n",
        "        node.level = level\n",
        "        node.gini = gini\n",
        "        \n",
        "        if self.depth is not None and level==self.depth:\n",
        "            node.leaf = True\n",
        "            node.result = len(data[data[self.target]==True])>=len(data[data[self.target]==False])\n",
        "            return node\n",
        "        \n",
        "        #If there is no impurity in this data, make it a leaf node\n",
        "        if gini==0:\n",
        "            if self.v==1:\n",
        "                print('The data is pure, no split is needed ')\n",
        "            node.gini=0\n",
        "            node.leaf = True\n",
        "            node.result = len(data[data[self.target]==True])>=len(data[data[self.target]==False])\n",
        "            return node\n",
        "            \n",
        "        \n",
        "        for feature in data.columns:\n",
        "            #We need not split on target column\n",
        "            if feature == self.target:\n",
        "                continue\n",
        "            \n",
        "            #Find all unique values for the feauture\n",
        "            unique = data[feature].unique()\n",
        "            if self.v==1:\n",
        "                print('________________________________________________________')\n",
        "                print('Evaluating all possible splits for the feature \"',feature,'\"')\n",
        "                print('________________________________________________________')\n",
        "                print('All the values for this feature are ',unique)\n",
        "            \n",
        "            #Initialize gini, left and right datasets and best feature values\n",
        "            tmngini = np.inf\n",
        "            tldset = None\n",
        "            trdset = None\n",
        "            tbftr = None\n",
        "\n",
        "            #We can't split based on a single value,There must be atleast 2 unique values to be able to split\n",
        "            if len(unique)==1:\n",
        "                print('Ignoring this feature as it has only a single unique value')\n",
        "                continue\n",
        "            \n",
        "            #To find the best values for split on the given feature\n",
        "            for st in range(1,2**len(unique)-1):\n",
        "                \n",
        "                lvals = [unique[x] for x in [t[0] for t in enumerate(list(bin(st)[2:])[::-1]) if t[1]=='1']]\n",
        "                #Find left data set\n",
        "                lset = data[data[feature].isin(lvals)]\n",
        "                rvals = list(set(unique)-set(lvals))\n",
        "                #Find right data set\n",
        "                rset = data[data[feature].isin(rvals)]\n",
        "                #Avoid dealing with duplicate sets\n",
        "                if len(lvals)>len(rvals):\n",
        "                    continue\n",
        "                #Find gini index for left split\n",
        "                lgini = DecisionTree.giniIndex(lset,self.target)\n",
        "                #Find gini impurity for right split\n",
        "                rgini = DecisionTree.giniIndex(rset,self.target)\n",
        "                #Find the total weighted gini. \n",
        "                tgini = len(lset)*lgini+len(rset)*rgini\n",
        "                if self.v==1:                    \n",
        "                    print(' ******************************************')\n",
        "                    print(' ***** split based on values ',lvals,'*****')\n",
        "                    print(' ******************************************')\n",
        "                    print('-----------------------')\n",
        "                    print('Left dataset')\n",
        "                    print('-----------------------')\n",
        "                    print(lset)\n",
        "                    print('-----------------------')\n",
        "                    print('Right dataset')\n",
        "                    print('-----------------------')\n",
        "                    print(rset)\n",
        "                    print('Weighted Gini for this split ',tgini)\n",
        "                #Update minimum gini\n",
        "                if tgini<tmngini:\n",
        "                    tmngini=tgini\n",
        "                    tldset = lset\n",
        "                    trdset = rset\n",
        "                    tbftr = lvals\n",
        "            if self.v==1:\n",
        "                print('Best gini for ',feature,' is ',tmngini)\n",
        "                \n",
        "            #Update minimum gini\n",
        "            if tmngini<min_gini:\n",
        "                min_gini = tmngini\n",
        "                left_dataset = tldset\n",
        "                right_dataset = trdset\n",
        "                feature_values = tbftr\n",
        "                best_feature = feature\n",
        "                \n",
        "        #No improvement in gini value after split, Make it as leaf node\n",
        "        if min_gini>tmngini:\n",
        "            node.leaf = True\n",
        "            node.result = len(data[data[self.target]])>len(data[data[self.target]])\n",
        "            return node\n",
        "            \n",
        "        node.min_gini= min_gini\n",
        "        node.feature_values = feature_values\n",
        "        node.split = best_feature\n",
        "        if self.v==1:\n",
        "            print('Best split is \"',best_feature,'\" values are ',feature_values,' and GiniIndex is ',min_gini)\n",
        "        \n",
        "        #Build tree for left dataset\n",
        "        if left_dataset is not None:\n",
        "            node.left = self.build(left_dataset,level+1)\n",
        "            \n",
        "        #Build tree for right dataset\n",
        "        if right_dataset is not None:\n",
        "            node.right = self.build(right_dataset,level+1)\n",
        "            \n",
        "        #If both the trees are not built, it has to be leaf\n",
        "        if node.left==None and node.right==None:\n",
        "            node.leaf = True\n",
        "        \n",
        "        return node        \n",
        "        \n",
        "    \n",
        "    def fit(self):\n",
        "        self.root = self.build(data)\n",
        "        return self.root\n",
        "        \n",
        "    def __predict__(self,s,root):\n",
        "        if root is None:\n",
        "            return False\n",
        "        if root.leaf:\n",
        "            return root.result\n",
        "        if s[root.split] in root.feature_values:\n",
        "            return self.__predict__(s,root.left)\n",
        "        return self.__predict__(s,root.right)\n",
        "        \n",
        "        \n",
        "    def predict(self,s):\n",
        "        return self.__predict__(s,self.root)"
      ],
      "execution_count": 59,
      "outputs": []
    },
    {
      "cell_type": "markdown",
      "metadata": {
        "id": "8qpJfqG653jC"
      },
      "source": [
        "### Test the tree and get accuracy"
      ]
    },
    {
      "cell_type": "code",
      "metadata": {
        "colab": {
          "base_uri": "https://localhost:8080/"
        },
        "id": "mSSP_4Zn3PxQ",
        "outputId": "64757eaa-d948-40a2-bd27-32c17a0d024f"
      },
      "source": [
        "tree = DecisionTree(d_data,'def_pay',depth=None,v=1)\n",
        "score = 0\n",
        "for i in range(len(data)):\n",
        "  pred = tree.predict(data.loc[i])\n",
        "  if pred and data.loc[i].def_pay:\n",
        "    score+=1\n",
        "  elif not pred and not data.loc[i].def_pay:\n",
        "    score+=1\n",
        "print('Accuracy on training data is ',(score*100/len(data)), \"%\")"
      ],
      "execution_count": 61,
      "outputs": [
        {
          "output_type": "stream",
          "text": [
            "Accuracy on training data is  77.88 %\n"
          ],
          "name": "stdout"
        }
      ]
    },
    {
      "cell_type": "markdown",
      "metadata": {
        "id": "rr10NaVg5_lw"
      },
      "source": [
        "#### Observation: We obtained an accuracy of 77.8% using the custom decision tree classifier, sklearn decision tree gives 79% accuracy on the same data."
      ]
    },
    {
      "cell_type": "markdown",
      "metadata": {
        "id": "6s3ysrIt7AJz"
      },
      "source": [
        "## 3.2 Clustering via a custom KMeans implementation"
      ]
    },
    {
      "cell_type": "markdown",
      "metadata": {
        "id": "CPsNnX7tQqE5"
      },
      "source": [
        "###Definition of KMeans class"
      ]
    },
    {
      "cell_type": "code",
      "metadata": {
        "id": "u7Tde6pTMg39"
      },
      "source": [
        "#K-Means Clustering algo \n",
        "'''\n",
        "Initialize centroids\n",
        "\n",
        "Enter loop\n",
        "\n",
        "    Stash copy of old centroids\n",
        "    Calculate distance from each data point to centroid\n",
        "    Assign each data point to cluster with closest mean\n",
        "    Calculate the new means of each cluster\n",
        "    Update the centroids\n",
        "\n",
        "Continue until centroids converge\n",
        "'''\n",
        "\n",
        "class KMeans:\n",
        "    \"\"\"The k-means algorithm.\"\"\"\n",
        "\n",
        "    def __init__(self, n_clusters):\n",
        "        self.data = pd.DataFrame()\n",
        "        self.n_clusters = n_clusters\n",
        "        self.centroids = pd.DataFrame()\n",
        "        self.clusters = np.ndarray(1)\n",
        "        self.old_centroids = pd.DataFrame()\n",
        "        self.verbose = False\n",
        "        self.predictions = list()\n",
        "\n",
        "    def train(self, df, verbose):\n",
        "        self.verbose = verbose\n",
        "        self.data = df.copy(deep=True)\n",
        "        self.clusters = np.zeros(len(self.data))\n",
        "\n",
        "        # Randomly initialize centroids\n",
        "        unique_rows = self.data.drop_duplicates()\n",
        "        unique_rows.reset_index(drop=True, inplace=True)\n",
        "        self.centroids = unique_rows.sample(n=self.n_clusters)\n",
        "        self.centroids.reset_index(drop=True, inplace=True)\n",
        "\n",
        "        if self.verbose:\n",
        "            print(\"\\nRandomly initiated centroids:\")\n",
        "            print(self.centroids)\n",
        "\n",
        "        # Initialize old centroids as a matrix of all 0's\n",
        "        self.old_centroids = pd.DataFrame(np.zeros(shape=(self.n_clusters, self.data.shape[1])),\n",
        "                                          columns=self.data.columns)\n",
        "\n",
        "        # Compare every data point in our dataset to each of the k-means and assign each point to closest cluster\n",
        "        while not self.old_centroids.equals(self.centroids):\n",
        "            \n",
        "            if self.verbose:\n",
        "                time.sleep(3)\n",
        "\n",
        "            # Stash old centroids\n",
        "            self.old_centroids = self.centroids.copy(deep=True)\n",
        "\n",
        "            # Iterate through each data point in the matrix\n",
        "            for row_i in range(0, len(self.data)):\n",
        "                distances = list()\n",
        "                point = self.data.iloc[row_i]\n",
        "\n",
        "                # Calculate the distance between the current point and each of the centroids\n",
        "                for row_c in range(0, len(self.centroids)):\n",
        "                    centroid = self.centroids.iloc[row_c]\n",
        "                    distances.append(np.linalg.norm(point - centroid))\n",
        "\n",
        "                # Assign this data point to a cluster\n",
        "                self.clusters[row_i] = np.argmin(distances)\n",
        "\n",
        "            # For each cluster extract the values which now belong to each cluster and calculate new k-means\n",
        "            for cls in range(0, self.n_clusters):\n",
        "\n",
        "                cls_idx = np.where(self.clusters == cls)[0]\n",
        "\n",
        "                if len(cls_idx) == 0:\n",
        "                    self.centroids.loc[cls] = self.old_centroids.loc[cls]\n",
        "                else:\n",
        "                    # Set the new k-mean to the mean value of the data points within this cluster\n",
        "                    self.centroids.loc[cls] = self.data.iloc[cls_idx].mean()\n",
        "                    \n",
        "                if self.verbose:\n",
        "                    print(\"\\nRow indices belonging to cluster {}: [n={}]\".format(cls, len(cls_idx)))\n",
        "                    print(cls_idx)\n",
        "\n",
        "            if self.verbose:\n",
        "                print(\"\\nOld centroids:\")\n",
        "                print(self.old_centroids)\n",
        "                print(\"New centroids:\")\n",
        "                print(self.centroids)\n"
      ],
      "execution_count": 64,
      "outputs": []
    },
    {
      "cell_type": "code",
      "metadata": {
        "id": "FRdYVF2H8V1t"
      },
      "source": [
        "#Lets use only the independent features for clustering\n",
        "y_target = d_data['def_pay']\n",
        "x_features = d_data.drop('def_pay', axis=1)\n"
      ],
      "execution_count": 65,
      "outputs": []
    },
    {
      "cell_type": "markdown",
      "metadata": {
        "id": "L_joTRRJQz8J"
      },
      "source": [
        "###Test the KMeans class on discretized dataset"
      ]
    },
    {
      "cell_type": "markdown",
      "metadata": {
        "id": "2SPm43LdN8AP"
      },
      "source": [
        "***Please note that the KMeans on the given dataset which has 30000 observations takes around 8minutes to complete.***  \n",
        "Hence commenting the code to not mistaken that the notebook is not running.\n",
        "Retaining the output though."
      ]
    },
    {
      "cell_type": "code",
      "metadata": {
        "id": "r4gcFuo5OZNQ"
      },
      "source": [
        "##Run the KMeans algo now, custom algorithm is not production grade, hence it takes ~7minutes to run on this dataset.\n",
        "#number_of_clusters = 2\n",
        "#kmeans = KMeans(n_clusters=number_of_clusters)\n",
        "#kmeans.train(df=x_features, verbose=False)\n",
        "#data['cluster'] = kmeans.clusters"
      ],
      "execution_count": 66,
      "outputs": []
    },
    {
      "cell_type": "code",
      "metadata": {
        "colab": {
          "base_uri": "https://localhost:8080/",
          "height": 337
        },
        "id": "HDm9DTCLQwZw",
        "outputId": "5d13e95e-978e-4da6-c532-9095a65edb42"
      },
      "source": [
        "centroids = kmeans.centroids\n",
        "\n",
        "plt.subplots(figsize = (10,5))\n",
        "sns.countplot(x = data['def_pay'], order = data['def_pay'].value_counts().index,hue=data['cluster'])\n",
        "plt.show()"
      ],
      "execution_count": 67,
      "outputs": [
        {
          "output_type": "display_data",
          "data": {
            "image/png": "[encoded data removed]",
            "text/plain": [
              "<Figure size 720x360 with 1 Axes>"
            ]
          },
          "metadata": {
            "tags": [],
            "needs_background": "light"
          }
        }
      ]
    },
    {
      "cell_type": "markdown",
      "metadata": {
        "id": "K3Bu0Nf3QXr_"
      },
      "source": [
        "***Please note that the Pairplot on the given dataset which has 30000 observations takes around 1minute to complete.***  \n",
        "Hence commenting the code to not mistaken that the notebook is not running.\n",
        "Retaining the output though."
      ]
    },
    {
      "cell_type": "code",
      "metadata": {
        "colab": {
          "base_uri": "https://localhost:8080/",
          "height": 726
        },
        "id": "PILKDfoIQCLo",
        "outputId": "d0733bc2-5763-402f-d0f7-156fb8172fd6"
      },
      "source": [
        "#sns.pairplot(data, hue='cluster', vars=['D_BILL_AMT1', 'D_PAY_2', 'D_PAY_AMT1', 'D_LIMIT_BAL']) ## Plot pairwise relationships in a dataset\n",
        "#plt.show()"
      ],
      "execution_count": 68,
      "outputs": [
        {
          "output_type": "display_data",
          "data": {
            "image/png": "[encoded data removed]",
            "text/plain": [
              "<Figure size 771.875x720 with 20 Axes>"
            ]
          },
          "metadata": {
            "tags": [],
            "needs_background": "light"
          }
        }
      ]
    },
    {
      "cell_type": "markdown",
      "metadata": {
        "id": "s74KqyOEQDA9"
      },
      "source": [
        "***Inference***: The derived clusters show commonality for most of the payement and bill amount metrics, the number of users with lesser balance limit are sigificantly more and so is the case with number of payment amount's. Client can initiate a business campain to convert and selectively increase the balance limit of good customers with lesser pay dues to encourage higher spends thus promoting more usage of credit cards.  \n",
        "\n",
        "**Correlating the results with EDA we can conclude that** - The strongest predictors of default are the PAY_1 (ie the repayment status in previous months), the LIMIT_BAL & the PAY_AMT1 (amount paid in previous months).\n",
        "\n",
        "Demographics: we see that being Female, More educated, Single and between 30-40years old means a customer is more likely to make payments on time, the credit card company can increase their balance limit and encourage them to spend more.\n"
      ]
    }
  ]
}